{
  "nbformat": 4,
  "nbformat_minor": 0,
  "metadata": {
    "colab": {
      "name": "Boosters-experiments-part2.ipynb",
      "provenance": [],
      "include_colab_link": true
    },
    "kernelspec": {
      "name": "python3",
      "display_name": "Python 3"
    },
    "accelerator": "GPU"
  },
  "cells": [
    {
      "cell_type": "markdown",
      "metadata": {
        "id": "view-in-github",
        "colab_type": "text"
      },
      "source": [
        "<a href=\"https://colab.research.google.com/github/xelav/boosters-digital-reputation/blob/master/Boosters_experiments_part2.ipynb\" target=\"_parent\"><img src=\"https://colab.research.google.com/assets/colab-badge.svg\" alt=\"Open In Colab\"/></a>"
      ]
    },
    {
      "cell_type": "code",
      "metadata": {
        "id": "v73wQGYaExHT",
        "colab_type": "code",
        "outputId": "5b971458-4015-401b-ea8a-7bd50c3b71b1",
        "colab": {
          "base_uri": "https://localhost:8080/",
          "height": 306
        }
      },
      "source": [
        "from google.colab import drive\n",
        "drive.mount('/content/drive', force_remount=False)\n",
        "\"\"\n",
        "root_dir = \"/content/drive/My Drive/boosters\"\n",
        "%cd \"{root_dir}\"\n",
        "!pip install catboost"
      ],
      "execution_count": 0,
      "outputs": [
        {
          "output_type": "stream",
          "text": [
            "Mounted at /content/drive\n",
            "/content/drive/My Drive/boosters\n",
            "Requirement already satisfied: catboost in /usr/local/lib/python3.6/dist-packages (0.17.4)\n",
            "Requirement already satisfied: numpy>=1.16.0 in /usr/local/lib/python3.6/dist-packages (from catboost) (1.16.5)\n",
            "Requirement already satisfied: scipy in /usr/local/lib/python3.6/dist-packages (from catboost) (1.3.1)\n",
            "Requirement already satisfied: matplotlib in /usr/local/lib/python3.6/dist-packages (from catboost) (3.0.3)\n",
            "Requirement already satisfied: graphviz in /usr/local/lib/python3.6/dist-packages (from catboost) (0.10.1)\n",
            "Requirement already satisfied: six in /usr/local/lib/python3.6/dist-packages (from catboost) (1.12.0)\n",
            "Requirement already satisfied: plotly in /usr/local/lib/python3.6/dist-packages (from catboost) (4.1.1)\n",
            "Requirement already satisfied: pandas>=0.24.0 in /usr/local/lib/python3.6/dist-packages (from catboost) (0.24.2)\n",
            "Requirement already satisfied: python-dateutil>=2.1 in /usr/local/lib/python3.6/dist-packages (from matplotlib->catboost) (2.5.3)\n",
            "Requirement already satisfied: kiwisolver>=1.0.1 in /usr/local/lib/python3.6/dist-packages (from matplotlib->catboost) (1.1.0)\n",
            "Requirement already satisfied: cycler>=0.10 in /usr/local/lib/python3.6/dist-packages (from matplotlib->catboost) (0.10.0)\n",
            "Requirement already satisfied: pyparsing!=2.0.4,!=2.1.2,!=2.1.6,>=2.0.1 in /usr/local/lib/python3.6/dist-packages (from matplotlib->catboost) (2.4.2)\n",
            "Requirement already satisfied: retrying>=1.3.3 in /usr/local/lib/python3.6/dist-packages (from plotly->catboost) (1.3.3)\n",
            "Requirement already satisfied: pytz>=2011k in /usr/local/lib/python3.6/dist-packages (from pandas>=0.24.0->catboost) (2018.9)\n",
            "Requirement already satisfied: setuptools in /usr/local/lib/python3.6/dist-packages (from kiwisolver>=1.0.1->matplotlib->catboost) (41.2.0)\n"
          ],
          "name": "stdout"
        }
      ]
    },
    {
      "cell_type": "markdown",
      "metadata": {
        "id": "g0lgTEcEp5MT",
        "colab_type": "text"
      },
      "source": [
        "# Prapare data"
      ]
    },
    {
      "cell_type": "code",
      "metadata": {
        "id": "l6-Lonl4F9pS",
        "colab_type": "code",
        "colab": {}
      },
      "source": [
        "import matplotlib.pyplot as plt\n",
        "import numpy as np\n",
        "import pandas as pd\n",
        "import seaborn as sns\n",
        "from IPython.display import display\n",
        "from scipy import sparse, stats\n",
        "from scipy.linalg import svd\n",
        "from sklearn import preprocessing\n",
        "from sklearn.decomposition import TruncatedSVD\n",
        "from sklearn.ensemble import RandomForestClassifier\n",
        "from sklearn.metrics import f1_score, roc_auc_score\n",
        "from sklearn.model_selection import (KFold, StratifiedKFold, cross_val_score,\n",
        "                                     cross_validate, train_test_split)\n",
        "from sklearn.ensemble import VotingClassifier\n",
        "\n",
        "from tqdm import tqdm\n",
        "from catboost import CatBoostClassifier\n",
        "\n",
        "import datetime\n",
        "import json\n",
        "import pickle\n",
        "import copy\n",
        "\n",
        "from sklearn.model_selection import train_test_split\n",
        "from catboost import Pool\n",
        "from catboost import cv as catboost_cv\n",
        "from scipy import sparse\n",
        "\n",
        "import xgboost as xgb\n",
        "from sklearn.discriminant_analysis import LinearDiscriminantAnalysis\n",
        "from sklearn.decomposition import PCA\n",
        "import lightgbm as lgb"
      ],
      "execution_count": 0,
      "outputs": []
    },
    {
      "cell_type": "code",
      "metadata": {
        "id": "rwksDQp4G9-w",
        "colab_type": "code",
        "colab": {}
      },
      "source": [
        "TRAIN_PATH = 'train/'\n",
        "TEST_PATH = 'test/'\n",
        "\n",
        "X1 = pd.read_csv(TRAIN_PATH + 'X1.csv')\n",
        "X2 = pd.read_csv(TRAIN_PATH + 'X2.csv')\n",
        "X3 = pd.read_csv(TRAIN_PATH + 'X3.csv')\n",
        "\n",
        "Y = pd.read_csv(TRAIN_PATH + 'Y.csv')\n",
        "\n",
        "X1_test = pd.read_csv(TEST_PATH + 'X1.csv')\n",
        "X2_test = pd.read_csv(TEST_PATH + 'X2.csv')\n",
        "X3_test = pd.read_csv(TEST_PATH + 'X3.csv')"
      ],
      "execution_count": 0,
      "outputs": []
    },
    {
      "cell_type": "code",
      "metadata": {
        "id": "IVo7Ff6F_aoX",
        "colab_type": "code",
        "colab": {}
      },
      "source": [
        "def get_x2_summed(X2):\n",
        "    rows, row_pos = np.unique(X2.iloc[:, 0], return_inverse=True)\n",
        "    cols, col_pos = np.unique(X2.iloc[:, 1], return_inverse=True)\n",
        "    sparse_matrix = sparse.csr_matrix((len(rows), len(cols)))\n",
        "\n",
        "    sparse_matrix[row_pos, col_pos] = 1\n",
        "\n",
        "    return np.squeeze(np.asarray(sparse_matrix.sum(axis=1)))\n",
        "\n",
        "# X1['X2_summed'] = get_x2_summed(X2)\n",
        "# X1_test['X2_summed'] = get_x2_summed(X2_test)"
      ],
      "execution_count": 0,
      "outputs": []
    },
    {
      "cell_type": "code",
      "metadata": {
        "id": "kPe2hWGzHQCy",
        "colab_type": "code",
        "outputId": "e2a6d2aa-8799-466a-c476-c008d2058e6d",
        "colab": {
          "base_uri": "https://localhost:8080/",
          "height": 303
        }
      },
      "source": [
        "def transform_x2(X2, svd=None):\n",
        "    rows, row_pos = np.unique(X2.iloc[:, 0], return_inverse=True)\n",
        "    cols, col_pos = np.unique(X2.iloc[:, 1], return_inverse=True)\n",
        "    \n",
        "    sparse_matrix = sparse.csr_matrix((len(rows), len(cols)))\n",
        "\n",
        "    sparse_matrix[row_pos, col_pos] = 1\n",
        "\n",
        "    cols_ = sparse_matrix.sum(axis=0)\n",
        "    rows_ = sparse_matrix.sum(axis=1)\n",
        "\n",
        "    minimum_users_per_group = 5\n",
        "    selected_cols = cols_ >= minimum_users_per_group\n",
        "    trimmed_sparse_matrix = sparse_matrix[:, np.squeeze(np.asarray(selected_cols))]\n",
        "\n",
        "    sns.distplot(trimmed_sparse_matrix.sum(axis=0), bins=100)\n",
        "\n",
        "    if svd is None:\n",
        "        svd = TruncatedSVD(n_components=150)\n",
        "        svd.fit(trimmed_sparse_matrix)\n",
        "\n",
        "    components = pd.DataFrame(svd.transform(trimmed_sparse_matrix))\n",
        "    components['id'] = X2.iloc[:, 0].unique()\n",
        "    X2 = components\n",
        "    X2_summed = np.squeeze(np.asarray(sparse_matrix.sum(axis=1)))\n",
        "    return X2, X2_summed, svd\n",
        "\n",
        "X2_all = X2.append(X2_test)\n",
        "X2_all, X2_summed, svd = transform_x2(X2_all)\n",
        "\n",
        "X2_tranformed = X2_all[X2_all.id.isin(X1.id)]\n",
        "df = X1.merge(X2, on='id', how='inner').merge(X3, on='id').merge(Y, on='id')\n",
        "X = df.iloc[:, :-5]\n",
        "X = X.drop('id', axis=1)\n",
        "Y_cls = df.iloc[:, -5:]\n",
        "\n",
        "X2_tranformed_test = X2_all[X2_all.id.isin(X1_test.id)]\n",
        "df_test = X1_test.merge(X2_test, on='id', how='inner').merge(X3_test, on='id')\n",
        "X_submit = df_test"
      ],
      "execution_count": 0,
      "outputs": [
        {
          "output_type": "stream",
          "text": [
            "/usr/local/lib/python3.6/dist-packages/scipy/sparse/_index.py:127: SparseEfficiencyWarning: Changing the sparsity structure of a csr_matrix is expensive. lil_matrix is more efficient.\n",
            "  self._set_arrayXarray(i, j, x)\n"
          ],
          "name": "stderr"
        },
        {
          "output_type": "display_data",
          "data": {
            "image/png": "[encoded data removed]",
            "text/plain": [
              "<Figure size 432x288 with 1 Axes>"
            ]
          },
          "metadata": {
            "tags": []
          }
        }
      ]
    },
    {
      "cell_type": "code",
      "metadata": {
        "id": "v-_Uo9_fvk6a",
        "colab_type": "code",
        "colab": {}
      },
      "source": [
        "def validate(estimator, X_train, y_train, random_state=None, n_folds=5):\n",
        "\n",
        "    cv = KFold(n_splits=n_folds, shuffle=False, random_state=random_state)\n",
        "    cv_iter = list(cv.split(X_train, y_train))\n",
        "\n",
        "    scores=[]\n",
        "    for train, test in tqdm(cv_iter):\n",
        "        estimator.fit(X_train[train, :], y_train[train],\n",
        "                        # eval_set=(X_train[test, :], y_train[test])\n",
        "                        )\n",
        "        pred_statement = estimator.predict_proba(X_train[test, :])[:, 1]\n",
        "        metric = roc_auc_score(y_train[test], pred_statement)\n",
        "        print(metric)\n",
        "        scores.append(metric)\n",
        "    return np.array(scores)"
      ],
      "execution_count": 0,
      "outputs": []
    },
    {
      "cell_type": "code",
      "metadata": {
        "id": "MJFt-gOUZ3BK",
        "colab_type": "code",
        "colab": {}
      },
      "source": [
        "def make_predictions(estimator, exp_name, X_train, Y_train, X_test):\n",
        "    probas = []\n",
        "\n",
        "    for i in tqdm('12345'):\n",
        "\n",
        "        # X_train = X1.merge(Y, on='id', suffixes=('', '_y'),).iloc[:, :-5].drop('id', axis=1).values\n",
        "        y = Y_train[i].values\n",
        "\n",
        "        estimator.fit(X_train, y)\n",
        "        proba = estimator.predict_proba(X_test)[:, 1]\n",
        "\n",
        "        probas.append(proba)\n",
        "\n",
        "    tmp = pd.DataFrame(probas).T\n",
        "    baseline = pd.DataFrame(tmp.values, columns=['1', '2', '3', '4', '5'])\n",
        "    baseline['id'] = X1_test['id']\n",
        "    baseline[['id', '1', '2', '3', '4', '5']].to_csv(exp_name+'.csv', index=False)"
      ],
      "execution_count": 0,
      "outputs": []
    },
    {
      "cell_type": "markdown",
      "metadata": {
        "id": "jBMLkhfBJo7b",
        "colab_type": "text"
      },
      "source": [
        "## Simple catboost"
      ]
    },
    {
      "cell_type": "code",
      "metadata": {
        "id": "cLh_095daznl",
        "colab_type": "code",
        "outputId": "78a9b23a-3295-4df7-aad5-275c4d018a58",
        "colab": {
          "base_uri": "https://localhost:8080/",
          "height": 1000
        }
      },
      "source": [
        "params = {}\n",
        "params['n_estimators'] = 1000\n",
        "params['l2_leaf_reg'] = 30\n",
        "params['learning_rate'] = 0.0005\n",
        "params['depth'] = 1\n",
        "\n",
        "clf = CatBoostClassifier(verbose=100, task_type=\"GPU\", eval_metric=\"AUC\",\n",
        "                         loss_function='CrossEntropy', use_best_model=False, **params)\n",
        "\n",
        "results = cross_validation_score_statement(clf, X, Y['1'], scoring=roc_auc_score)\n",
        "print(results)\n",
        "print(results.mean())"
      ],
      "execution_count": 0,
      "outputs": [
        {
          "output_type": "stream",
          "text": [
            "0:\tlearn: 0.4997743\ttest: 0.5000000\tbest: 0.5000000 (0)\ttotal: 39.9ms\tremaining: 39.8s\n",
            "100:\tlearn: 0.6143574\ttest: 0.5789550\tbest: 0.5796110 (88)\ttotal: 3.89s\tremaining: 34.6s\n",
            "200:\tlearn: 0.6195948\ttest: 0.5782380\tbest: 0.5796110 (88)\ttotal: 7.83s\tremaining: 31.1s\n",
            "300:\tlearn: 0.6206247\ttest: 0.5783181\tbest: 0.5806369 (266)\ttotal: 11.9s\tremaining: 27.6s\n",
            "400:\tlearn: 0.6226978\ttest: 0.5781922\tbest: 0.5806369 (266)\ttotal: 15.8s\tremaining: 23.6s\n",
            "500:\tlearn: 0.6229277\ttest: 0.5787147\tbest: 0.5806369 (266)\ttotal: 19.7s\tremaining: 19.6s\n",
            "600:\tlearn: 0.6235341\ttest: 0.5804806\tbest: 0.5807933 (586)\ttotal: 23.5s\tremaining: 15.6s\n",
            "700:\tlearn: 0.6230668\ttest: 0.5818993\tbest: 0.5823036 (689)\ttotal: 27.4s\tremaining: 11.7s\n",
            "800:\tlearn: 0.6232650\ttest: 0.5812624\tbest: 0.5823036 (689)\ttotal: 31.3s\tremaining: 7.77s\n",
            "900:\tlearn: 0.6232187\ttest: 0.5821739\tbest: 0.5823036 (689)\ttotal: 35.2s\tremaining: 3.87s\n",
            "999:\tlearn: 0.6232911\ttest: 0.5823570\tbest: 0.5829367 (974)\ttotal: 39s\tremaining: 0us\n",
            "bestTest = 0.5829367042\n",
            "bestIteration = 974\n",
            "0:\tlearn: 0.4997760\ttest: 0.5000000\tbest: 0.5000000 (0)\ttotal: 31.3ms\tremaining: 31.3s\n",
            "100:\tlearn: 0.6087363\ttest: 0.6173430\tbest: 0.6191587 (78)\ttotal: 3.31s\tremaining: 29.5s\n",
            "200:\tlearn: 0.6115478\ttest: 0.6219883\tbest: 0.6247630 (151)\ttotal: 6.84s\tremaining: 27.2s\n",
            "300:\tlearn: 0.6111303\ttest: 0.6224861\tbest: 0.6247630 (151)\ttotal: 10.8s\tremaining: 25.1s\n",
            "400:\tlearn: 0.6122200\ttest: 0.6213989\tbest: 0.6247630 (151)\ttotal: 14.8s\tremaining: 22.2s\n",
            "500:\tlearn: 0.6148046\ttest: 0.6210475\tbest: 0.6247630 (151)\ttotal: 18.8s\tremaining: 18.8s\n",
            "600:\tlearn: 0.6151072\ttest: 0.6215307\tbest: 0.6247630 (151)\ttotal: 22.7s\tremaining: 15.1s\n",
            "700:\tlearn: 0.6165067\ttest: 0.6213880\tbest: 0.6247630 (151)\ttotal: 26.5s\tremaining: 11.3s\n",
            "800:\tlearn: 0.6162463\ttest: 0.6209340\tbest: 0.6247630 (151)\ttotal: 30.4s\tremaining: 7.55s\n",
            "900:\tlearn: 0.6160209\ttest: 0.6205240\tbest: 0.6247630 (151)\ttotal: 34.3s\tremaining: 3.77s\n",
            "999:\tlearn: 0.6162965\ttest: 0.6196748\tbest: 0.6247630 (151)\ttotal: 38.1s\tremaining: 0us\n",
            "bestTest = 0.6247629821\n",
            "bestIteration = 151\n",
            "0:\tlearn: 0.4997752\ttest: 0.5000000\tbest: 0.5000000 (0)\ttotal: 32.6ms\tremaining: 32.5s\n",
            "100:\tlearn: 0.6080662\ttest: 0.5834322\tbest: 0.5834322 (100)\ttotal: 3.22s\tremaining: 28.6s\n",
            "200:\tlearn: 0.6134423\ttest: 0.5850133\tbest: 0.5875379 (152)\ttotal: 6.35s\tremaining: 25.2s\n",
            "300:\tlearn: 0.6132154\ttest: 0.5860351\tbest: 0.5875379 (152)\ttotal: 9.53s\tremaining: 22.1s\n",
            "400:\tlearn: 0.6136312\ttest: 0.5844539\tbest: 0.5875379 (152)\ttotal: 12.7s\tremaining: 19s\n",
            "500:\tlearn: 0.6141953\ttest: 0.5850953\tbest: 0.5875379 (152)\ttotal: 16s\tremaining: 15.9s\n",
            "600:\tlearn: 0.6143676\ttest: 0.5859978\tbest: 0.5875379 (152)\ttotal: 19.3s\tremaining: 12.8s\n",
            "700:\tlearn: 0.6156757\ttest: 0.5875193\tbest: 0.5875379 (152)\ttotal: 23s\tremaining: 9.82s\n",
            "800:\tlearn: 0.6157232\ttest: 0.5874895\tbest: 0.5877953 (724)\ttotal: 27s\tremaining: 6.7s\n",
            "900:\tlearn: 0.6161267\ttest: 0.5877207\tbest: 0.5884292 (864)\ttotal: 30.9s\tremaining: 3.39s\n",
            "999:\tlearn: 0.6163186\ttest: 0.5868555\tbest: 0.5884292 (864)\ttotal: 34.8s\tremaining: 0us\n",
            "bestTest = 0.5884292126\n",
            "bestIteration = 864\n",
            "0:\tlearn: 0.5006656\ttest: 0.4990859\tbest: 0.4990859 (0)\ttotal: 33.2ms\tremaining: 33.2s\n",
            "100:\tlearn: 0.6084437\ttest: 0.6038940\tbest: 0.6038940 (100)\ttotal: 3.21s\tremaining: 28.6s\n",
            "200:\tlearn: 0.6126691\ttest: 0.5999884\tbest: 0.6045263 (116)\ttotal: 6.36s\tremaining: 25.3s\n",
            "300:\tlearn: 0.6123908\ttest: 0.5977412\tbest: 0.6045263 (116)\ttotal: 9.54s\tremaining: 22.1s\n",
            "400:\tlearn: 0.6129698\ttest: 0.5980158\tbest: 0.6045263 (116)\ttotal: 12.7s\tremaining: 19s\n",
            "500:\tlearn: 0.6134254\ttest: 0.5999379\tbest: 0.6045263 (116)\ttotal: 15.9s\tremaining: 15.8s\n",
            "600:\tlearn: 0.6127504\ttest: 0.5993273\tbest: 0.6045263 (116)\ttotal: 19s\tremaining: 12.6s\n",
            "700:\tlearn: 0.6136447\ttest: 0.6001691\tbest: 0.6045263 (116)\ttotal: 22.1s\tremaining: 9.44s\n",
            "800:\tlearn: 0.6133098\ttest: 0.6005376\tbest: 0.6045263 (116)\ttotal: 25.3s\tremaining: 6.28s\n",
            "900:\tlearn: 0.6134703\ttest: 0.6005304\tbest: 0.6045263 (116)\ttotal: 28.4s\tremaining: 3.12s\n",
            "999:\tlearn: 0.6142935\ttest: 0.6020984\tbest: 0.6045263 (116)\ttotal: 31.6s\tremaining: 0us\n",
            "bestTest = 0.6045263112\n",
            "bestIteration = 116\n",
            "0:\tlearn: 0.5010790\ttest: 0.4966174\tbest: 0.4966174 (0)\ttotal: 32.3ms\tremaining: 32.2s\n",
            "100:\tlearn: 0.6071969\ttest: 0.5940353\tbest: 0.6015526 (26)\ttotal: 3.17s\tremaining: 28.2s\n",
            "200:\tlearn: 0.6135258\ttest: 0.5984488\tbest: 0.6015526 (26)\ttotal: 6.37s\tremaining: 25.3s\n",
            "300:\tlearn: 0.6142937\ttest: 0.6004740\tbest: 0.6015526 (26)\ttotal: 9.54s\tremaining: 22.2s\n",
            "400:\tlearn: 0.6158768\ttest: 0.6021030\tbest: 0.6047885 (353)\ttotal: 12.7s\tremaining: 19s\n",
            "500:\tlearn: 0.6159224\ttest: 0.6048582\tbest: 0.6050710 (446)\ttotal: 15.8s\tremaining: 15.8s\n",
            "600:\tlearn: 0.6146082\ttest: 0.6036806\tbest: 0.6051444 (509)\ttotal: 19s\tremaining: 12.6s\n",
            "700:\tlearn: 0.6144865\ttest: 0.6009546\tbest: 0.6051444 (509)\ttotal: 22.2s\tremaining: 9.48s\n",
            "800:\tlearn: 0.6139569\ttest: 0.5993367\tbest: 0.6051444 (509)\ttotal: 25.4s\tremaining: 6.3s\n",
            "900:\tlearn: 0.6147299\ttest: 0.5997403\tbest: 0.6051444 (509)\ttotal: 28.5s\tremaining: 3.14s\n",
            "999:\tlearn: 0.6147222\ttest: 0.6030862\tbest: 0.6051444 (509)\ttotal: 31.6s\tremaining: 0us\n",
            "bestTest = 0.6051444113\n",
            "bestIteration = 509\n",
            "[0.58235698 0.6196748  0.58685551 0.60210563 0.6030862 ]\n",
            "0.5988158232236248\n"
          ],
          "name": "stdout"
        }
      ]
    },
    {
      "cell_type": "markdown",
      "metadata": {
        "id": "qk0c_xseuaTK",
        "colab_type": "text"
      },
      "source": [
        "## Leave only important features experiment"
      ]
    },
    {
      "cell_type": "code",
      "metadata": {
        "id": "-k1tV4BPk-bO",
        "colab_type": "code",
        "outputId": "a1f15c8d-7121-4f5b-a1d3-453ac4d3ab4c",
        "colab": {
          "base_uri": "https://localhost:8080/",
          "height": 425
        }
      },
      "source": [
        "clf = CatBoostClassifier(verbose=100, task_type=\"GPU\", eval_metric=\"AUC\",\n",
        "                         loss_function='CrossEntropy', use_best_model=False, **params)\n",
        "\n",
        "clf.fit(X.values, Y['1'].values)\n",
        "\n",
        "fea_imp = pd.DataFrame({'imp': clf.feature_importances_, 'col': cols})\n",
        "fea_imp = fea_imp.sort_values(['imp', 'col'], ascending=[True, False]).iloc[-30:]"
      ],
      "execution_count": 0,
      "outputs": [
        {
          "output_type": "stream",
          "text": [
            "0:\tlearn: 0.5000525\ttotal: 40.1ms\tremaining: 40.1s\n",
            "100:\tlearn: 0.6099467\ttotal: 3.9s\tremaining: 34.8s\n",
            "200:\tlearn: 0.6114708\ttotal: 7.71s\tremaining: 30.7s\n",
            "300:\tlearn: 0.6125335\ttotal: 11.5s\tremaining: 26.7s\n",
            "400:\tlearn: 0.6129431\ttotal: 15.3s\tremaining: 22.8s\n",
            "500:\tlearn: 0.6132775\ttotal: 18.9s\tremaining: 18.8s\n",
            "600:\tlearn: 0.6124242\ttotal: 22.6s\tremaining: 15s\n",
            "700:\tlearn: 0.6126498\ttotal: 26.3s\tremaining: 11.2s\n",
            "800:\tlearn: 0.6124891\ttotal: 30s\tremaining: 7.46s\n",
            "900:\tlearn: 0.6126898\ttotal: 33.7s\tremaining: 3.71s\n",
            "999:\tlearn: 0.6125666\ttotal: 37.4s\tremaining: 0us\n"
          ],
          "name": "stdout"
        },
        {
          "output_type": "error",
          "ename": "NameError",
          "evalue": "ignored",
          "traceback": [
            "\u001b[0;31m---------------------------------------------------------------------------\u001b[0m",
            "\u001b[0;31mNameError\u001b[0m                                 Traceback (most recent call last)",
            "\u001b[0;32m<ipython-input-19-5267be9feed1>\u001b[0m in \u001b[0;36m<module>\u001b[0;34m()\u001b[0m\n\u001b[1;32m      4\u001b[0m \u001b[0mclf\u001b[0m\u001b[0;34m.\u001b[0m\u001b[0mfit\u001b[0m\u001b[0;34m(\u001b[0m\u001b[0mX\u001b[0m\u001b[0;34m.\u001b[0m\u001b[0mvalues\u001b[0m\u001b[0;34m,\u001b[0m \u001b[0mY\u001b[0m\u001b[0;34m[\u001b[0m\u001b[0;34m'1'\u001b[0m\u001b[0;34m]\u001b[0m\u001b[0;34m.\u001b[0m\u001b[0mvalues\u001b[0m\u001b[0;34m)\u001b[0m\u001b[0;34m\u001b[0m\u001b[0;34m\u001b[0m\u001b[0m\n\u001b[1;32m      5\u001b[0m \u001b[0;34m\u001b[0m\u001b[0m\n\u001b[0;32m----> 6\u001b[0;31m \u001b[0mfea_imp\u001b[0m \u001b[0;34m=\u001b[0m \u001b[0mpd\u001b[0m\u001b[0;34m.\u001b[0m\u001b[0mDataFrame\u001b[0m\u001b[0;34m(\u001b[0m\u001b[0;34m{\u001b[0m\u001b[0;34m'imp'\u001b[0m\u001b[0;34m:\u001b[0m \u001b[0mclf\u001b[0m\u001b[0;34m.\u001b[0m\u001b[0mfeature_importances_\u001b[0m\u001b[0;34m,\u001b[0m \u001b[0;34m'col'\u001b[0m\u001b[0;34m:\u001b[0m \u001b[0mcols\u001b[0m\u001b[0;34m}\u001b[0m\u001b[0;34m)\u001b[0m\u001b[0;34m\u001b[0m\u001b[0;34m\u001b[0m\u001b[0m\n\u001b[0m\u001b[1;32m      7\u001b[0m \u001b[0mfea_imp\u001b[0m \u001b[0;34m=\u001b[0m \u001b[0mfea_imp\u001b[0m\u001b[0;34m.\u001b[0m\u001b[0msort_values\u001b[0m\u001b[0;34m(\u001b[0m\u001b[0;34m[\u001b[0m\u001b[0;34m'imp'\u001b[0m\u001b[0;34m,\u001b[0m \u001b[0;34m'col'\u001b[0m\u001b[0;34m]\u001b[0m\u001b[0;34m,\u001b[0m \u001b[0mascending\u001b[0m\u001b[0;34m=\u001b[0m\u001b[0;34m[\u001b[0m\u001b[0;32mTrue\u001b[0m\u001b[0;34m,\u001b[0m \u001b[0;32mFalse\u001b[0m\u001b[0;34m]\u001b[0m\u001b[0;34m)\u001b[0m\u001b[0;34m.\u001b[0m\u001b[0miloc\u001b[0m\u001b[0;34m[\u001b[0m\u001b[0;34m-\u001b[0m\u001b[0;36m30\u001b[0m\u001b[0;34m:\u001b[0m\u001b[0;34m]\u001b[0m\u001b[0;34m\u001b[0m\u001b[0;34m\u001b[0m\u001b[0m\n",
            "\u001b[0;31mNameError\u001b[0m: name 'cols' is not defined"
          ]
        }
      ]
    },
    {
      "cell_type": "code",
      "metadata": {
        "id": "P7MPf08nlhG4",
        "colab_type": "code",
        "outputId": "3e494c89-5d40-4e6e-f80d-2294d901c420",
        "colab": {
          "base_uri": "https://localhost:8080/",
          "height": 599
        }
      },
      "source": [
        "fea_imp = pd.DataFrame({'imp': clf.feature_importances_, 'col': X.columns})\n",
        "fea_imp = fea_imp.sort_values(['imp', 'col'], ascending=[True, False]).iloc[-50:]\n",
        "ax = fea_imp.plot(kind='barh', x='col', y='imp', figsize=(20, 10))\n",
        "ax.set_xscale('log')"
      ],
      "execution_count": 0,
      "outputs": [
        {
          "output_type": "display_data",
          "data": {
            "image/png": "[encoded data removed]",
            "text/plain": [
              "<Figure size 1440x720 with 1 Axes>"
            ]
          },
          "metadata": {
            "tags": []
          }
        }
      ]
    },
    {
      "cell_type": "code",
      "metadata": {
        "id": "MlML7qXOoKoC",
        "colab_type": "code",
        "colab": {}
      },
      "source": [
        "params = {}\n",
        "params['n_estimators'] = 1000\n",
        "params['l2_leaf_reg'] = 30\n",
        "params['learning_rate'] = 0.0005\n",
        "params['depth'] = 1\n",
        "\n",
        "clf = CatBoostClassifier(verbose=100, task_type=\"GPU\", eval_metric=\"AUC\",\n",
        "                         loss_function='CrossEntropy', use_best_model=False, **params)\n",
        "\n",
        "results = cross_validation_score_statement(clf, X_important, Y['1'], scoring=roc_auc_score)\n",
        "print(results)\n",
        "print(results.mean())"
      ],
      "execution_count": 0,
      "outputs": []
    },
    {
      "cell_type": "code",
      "metadata": {
        "id": "afO_tCMfqxZB",
        "colab_type": "code",
        "colab": {}
      },
      "source": [
        "X_submit_imp = X_submit[fea_imp[fea_imp['imp'] > 0.001].col]"
      ],
      "execution_count": 0,
      "outputs": []
    },
    {
      "cell_type": "code",
      "metadata": {
        "id": "QIQeRo7BqKXl",
        "colab_type": "code",
        "outputId": "a8db5030-9be7-4176-8809-574e84fcf4df",
        "colab": {
          "base_uri": "https://localhost:8080/",
          "height": 1000
        }
      },
      "source": [
        "probas = []\n",
        "scores = []\n",
        "for i in tqdm('12345'):\n",
        "    clf = CatBoostClassifier(verbose=100, task_type=\"GPU\", eval_metric=\"AUC\",\n",
        "                         loss_function='CrossEntropy', use_best_model=False, **params)\n",
        "    clf.fit(X_important.values, Y[i].values)\n",
        "    proba = clf.predict_proba(X_submit_imp.values)[:, 1]\n",
        "    probas += [proba]\n",
        "\n",
        "filename = '{}.csv'.format(datetime.datetime.now().strftime(\"%Y-%m-%d-%H%M\"))\n",
        "\n",
        "tmp = pd.DataFrame(probas).T\n",
        "baseline = pd.DataFrame(tmp.values, columns=['1', '2', '3', '4', '5'])\n",
        "baseline['id'] = X_submit['id']\n",
        "baseline[['id', '1', '2', '3', '4', '5']].to_csv(filename, index=False)"
      ],
      "execution_count": 0,
      "outputs": [
        {
          "output_type": "stream",
          "text": [
            "\n",
            "\n",
            "  0%|          | 0/5 [00:00<?, ?it/s]\u001b[A\u001b[A"
          ],
          "name": "stderr"
        },
        {
          "output_type": "stream",
          "text": [
            "0:\tlearn: 0.5025740\ttotal: 36ms\tremaining: 35.9s\n",
            "100:\tlearn: 0.6111721\ttotal: 3.58s\tremaining: 31.9s\n",
            "200:\tlearn: 0.6113486\ttotal: 7.12s\tremaining: 28.3s\n",
            "300:\tlearn: 0.6117551\ttotal: 10.6s\tremaining: 24.7s\n",
            "400:\tlearn: 0.6117372\ttotal: 14.2s\tremaining: 21.1s\n",
            "500:\tlearn: 0.6111163\ttotal: 17.7s\tremaining: 17.6s\n",
            "600:\tlearn: 0.6107603\ttotal: 21.2s\tremaining: 14.1s\n",
            "700:\tlearn: 0.6108807\ttotal: 24.8s\tremaining: 10.6s\n",
            "800:\tlearn: 0.6114823\ttotal: 28.5s\tremaining: 7.08s\n",
            "900:\tlearn: 0.6118979\ttotal: 32.1s\tremaining: 3.53s\n",
            "999:\tlearn: 0.6119606\ttotal: 35.6s\tremaining: 0us\n"
          ],
          "name": "stdout"
        },
        {
          "output_type": "stream",
          "text": [
            "\n",
            "\n",
            " 20%|██        | 1/5 [00:37<02:29, 37.44s/it]\u001b[A\u001b[A"
          ],
          "name": "stderr"
        },
        {
          "output_type": "stream",
          "text": [
            "0:\tlearn: 0.5095196\ttotal: 29.9ms\tremaining: 29.9s\n",
            "100:\tlearn: 0.5830205\ttotal: 2.99s\tremaining: 26.6s\n",
            "200:\tlearn: 0.5819819\ttotal: 6.27s\tremaining: 24.9s\n",
            "300:\tlearn: 0.5832503\ttotal: 9.81s\tremaining: 22.8s\n",
            "400:\tlearn: 0.5850928\ttotal: 13.3s\tremaining: 19.9s\n",
            "500:\tlearn: 0.5843042\ttotal: 16.9s\tremaining: 16.8s\n",
            "600:\tlearn: 0.5837253\ttotal: 20.4s\tremaining: 13.5s\n",
            "700:\tlearn: 0.5848657\ttotal: 23.9s\tremaining: 10.2s\n",
            "800:\tlearn: 0.5862822\ttotal: 27.5s\tremaining: 6.83s\n",
            "900:\tlearn: 0.5873440\ttotal: 31s\tremaining: 3.41s\n",
            "999:\tlearn: 0.5879870\ttotal: 34.5s\tremaining: 0us\n"
          ],
          "name": "stdout"
        },
        {
          "output_type": "stream",
          "text": [
            "\n",
            "\n",
            " 40%|████      | 2/5 [01:13<01:51, 37.10s/it]\u001b[A\u001b[A"
          ],
          "name": "stderr"
        },
        {
          "output_type": "stream",
          "text": [
            "0:\tlearn: 0.6020982\ttotal: 32.5ms\tremaining: 32.4s\n",
            "100:\tlearn: 0.6328336\ttotal: 2.96s\tremaining: 26.3s\n",
            "200:\tlearn: 0.6361703\ttotal: 5.91s\tremaining: 23.5s\n",
            "300:\tlearn: 0.6378378\ttotal: 8.82s\tremaining: 20.5s\n",
            "400:\tlearn: 0.6403879\ttotal: 11.7s\tremaining: 17.5s\n",
            "500:\tlearn: 0.6427887\ttotal: 14.6s\tremaining: 14.6s\n",
            "600:\tlearn: 0.6438600\ttotal: 17.6s\tremaining: 11.7s\n",
            "700:\tlearn: 0.6442480\ttotal: 20.7s\tremaining: 8.82s\n",
            "800:\tlearn: 0.6445465\ttotal: 24.1s\tremaining: 6s\n",
            "900:\tlearn: 0.6445772\ttotal: 27.7s\tremaining: 3.04s\n",
            "999:\tlearn: 0.6444422\ttotal: 31.2s\tremaining: 0us\n"
          ],
          "name": "stdout"
        },
        {
          "output_type": "stream",
          "text": [
            "\n",
            "\n",
            " 60%|██████    | 3/5 [01:46<01:11, 35.87s/it]\u001b[A\u001b[A"
          ],
          "name": "stderr"
        },
        {
          "output_type": "stream",
          "text": [
            "0:\tlearn: 0.4998935\ttotal: 29.9ms\tremaining: 29.9s\n",
            "100:\tlearn: 0.6188008\ttotal: 2.95s\tremaining: 26.2s\n",
            "200:\tlearn: 0.6189544\ttotal: 5.85s\tremaining: 23.3s\n",
            "300:\tlearn: 0.6213424\ttotal: 8.77s\tremaining: 20.4s\n",
            "400:\tlearn: 0.6230479\ttotal: 11.7s\tremaining: 17.5s\n",
            "500:\tlearn: 0.6229301\ttotal: 14.6s\tremaining: 14.5s\n",
            "600:\tlearn: 0.6230899\ttotal: 17.5s\tremaining: 11.6s\n",
            "700:\tlearn: 0.6222225\ttotal: 20.4s\tremaining: 8.72s\n",
            "800:\tlearn: 0.6228997\ttotal: 23.3s\tremaining: 5.8s\n",
            "900:\tlearn: 0.6233216\ttotal: 26.4s\tremaining: 2.9s\n",
            "999:\tlearn: 0.6228049\ttotal: 29.5s\tremaining: 0us\n"
          ],
          "name": "stdout"
        },
        {
          "output_type": "stream",
          "text": [
            "\n",
            "\n",
            " 80%|████████  | 4/5 [02:17<00:34, 34.46s/it]\u001b[A\u001b[A"
          ],
          "name": "stderr"
        },
        {
          "output_type": "stream",
          "text": [
            "0:\tlearn: 0.5002739\ttotal: 32.6ms\tremaining: 32.6s\n",
            "100:\tlearn: 0.5800228\ttotal: 3.15s\tremaining: 28.1s\n",
            "200:\tlearn: 0.5785971\ttotal: 6.19s\tremaining: 24.6s\n",
            "300:\tlearn: 0.5808976\ttotal: 9.53s\tremaining: 22.1s\n",
            "400:\tlearn: 0.5799211\ttotal: 13s\tremaining: 19.4s\n",
            "500:\tlearn: 0.5819254\ttotal: 16.4s\tremaining: 16.3s\n",
            "600:\tlearn: 0.5822128\ttotal: 19.8s\tremaining: 13.2s\n",
            "700:\tlearn: 0.5814606\ttotal: 23.3s\tremaining: 9.94s\n",
            "800:\tlearn: 0.5816871\ttotal: 26.8s\tremaining: 6.65s\n",
            "900:\tlearn: 0.5818675\ttotal: 30.2s\tremaining: 3.32s\n",
            "999:\tlearn: 0.5831054\ttotal: 33.7s\tremaining: 0us\n"
          ],
          "name": "stdout"
        },
        {
          "output_type": "stream",
          "text": [
            "\n",
            "\n",
            "100%|██████████| 5/5 [02:53<00:00, 34.78s/it]\u001b[A\u001b[A\n",
            "\n",
            "\u001b[A\u001b[A"
          ],
          "name": "stderr"
        }
      ]
    },
    {
      "cell_type": "markdown",
      "metadata": {
        "id": "fhPh1DprvIFh",
        "colab_type": "text"
      },
      "source": [
        "**0.570 LB**\n"
      ]
    },
    {
      "cell_type": "markdown",
      "metadata": {
        "colab_type": "text",
        "id": "ZpMzOoyLa34s"
      },
      "source": [
        "## Cat+XGB+LGB Voting experiment"
      ]
    },
    {
      "cell_type": "code",
      "metadata": {
        "id": "NlAf8xtYbBsq",
        "colab_type": "code",
        "colab": {}
      },
      "source": [
        "import xgboost as xgb\n",
        "\n",
        "xgb_params = {'objective': 'binary:logistic', \n",
        "        'eval_metric': 'auc',\n",
        "        'eta': 0.001,\n",
        "        'max_depth': 1, \n",
        "        'subsample': 0.6, \n",
        "        'colsample_bytree': 0.6,\n",
        "        'alpha':0.001,\n",
        "        'random_state': 42, \n",
        "        'silent': True}\n",
        "\n",
        "xgb_cls = xgb.XGBClassifier(n_jobs=8, **xgb_params)\n",
        "# xgb_cls.fit(X_important.values, Y[i].values)"
      ],
      "execution_count": 0,
      "outputs": []
    },
    {
      "cell_type": "code",
      "metadata": {
        "colab_type": "code",
        "id": "91SozosQa35O",
        "colab": {}
      },
      "source": [
        "params = {}\n",
        "params['n_estimators'] = 300\n",
        "params['l2_leaf_reg'] = 30\n",
        "params['learning_rate'] = 0.0005\n",
        "params['depth'] = 1\n",
        "\n",
        "clf_cat = CatBoostClassifier(verbose=False, task_type=\"GPU\", eval_metric=\"AUC\",\n",
        "                         loss_function='CrossEntropy', use_best_model=False, **params)"
      ],
      "execution_count": 0,
      "outputs": []
    },
    {
      "cell_type": "code",
      "metadata": {
        "colab_type": "code",
        "id": "YGlluqzaa35X",
        "colab": {}
      },
      "source": [
        "import lightgbm as lgb\n",
        "\n",
        "lgb_model = lgb.LGBMClassifier(objective='cross_entropy', n_estimators=200, max_depth=1, learning_rate=0.1)"
      ],
      "execution_count": 0,
      "outputs": []
    },
    {
      "cell_type": "code",
      "metadata": {
        "colab_type": "code",
        "outputId": "1a01d8ee-9286-4ec1-b55f-2a0939b064fc",
        "id": "mc83ynFva35_",
        "colab": {
          "base_uri": "https://localhost:8080/",
          "height": 126
        }
      },
      "source": [
        "X_train = X.values\n",
        "y_train = Y['1'].values\n",
        "\n",
        "scores = validate(xgb_cls, X_train, y_train)\n",
        "print(scores)\n",
        "print(scores.mean())\n",
        "\n",
        "scores = validate(clf_cat, X_train, y_train)\n",
        "print(scores)\n",
        "print(scores.mean())\n",
        "\n",
        "scores = validate(lgb_model, X_train, y_train)\n",
        "print(scores)\n",
        "print(scores.mean())"
      ],
      "execution_count": 0,
      "outputs": [
        {
          "output_type": "stream",
          "text": [
            "[0.58390542 0.61686714 0.59216581 0.59421494 0.62029292]\n",
            "0.6014892462750935\n",
            "[0.59080473 0.61602155 0.58869025 0.60370255 0.60463444]\n",
            "0.6007707050293948\n",
            "[0.57407323 0.58787548 0.6024769  0.59898404 0.59264477]\n",
            "0.5912108831928927\n"
          ],
          "name": "stdout"
        }
      ]
    },
    {
      "cell_type": "code",
      "metadata": {
        "colab_type": "code",
        "id": "P_eczMlEa36L",
        "colab": {}
      },
      "source": [
        "eclf = VotingClassifier(estimators=[('cat', clf_cat), ('xgb', xgb_cls), ('lgb', lgb_model)], voting='soft')"
      ],
      "execution_count": 0,
      "outputs": []
    },
    {
      "cell_type": "code",
      "metadata": {
        "colab_type": "code",
        "outputId": "cc3f999a-b70e-411f-9c9c-c326159a9332",
        "id": "fJoSivLQa36c",
        "colab": {
          "base_uri": "https://localhost:8080/",
          "height": 35
        }
      },
      "source": [
        "probas = []\n",
        "\n",
        "for i in tqdm('12345'):\n",
        "    eclf = VotingClassifier(estimators=[('cat', clf_cat), ('xgb', xgb_cls), ('lgb', lgb_model)], voting='soft')\n",
        "\n",
        "    X_train = X.values\n",
        "    y_train = Y[i].values\n",
        "\n",
        "    eclf.fit(X_train, y_train)\n",
        "\n",
        "    proba = eclf.predict_proba(X_submit.drop('id', axis=1).values)[:, 1]\n",
        "    probas.append(proba)"
      ],
      "execution_count": 0,
      "outputs": [
        {
          "output_type": "stream",
          "text": [
            "100%|██████████| 5/5 [00:38<00:00,  7.77s/it]\n"
          ],
          "name": "stderr"
        }
      ]
    },
    {
      "cell_type": "code",
      "metadata": {
        "colab_type": "code",
        "id": "1cK_dBLta36p",
        "colab": {}
      },
      "source": [
        "tmp = pd.DataFrame(probas).T\n",
        "baseline = pd.DataFrame(tmp.values, columns=['1', '2', '3', '4', '5'])\n",
        "baseline['id'] = X1_test['id']\n",
        "baseline[['id', '1', '2', '3', '4', '5']].to_csv('ensemble-simpleX.csv', index=False)"
      ],
      "execution_count": 0,
      "outputs": []
    },
    {
      "cell_type": "markdown",
      "metadata": {
        "colab_type": "text",
        "id": "vs8SHLSga36x"
      },
      "source": [
        "!0.565254"
      ]
    },
    {
      "cell_type": "markdown",
      "metadata": {
        "id": "UbxghEEqdIvY",
        "colab_type": "text"
      },
      "source": [
        "## Cat+XGB+LGB Voting experiment with X1-only\n"
      ]
    },
    {
      "cell_type": "code",
      "metadata": {
        "colab_type": "code",
        "id": "hcKi3ye3dJHx",
        "colab": {}
      },
      "source": [
        "import xgboost as xgb\n",
        "\n",
        "xgb_params = {'objective': 'binary:logistic', \n",
        "        'eval_metric': 'auc',\n",
        "        'eta': 0.001,\n",
        "        'max_depth': 1, \n",
        "        'subsample': 0.6, \n",
        "        'colsample_bytree': 0.6,\n",
        "        'alpha':0.001,\n",
        "        'random_state': 42, \n",
        "        'silent': True}\n",
        "\n",
        "xgb_cls = xgb.XGBClassifier(n_jobs=8, **xgb_params)\n",
        "# xgb_cls.fit(X_important.values, Y[i].values)"
      ],
      "execution_count": 0,
      "outputs": []
    },
    {
      "cell_type": "code",
      "metadata": {
        "colab_type": "code",
        "id": "ofuVsoRUdJH-",
        "colab": {}
      },
      "source": [
        "params = {}\n",
        "params['n_estimators'] = 300\n",
        "params['l2_leaf_reg'] = 30\n",
        "params['learning_rate'] = 0.0005\n",
        "params['depth'] = 1\n",
        "\n",
        "clf_cat = CatBoostClassifier(verbose=False, task_type=\"GPU\", eval_metric=\"AUC\",\n",
        "                         loss_function='CrossEntropy', use_best_model=False, **params)"
      ],
      "execution_count": 0,
      "outputs": []
    },
    {
      "cell_type": "code",
      "metadata": {
        "colab_type": "code",
        "id": "NAlf_T7_dJIE",
        "colab": {}
      },
      "source": [
        "import lightgbm as lgb\n",
        "\n",
        "lgb_model = lgb.LGBMClassifier(objective='cross_entropy', n_estimators=200, max_depth=1, learning_rate=0.1)"
      ],
      "execution_count": 0,
      "outputs": []
    },
    {
      "cell_type": "code",
      "metadata": {
        "colab_type": "code",
        "outputId": "f3fffc84-0ccf-479f-de29-1572f3bb8eeb",
        "id": "Uu4Yk00FdJIK",
        "colab": {
          "base_uri": "https://localhost:8080/",
          "height": 126
        }
      },
      "source": [
        "X_train = X1.drop('id', axis=1).values\n",
        "y_train = Y['1'].values\n",
        "\n",
        "scores = validate(xgb_cls, X_train, y_train)\n",
        "print(scores)\n",
        "print(scores.mean())\n",
        "\n",
        "scores = validate(clf_cat, X_train, y_train)\n",
        "print(scores)\n",
        "print(scores.mean())\n",
        "\n",
        "scores = validate(lgb_model, X_train, y_train)\n",
        "print(scores)\n",
        "print(scores.mean())"
      ],
      "execution_count": 0,
      "outputs": [
        {
          "output_type": "stream",
          "text": [
            "[0.58755912 0.62303153 0.57914737 0.61378269 0.61531801]\n",
            "0.6037677432360888\n",
            "[0.58847826 0.62220424 0.58441292 0.59909604 0.59476167]\n",
            "0.5977906280065769\n",
            "[0.57540427 0.60995234 0.57972539 0.61094652 0.61721112]\n",
            "0.5986479271685626\n"
          ],
          "name": "stdout"
        }
      ]
    },
    {
      "cell_type": "code",
      "metadata": {
        "colab_type": "code",
        "id": "m5snxHTKdJIT",
        "colab": {}
      },
      "source": [
        "eclf = VotingClassifier(estimators=[('cat', clf_cat), ('xgb', xgb_cls), ('lgb', lgb_model)], voting='soft')"
      ],
      "execution_count": 0,
      "outputs": []
    },
    {
      "cell_type": "code",
      "metadata": {
        "colab_type": "code",
        "outputId": "a81bbb7f-f425-49c4-ac15-bc4dfbcead7d",
        "id": "iYGQv8nvdJIa",
        "colab": {
          "base_uri": "https://localhost:8080/",
          "height": 35
        }
      },
      "source": [
        "probas = []\n",
        "\n",
        "for i in tqdm('12345'):\n",
        "    eclf = VotingClassifier(estimators=[('cat', clf_cat), ('xgb', xgb_cls), ('lgb', lgb_model)], voting='soft')\n",
        "\n",
        "    X_train = X1.drop('id', axis=1).values\n",
        "    y_train = Y[i].values\n",
        "\n",
        "    eclf.fit(X_train, y_train)\n",
        "\n",
        "    proba = eclf.predict_proba(X1_test.drop('id', axis=1).values)[:, 1]\n",
        "    probas.append(proba)"
      ],
      "execution_count": 0,
      "outputs": [
        {
          "output_type": "stream",
          "text": [
            "100%|██████████| 5/5 [00:20<00:00,  4.04s/it]\n"
          ],
          "name": "stderr"
        }
      ]
    },
    {
      "cell_type": "code",
      "metadata": {
        "colab_type": "code",
        "id": "xdGXJ48QdJIh",
        "colab": {}
      },
      "source": [
        "tmp = pd.DataFrame(probas).T\n",
        "baseline = pd.DataFrame(tmp.values, columns=['1', '2', '3', '4', '5'])\n",
        "baseline['id'] = X1_test['id']\n",
        "baseline[['id', '1', '2', '3', '4', '5']].to_csv('ensemble-X1-only.csv', index=False)"
      ],
      "execution_count": 0,
      "outputs": []
    },
    {
      "cell_type": "markdown",
      "metadata": {
        "id": "Gi2vjhWOd7jo",
        "colab_type": "text"
      },
      "source": [
        "!0.586625"
      ]
    },
    {
      "cell_type": "markdown",
      "metadata": {
        "id": "QTW4X6mPvFZ5",
        "colab_type": "text"
      },
      "source": [
        "## Cat+XGB+LGB Voting experiment with X1+sum(X2)"
      ]
    },
    {
      "cell_type": "code",
      "metadata": {
        "id": "BjFTkJQPv4lS",
        "colab_type": "code",
        "colab": {}
      },
      "source": [
        "import xgboost as xgb\n",
        "\n",
        "xgb_params = {'objective': 'binary:logistic', \n",
        "        'eval_metric': 'auc',\n",
        "        'eta': 0.001,\n",
        "        'max_depth': 1, \n",
        "        'subsample': 0.6, \n",
        "        'colsample_bytree': 0.6,\n",
        "        'alpha':0.001,\n",
        "        'random_state': 42, \n",
        "        'silent': True}\n",
        "\n",
        "xgb_cls = xgb.XGBClassifier(n_jobs=8, **xgb_params)\n",
        "# xgb_cls.fit(X_important.values, Y[i].values)"
      ],
      "execution_count": 0,
      "outputs": []
    },
    {
      "cell_type": "code",
      "metadata": {
        "id": "PkON-ZeUN4Rn",
        "colab_type": "code",
        "colab": {}
      },
      "source": [
        "def validate(estimator, X_train, y_train, random_state=1234):\n",
        "\n",
        "    cv = KFold(n_splits=5, shuffle=False, random_state=random_state)\n",
        "    cv_iter = list(cv.split(X_train, y_train))\n",
        "\n",
        "    scores=[]\n",
        "    for train, test in cv_iter:\n",
        "        estimator.fit(X_train[train, :], y_train[train],\n",
        "                        # eval_set=(X_train[test, :], y_train[test])\n",
        "                        )\n",
        "        pred_statement = estimator.predict_proba(X_train[test, :])[:, 1]\n",
        "        scores.append(roc_auc_score(y_train[test], pred_statement))\n",
        "    return np.array(scores)"
      ],
      "execution_count": 0,
      "outputs": []
    },
    {
      "cell_type": "code",
      "metadata": {
        "id": "OWlQffyuOnzS",
        "colab_type": "code",
        "colab": {}
      },
      "source": [
        "params = {}\n",
        "params['n_estimators'] = 300\n",
        "params['l2_leaf_reg'] = 30\n",
        "params['learning_rate'] = 0.0005\n",
        "params['depth'] = 1\n",
        "\n",
        "clf_cat = CatBoostClassifier(verbose=False, task_type=\"GPU\", eval_metric=\"AUC\",\n",
        "                         loss_function='CrossEntropy', use_best_model=False, **params)"
      ],
      "execution_count": 0,
      "outputs": []
    },
    {
      "cell_type": "code",
      "metadata": {
        "id": "0SV47Ka8Riat",
        "colab_type": "code",
        "colab": {}
      },
      "source": [
        "import lightgbm as lgb\n",
        "\n",
        "lgb_model = lgb.LGBMClassifier(objective='cross_entropy', n_estimators=200, max_depth=1, learning_rate=0.1)"
      ],
      "execution_count": 0,
      "outputs": []
    },
    {
      "cell_type": "code",
      "metadata": {
        "id": "V9oZeZahOG5G",
        "colab_type": "code",
        "outputId": "1e6c3a6f-e6b9-4e2a-fc42-04bd23e1cb03",
        "colab": {
          "base_uri": "https://localhost:8080/",
          "height": 126
        }
      },
      "source": [
        "X_train = X1.merge(Y, on='id', suffixes=('', '_y'),).iloc[:, :-5].drop('id', axis=1).values\n",
        "y_train = Y['1'].values\n",
        "\n",
        "scores = validate(xgb_cls, X_train, y_train)\n",
        "print(scores)\n",
        "print(scores.mean())\n",
        "\n",
        "scores = validate(clf_cat, X_train, y_train)\n",
        "print(scores)\n",
        "print(scores.mean())\n",
        "\n",
        "scores = validate(lgb_model, X_train, y_train)\n",
        "print(scores)\n",
        "print(scores.mean())"
      ],
      "execution_count": 0,
      "outputs": [
        {
          "output_type": "stream",
          "text": [
            "[0.59012967 0.62424684 0.58105669 0.60411082 0.61570691]\n",
            "0.603050184837935\n",
            "[0.58583905 0.62379659 0.58577033 0.60067129 0.59720877]\n",
            "0.5986572059516483\n",
            "[0.57528604 0.61189976 0.58106788 0.60266202 0.61741657]\n",
            "0.597666454462956\n"
          ],
          "name": "stdout"
        }
      ]
    },
    {
      "cell_type": "code",
      "metadata": {
        "id": "gE9ft3HETfQm",
        "colab_type": "code",
        "colab": {}
      },
      "source": [
        "eclf = VotingClassifier(estimators=[('cat', clf_cat), ('xgb', xgb_cls), ('lgb', lgb_model)], voting='soft')"
      ],
      "execution_count": 0,
      "outputs": []
    },
    {
      "cell_type": "code",
      "metadata": {
        "id": "sv7bOWHTTyE3",
        "colab_type": "code",
        "outputId": "ff9706f6-a86e-4104-dffe-b251b49cceda",
        "colab": {
          "base_uri": "https://localhost:8080/",
          "height": 35
        }
      },
      "source": [
        "probas = []\n",
        "\n",
        "for i in tqdm('12345'):\n",
        "    eclf = VotingClassifier(estimators=[('cat', clf_cat), ('xgb', xgb_cls), ('lgb', lgb_model)], voting='soft')\n",
        "\n",
        "    X_train = X1.merge(Y, on='id', suffixes=('', '_y'),).iloc[:, :-5].drop('id', axis=1).values\n",
        "    y_train = Y[i].values\n",
        "\n",
        "    eclf.fit(X_train, y_train)\n",
        "\n",
        "    proba = eclf.predict_proba(X1_test.drop('id', axis=1).values)[:, 1]\n",
        "    probas.append(proba)"
      ],
      "execution_count": 0,
      "outputs": [
        {
          "output_type": "stream",
          "text": [
            "100%|██████████| 5/5 [00:22<00:00,  4.42s/it]\n"
          ],
          "name": "stderr"
        }
      ]
    },
    {
      "cell_type": "code",
      "metadata": {
        "id": "JP60xPNqXbbj",
        "colab_type": "code",
        "colab": {}
      },
      "source": [
        "tmp = pd.DataFrame(probas).T\n",
        "baseline = pd.DataFrame(tmp.values, columns=['1', '2', '3', '4', '5'])\n",
        "baseline['id'] = X1_test['id']\n",
        "baseline[['id', '1', '2', '3', '4', '5']].to_csv('ensemble.csv', index=False)"
      ],
      "execution_count": 0,
      "outputs": []
    },
    {
      "cell_type": "markdown",
      "metadata": {
        "id": "yGQWgC1CZpAc",
        "colab_type": "text"
      },
      "source": [
        "!0.5866250\n",
        "FUCK YEAH"
      ]
    },
    {
      "cell_type": "markdown",
      "metadata": {
        "id": "Sg1Zp4w3xHgO",
        "colab_type": "text"
      },
      "source": [
        "## Cat+XGB+LGB Voting experiment with X1+sum(X2)+X3"
      ]
    },
    {
      "cell_type": "code",
      "metadata": {
        "colab_type": "code",
        "id": "kPDPzwb3xVMS",
        "colab": {}
      },
      "source": [
        "import xgboost as xgb\n",
        "\n",
        "xgb_params = {'objective': 'binary:logistic', \n",
        "        'eval_metric': 'auc',\n",
        "        'eta': 0.001,\n",
        "        'max_depth': 1, \n",
        "        'subsample': 0.6, \n",
        "        'colsample_bytree': 0.6,\n",
        "        'alpha':0.001,\n",
        "        'random_state': 42, \n",
        "        'silent': True}\n",
        "\n",
        "xgb_cls = xgb.XGBClassifier(n_jobs=8, **xgb_params)\n",
        "# xgb_cls.fit(X_important.values, Y[i].values)"
      ],
      "execution_count": 0,
      "outputs": []
    },
    {
      "cell_type": "code",
      "metadata": {
        "colab_type": "code",
        "id": "x5bJ7iBYxVMc",
        "colab": {}
      },
      "source": [
        "params = {}\n",
        "params['n_estimators'] = 300\n",
        "params['l2_leaf_reg'] = 30\n",
        "params['learning_rate'] = 0.0005\n",
        "params['depth'] = 1\n",
        "\n",
        "clf_cat = CatBoostClassifier(verbose=False, task_type=\"GPU\", eval_metric=\"AUC\",\n",
        "                         loss_function='CrossEntropy', use_best_model=False, **params)"
      ],
      "execution_count": 0,
      "outputs": []
    },
    {
      "cell_type": "code",
      "metadata": {
        "colab_type": "code",
        "id": "pUCfjtakxVMf",
        "colab": {}
      },
      "source": [
        "import lightgbm as lgb\n",
        "\n",
        "lgb_model = lgb.LGBMClassifier(objective='cross_entropy', n_estimators=200, max_depth=1, learning_rate=0.1)"
      ],
      "execution_count": 0,
      "outputs": []
    },
    {
      "cell_type": "code",
      "metadata": {
        "id": "07Lb2woG2-IO",
        "colab_type": "code",
        "outputId": "a2c9d49f-6507-477a-dd30-c9b4e3481f14",
        "colab": {
          "base_uri": "https://localhost:8080/",
          "height": 90
        }
      },
      "source": [
        "X_train = X1\\\n",
        "    .assign(X2_summed=get_x2_summed(X2))\\\n",
        "    .merge(X3, on='id', suffixes=('_x1', '_x3'))\\\n",
        "    .merge(Y, on='id', suffixes=('', '_y'),)\\\n",
        "    .iloc[:, :-5].drop('id', axis=1)\n",
        "\n",
        "X_test = X1_test\\\n",
        "    .assign(X2_summed=get_x2_summed(X2_test))\\\n",
        "    .merge(X3_test, on='id', suffixes=('_x1', '_x3'))\\\n",
        "    .drop('id', axis=1)\n",
        "\n",
        "y_train = Y['1']"
      ],
      "execution_count": 0,
      "outputs": [
        {
          "output_type": "stream",
          "text": [
            "/usr/local/lib/python3.6/dist-packages/scipy/sparse/_index.py:127: SparseEfficiencyWarning: Changing the sparsity structure of a csr_matrix is expensive. lil_matrix is more efficient.\n",
            "  self._set_arrayXarray(i, j, x)\n",
            "/usr/local/lib/python3.6/dist-packages/scipy/sparse/_index.py:127: SparseEfficiencyWarning: Changing the sparsity structure of a csr_matrix is expensive. lil_matrix is more efficient.\n",
            "  self._set_arrayXarray(i, j, x)\n"
          ],
          "name": "stderr"
        }
      ]
    },
    {
      "cell_type": "code",
      "metadata": {
        "colab_type": "code",
        "outputId": "42f0af93-599a-4a2f-90ca-871b107cf9e0",
        "id": "JD5OOgl0xVMi",
        "colab": {
          "base_uri": "https://localhost:8080/",
          "height": 126
        }
      },
      "source": [
        "scores = validate(xgb_cls, X_train.values, y_train.values)\n",
        "print(scores)\n",
        "print(scores.mean())\n",
        "\n",
        "scores = validate(clf_cat, X_train.values, y_train.values)\n",
        "print(scores)\n",
        "print(scores.mean())\n",
        "\n",
        "scores = validate(lgb_model, X_train.values, y_train.values)\n",
        "print(scores)\n",
        "print(scores.mean())"
      ],
      "execution_count": 0,
      "outputs": [
        {
          "output_type": "stream",
          "text": [
            "[0.5735164  0.60684818 0.58067259 0.58405532 0.6087325 ]\n",
            "0.5907649982676182\n",
            "[0.58675439 0.61954668 0.58195541 0.60085916 0.59921194]\n",
            "0.5976655151683923\n",
            "[0.57855454 0.57434238 0.58109771 0.57353441 0.58994453]\n",
            "0.5794947126239628\n"
          ],
          "name": "stdout"
        }
      ]
    },
    {
      "cell_type": "code",
      "metadata": {
        "colab_type": "code",
        "id": "HTEws4jyxVMm",
        "colab": {}
      },
      "source": [
        "eclf = VotingClassifier(estimators=[('cat', clf_cat), ('xgb', xgb_cls), ('lgb', lgb_model)], voting='soft')"
      ],
      "execution_count": 0,
      "outputs": []
    },
    {
      "cell_type": "code",
      "metadata": {
        "colab_type": "code",
        "outputId": "a857ef38-e56c-489c-b8c2-09519a20ce14",
        "id": "w0KeAG2nxVMo",
        "colab": {
          "base_uri": "https://localhost:8080/",
          "height": 35
        }
      },
      "source": [
        "probas = []\n",
        "\n",
        "for i in tqdm('12345'):\n",
        "    eclf = VotingClassifier(estimators=[('cat', clf_cat), ('xgb', xgb_cls), ('lgb', lgb_model)], voting='soft')\n",
        "\n",
        "    # X_train = X1.merge(Y, on='id', suffixes=('', '_y'),).iloc[:, :-5].drop('id', axis=1).values\n",
        "    y_train = Y[i].values\n",
        "\n",
        "    eclf.fit(X_train.values, y_train)\n",
        "\n",
        "    proba = eclf.predict_proba(X_test.values)[:, 1]\n",
        "    probas.append(proba)"
      ],
      "execution_count": 0,
      "outputs": [
        {
          "output_type": "stream",
          "text": [
            "100%|██████████| 5/5 [00:31<00:00,  6.24s/it]\n"
          ],
          "name": "stderr"
        }
      ]
    },
    {
      "cell_type": "code",
      "metadata": {
        "colab_type": "code",
        "id": "AEhJTIcVxVMr",
        "colab": {}
      },
      "source": [
        "tmp = pd.DataFrame(probas).T\n",
        "baseline = pd.DataFrame(tmp.values, columns=['1', '2', '3', '4', '5'])\n",
        "baseline['id'] = X1_test['id']\n",
        "baseline[['id', '1', '2', '3', '4', '5']].to_csv('ensemble-X1-X2_sum-X3.csv', index=False)"
      ],
      "execution_count": 0,
      "outputs": []
    },
    {
      "cell_type": "markdown",
      "metadata": {
        "id": "GxB0O1SC6a_K",
        "colab_type": "text"
      },
      "source": [
        "## Ensemble with X1+Sum(X2)+Sum(X3)"
      ]
    },
    {
      "cell_type": "code",
      "metadata": {
        "colab_type": "code",
        "id": "zeTtr-XZHd-g",
        "colab": {}
      },
      "source": [
        "import xgboost as xgb\n",
        "\n",
        "xgb_params = {'objective': 'binary:logistic', \n",
        "        'eval_metric': 'auc',\n",
        "        'eta': 0.001,\n",
        "        'max_depth': 1, \n",
        "        'subsample': 0.6, \n",
        "        'colsample_bytree': 0.6,\n",
        "        'alpha':0.001,\n",
        "        'random_state': 42, \n",
        "        'silent': True}\n",
        "\n",
        "xgb_cls = xgb.XGBClassifier(n_jobs=8, **xgb_params)\n",
        "# xgb_cls.fit(X_important.values, Y[i].values)"
      ],
      "execution_count": 0,
      "outputs": []
    },
    {
      "cell_type": "code",
      "metadata": {
        "colab_type": "code",
        "id": "tOpfmxUHHd-v",
        "colab": {}
      },
      "source": [
        "params = {}\n",
        "params['n_estimators'] = 300\n",
        "params['l2_leaf_reg'] = 30\n",
        "params['learning_rate'] = 0.0005\n",
        "params['depth'] = 1\n",
        "\n",
        "clf_cat = CatBoostClassifier(verbose=False, task_type=\"GPU\", eval_metric=\"AUC\",\n",
        "                         loss_function='CrossEntropy', use_best_model=False, **params)"
      ],
      "execution_count": 0,
      "outputs": []
    },
    {
      "cell_type": "code",
      "metadata": {
        "colab_type": "code",
        "id": "ydwhmILNHd-2",
        "outputId": "8797d566-2e85-41d1-9e64-809fbfd2d56b",
        "colab": {
          "base_uri": "https://localhost:8080/",
          "height": 244
        }
      },
      "source": [
        "import lightgbm as lgb\n",
        "\n",
        "lgb_model = lgb.LGBMClassifier(objective='cross_entropy', n_estimators=300, max_depth=5, learning_rate=0.001)\n",
        "\n",
        "scores = validate(lgb_model, X_train.values, y_train.values)\n",
        "print(scores)\n",
        "print(scores.mean())"
      ],
      "execution_count": 0,
      "outputs": [
        {
          "output_type": "error",
          "ename": "NameError",
          "evalue": "ignored",
          "traceback": [
            "\u001b[0;31m---------------------------------------------------------------------------\u001b[0m",
            "\u001b[0;31mNameError\u001b[0m                                 Traceback (most recent call last)",
            "\u001b[0;32m<ipython-input-6-e05871193846>\u001b[0m in \u001b[0;36m<module>\u001b[0;34m()\u001b[0m\n\u001b[1;32m      3\u001b[0m \u001b[0mlgb_model\u001b[0m \u001b[0;34m=\u001b[0m \u001b[0mlgb\u001b[0m\u001b[0;34m.\u001b[0m\u001b[0mLGBMClassifier\u001b[0m\u001b[0;34m(\u001b[0m\u001b[0mobjective\u001b[0m\u001b[0;34m=\u001b[0m\u001b[0;34m'cross_entropy'\u001b[0m\u001b[0;34m,\u001b[0m \u001b[0mn_estimators\u001b[0m\u001b[0;34m=\u001b[0m\u001b[0;36m300\u001b[0m\u001b[0;34m,\u001b[0m \u001b[0mmax_depth\u001b[0m\u001b[0;34m=\u001b[0m\u001b[0;36m5\u001b[0m\u001b[0;34m,\u001b[0m \u001b[0mlearning_rate\u001b[0m\u001b[0;34m=\u001b[0m\u001b[0;36m0.001\u001b[0m\u001b[0;34m)\u001b[0m\u001b[0;34m\u001b[0m\u001b[0;34m\u001b[0m\u001b[0m\n\u001b[1;32m      4\u001b[0m \u001b[0;34m\u001b[0m\u001b[0m\n\u001b[0;32m----> 5\u001b[0;31m \u001b[0mscores\u001b[0m \u001b[0;34m=\u001b[0m \u001b[0mvalidate\u001b[0m\u001b[0;34m(\u001b[0m\u001b[0mlgb_model\u001b[0m\u001b[0;34m,\u001b[0m \u001b[0mX_train\u001b[0m\u001b[0;34m.\u001b[0m\u001b[0mvalues\u001b[0m\u001b[0;34m,\u001b[0m \u001b[0my_train\u001b[0m\u001b[0;34m.\u001b[0m\u001b[0mvalues\u001b[0m\u001b[0;34m)\u001b[0m\u001b[0;34m\u001b[0m\u001b[0;34m\u001b[0m\u001b[0m\n\u001b[0m\u001b[1;32m      6\u001b[0m \u001b[0mprint\u001b[0m\u001b[0;34m(\u001b[0m\u001b[0mscores\u001b[0m\u001b[0;34m)\u001b[0m\u001b[0;34m\u001b[0m\u001b[0;34m\u001b[0m\u001b[0m\n\u001b[1;32m      7\u001b[0m \u001b[0mprint\u001b[0m\u001b[0;34m(\u001b[0m\u001b[0mscores\u001b[0m\u001b[0;34m.\u001b[0m\u001b[0mmean\u001b[0m\u001b[0;34m(\u001b[0m\u001b[0;34m)\u001b[0m\u001b[0;34m)\u001b[0m\u001b[0;34m\u001b[0m\u001b[0;34m\u001b[0m\u001b[0m\n",
            "\u001b[0;31mNameError\u001b[0m: name 'validate' is not defined"
          ]
        }
      ]
    },
    {
      "cell_type": "code",
      "metadata": {
        "colab_type": "code",
        "outputId": "c7c4fa9f-f43b-464d-f304-6bb1d8de6abe",
        "id": "X7j9cO1cHd--",
        "colab": {
          "base_uri": "https://localhost:8080/",
          "height": 90
        }
      },
      "source": [
        "X_train = X1\\\n",
        "    .assign(X2_summed=get_x2_summed(X2))\\\n",
        "    .assign(X3_summed=X3.sum(axis=1))\\\n",
        "    .merge(Y, on='id', suffixes=('', '_y'),)\\\n",
        "    .iloc[:, :-5].drop('id', axis=1)\n",
        "\n",
        "X_test = X1_test\\\n",
        "    .assign(X2_summed=get_x2_summed(X2_test))\\\n",
        "    .assign(X3_summed=X3_test.sum(axis=1))\\\n",
        "    .drop('id', axis=1)\n",
        "\n",
        "y_train = Y['1']\n"
      ],
      "execution_count": 0,
      "outputs": [
        {
          "output_type": "stream",
          "text": [
            "/usr/local/lib/python3.6/dist-packages/scipy/sparse/_index.py:127: SparseEfficiencyWarning: Changing the sparsity structure of a csr_matrix is expensive. lil_matrix is more efficient.\n",
            "  self._set_arrayXarray(i, j, x)\n",
            "/usr/local/lib/python3.6/dist-packages/scipy/sparse/_index.py:127: SparseEfficiencyWarning: Changing the sparsity structure of a csr_matrix is expensive. lil_matrix is more efficient.\n",
            "  self._set_arrayXarray(i, j, x)\n"
          ],
          "name": "stderr"
        }
      ]
    },
    {
      "cell_type": "code",
      "metadata": {
        "colab_type": "code",
        "outputId": "caf31551-aa7c-46b5-866b-cef55028c5b8",
        "id": "7X7JotzhHd_J",
        "colab": {
          "base_uri": "https://localhost:8080/",
          "height": 126
        }
      },
      "source": [
        "scores = validate(xgb_cls, X_train.values, y_train.values)\n",
        "print(scores)\n",
        "print(scores.mean())\n",
        "\n",
        "scores = validate(clf_cat, X_train.values, y_train.values)\n",
        "print(scores)\n",
        "print(scores.mean())\n",
        "\n",
        "scores = validate(lgb_model, X_train.values, y_train.values)\n",
        "print(scores)\n",
        "print(scores.mean())"
      ],
      "execution_count": 0,
      "outputs": [
        {
          "output_type": "stream",
          "text": [
            "[0.59060259 0.62892138 0.57963216 0.60353636 0.61755599]\n",
            "0.604049694437027\n",
            "[0.58834096 0.62172471 0.58471498 0.59949346 0.594182  ]\n",
            "0.5976912240045544\n",
            "[0.578627   0.61377397 0.58417426 0.60537535 0.61924364]\n",
            "0.600238842628108\n"
          ],
          "name": "stdout"
        }
      ]
    },
    {
      "cell_type": "code",
      "metadata": {
        "id": "olcRsgDfIrKt",
        "colab_type": "code",
        "colab": {}
      },
      "source": [
        ""
      ],
      "execution_count": 0,
      "outputs": []
    },
    {
      "cell_type": "code",
      "metadata": {
        "colab_type": "code",
        "id": "xA0j4JsdIx0c",
        "colab": {}
      },
      "source": [
        "eclf = VotingClassifier(estimators=[('cat', clf_cat), ('xgb', xgb_cls), ('lgb', lgb_model)], voting='soft')"
      ],
      "execution_count": 0,
      "outputs": []
    },
    {
      "cell_type": "code",
      "metadata": {
        "colab_type": "code",
        "outputId": "56e539ff-8894-4dbc-eb47-7e6723014227",
        "id": "7OXE2fuZIx0s",
        "colab": {
          "base_uri": "https://localhost:8080/",
          "height": 145
        }
      },
      "source": [
        "probas = []\n",
        "\n",
        "for i in tqdm('12345'):\n",
        "    eclf = VotingClassifier(estimators=[('cat', clf_cat), ('xgb', xgb_cls), ('lgb', lgb_model)], voting='soft')\n",
        "\n",
        "    # X_train = X1.merge(Y, on='id', suffixes=('', '_y'),).iloc[:, :-5].drop('id', axis=1).values\n",
        "    y_train = Y[i].values\n",
        "\n",
        "    eclf.fit(X_train.values, y_train)\n",
        "\n",
        "    proba = eclf.predict_proba(X_test.values)[:, 1]\n",
        "    probas.append(proba)"
      ],
      "execution_count": 0,
      "outputs": [
        {
          "output_type": "stream",
          "text": [
            "\n",
            "  0%|          | 0/5 [00:00<?, ?it/s]\u001b[A\n",
            " 20%|██        | 1/5 [00:06<00:25,  6.46s/it]\u001b[A\n",
            " 40%|████      | 2/5 [00:12<00:18,  6.25s/it]\u001b[A\n",
            " 60%|██████    | 3/5 [00:17<00:12,  6.03s/it]\u001b[A\n",
            " 80%|████████  | 4/5 [00:23<00:05,  5.84s/it]\u001b[A\n",
            "100%|██████████| 5/5 [00:28<00:00,  5.67s/it]\u001b[A\n",
            "\u001b[A"
          ],
          "name": "stderr"
        }
      ]
    },
    {
      "cell_type": "code",
      "metadata": {
        "colab_type": "code",
        "id": "L-Rs0XzBIx01",
        "colab": {}
      },
      "source": [
        "tmp = pd.DataFrame(probas).T\n",
        "baseline = pd.DataFrame(tmp.values, columns=['1', '2', '3', '4', '5'])\n",
        "baseline['id'] = X1_test['id']\n",
        "baseline[['id', '1', '2', '3', '4', '5']].to_csv('ensemble-X1-X2_sum-X3_sum.csv', index=False)"
      ],
      "execution_count": 0,
      "outputs": []
    },
    {
      "cell_type": "markdown",
      "metadata": {
        "id": "BVfFW2ziJt3S",
        "colab_type": "text"
      },
      "source": [
        "!0.5890010"
      ]
    },
    {
      "cell_type": "markdown",
      "metadata": {
        "id": "EQV3ZTrVKs9e",
        "colab_type": "text"
      },
      "source": [
        ""
      ]
    },
    {
      "cell_type": "code",
      "metadata": {
        "colab_type": "code",
        "id": "HICAKCQbKtz2",
        "colab": {}
      },
      "source": [
        "import xgboost as xgb\n",
        "\n",
        "xgb_params = {'objective': 'binary:logistic', \n",
        "        'eval_metric': 'auc',\n",
        "        'eta': 0.001,\n",
        "        'max_depth': 1, \n",
        "        'subsample': 0.6, \n",
        "        'colsample_bytree': 0.6,\n",
        "        'alpha':0.001,\n",
        "        # 'random_state': 42, \n",
        "        'silent': True}\n",
        "\n",
        "xgb_cls = xgb.XGBClassifier(n_jobs=8, **xgb_params)\n",
        "# xgb_cls.fit(X_important.values, Y[i].values)"
      ],
      "execution_count": 0,
      "outputs": []
    },
    {
      "cell_type": "code",
      "metadata": {
        "colab_type": "code",
        "id": "isgVwlfVKt0M",
        "colab": {}
      },
      "source": [
        "params = {}\n",
        "params['n_estimators'] = 300\n",
        "params['l2_leaf_reg'] = 30\n",
        "params['learning_rate'] = 0.0005\n",
        "params['depth'] = 1\n",
        "\n",
        "clf_cat = CatBoostClassifier(verbose=False, task_type=\"GPU\", eval_metric=\"AUC\",\n",
        "                         loss_function='CrossEntropy', use_best_model=False, **params)"
      ],
      "execution_count": 0,
      "outputs": []
    },
    {
      "cell_type": "code",
      "metadata": {
        "colab_type": "code",
        "id": "w_cZNno7Kt0V",
        "colab": {}
      },
      "source": [
        "import lightgbm as lgb\n",
        "\n",
        "lgb_model = lgb.LGBMClassifier(objective='cross_entropy', n_estimators=300, max_depth=5, learning_rate=0.001)"
      ],
      "execution_count": 0,
      "outputs": []
    },
    {
      "cell_type": "code",
      "metadata": {
        "colab_type": "code",
        "outputId": "c1fad618-ba6e-4aaa-c58b-3f0bfb25ec70",
        "id": "1KoY9dGrKt0g",
        "colab": {
          "base_uri": "https://localhost:8080/",
          "height": 90
        }
      },
      "source": [
        "X_train = X1\\\n",
        "    .assign(X2_summed=get_x2_summed(X2))\\\n",
        "    .assign(X3_summed=X3.drop('id',axis=1).sum(axis=1))\\\n",
        "    .merge(Y, on='id', suffixes=('', '_y'),)\\\n",
        "    .iloc[:, :-5]\n",
        "\n",
        "X_test = X1_test\\\n",
        "    .assign(X2_summed=get_x2_summed(X2_test))\\\n",
        "    .assign(X3_summed=X3_test.drop('id',axis=1).sum(axis=1))\n",
        "\n",
        "y_train = Y['1']\n"
      ],
      "execution_count": 0,
      "outputs": [
        {
          "output_type": "stream",
          "text": [
            "/usr/local/lib/python3.6/dist-packages/scipy/sparse/_index.py:127: SparseEfficiencyWarning: Changing the sparsity structure of a csr_matrix is expensive. lil_matrix is more efficient.\n",
            "  self._set_arrayXarray(i, j, x)\n",
            "/usr/local/lib/python3.6/dist-packages/scipy/sparse/_index.py:127: SparseEfficiencyWarning: Changing the sparsity structure of a csr_matrix is expensive. lil_matrix is more efficient.\n",
            "  self._set_arrayXarray(i, j, x)\n"
          ],
          "name": "stderr"
        }
      ]
    },
    {
      "cell_type": "code",
      "metadata": {
        "colab_type": "code",
        "outputId": "0d8a0d2e-7c51-4516-e11a-e0a906301b04",
        "id": "SSdmqBcsKt0s",
        "colab": {
          "base_uri": "https://localhost:8080/",
          "height": 126
        }
      },
      "source": [
        "scores = validate(xgb_cls, X_train.values, y_train.values)\n",
        "print(scores)\n",
        "print(scores.mean())\n",
        "\n",
        "scores = validate(clf_cat, X_train.values, y_train.values)\n",
        "print(scores)\n",
        "print(scores.mean())\n",
        "\n",
        "scores = validate(lgb_model, X_train.values, y_train.values)\n",
        "print(scores)\n",
        "print(scores.mean())"
      ],
      "execution_count": 0,
      "outputs": [
        {
          "output_type": "stream",
          "text": [
            "[0.58675439 0.62395765 0.578409   0.60113013 0.61470165]\n",
            "0.6009905643951253\n",
            "[0.58864989 0.62222255 0.58470379 0.59935617 0.5946296 ]\n",
            "0.5979123992488846\n",
            "[0.59695652 0.61302355 0.58714265 0.60240912 0.61612515]\n",
            "0.603131399025565\n"
          ],
          "name": "stdout"
        }
      ]
    },
    {
      "cell_type": "code",
      "metadata": {
        "colab_type": "code",
        "id": "MtBMuPkhKt0y",
        "colab": {}
      },
      "source": [
        "# forest_clf = RandomForestClassifier(n_estimators=1000, max_depth=None, min_samples_split=2, random_state=0)"
      ],
      "execution_count": 0,
      "outputs": []
    },
    {
      "cell_type": "code",
      "metadata": {
        "colab_type": "code",
        "id": "6lnnO9yyKt09",
        "colab": {}
      },
      "source": [
        "eclf = VotingClassifier(estimators=[('cat', clf_cat), ('xgb', xgb_cls), ('lgb', lgb_model)], voting='soft')"
      ],
      "execution_count": 0,
      "outputs": []
    },
    {
      "cell_type": "code",
      "metadata": {
        "id": "HOvBuWaeK2Rp",
        "colab_type": "code",
        "outputId": "0440e027-8c9b-4f43-f931-f3af63e51e49",
        "colab": {
          "base_uri": "https://localhost:8080/",
          "height": 54
        }
      },
      "source": [
        "scores = validate(eclf, X_train.values, y_train.values)\n",
        "print(scores)\n",
        "print(scores.mean())"
      ],
      "execution_count": 0,
      "outputs": [
        {
          "output_type": "stream",
          "text": [
            "[0.59363844 0.63150574 0.58466277 0.60609071 0.61953714]\n",
            "0.6070869620989028\n"
          ],
          "name": "stdout"
        }
      ]
    },
    {
      "cell_type": "code",
      "metadata": {
        "id": "VZBAI5bGL0Tx",
        "colab_type": "code",
        "outputId": "5cb1a16a-daea-4f8d-b95d-bdaa2b177eda",
        "colab": {
          "base_uri": "https://localhost:8080/",
          "height": 54
        }
      },
      "source": [
        "from sklearn.ensemble import RandomForestClassifier\n",
        "\n",
        "forest_clf = RandomForestClassifier(n_estimators=1000, max_depth=None, min_samples_split=2, random_state=0)\n",
        "\n",
        "scores = validate(clf, X_train.values, y_train.values)\n",
        "print(scores)\n",
        "print(scores.mean())"
      ],
      "execution_count": 0,
      "outputs": [
        {
          "output_type": "stream",
          "text": [
            "[0.56485889 0.60174902 0.57837544 0.57802892 0.57840612]\n",
            "0.5802836758874135\n"
          ],
          "name": "stdout"
        }
      ]
    },
    {
      "cell_type": "code",
      "metadata": {
        "colab_type": "code",
        "outputId": "2867d80d-6c63-438f-e54e-895326f9f62c",
        "id": "6PaAWx8VKt1E",
        "colab": {
          "base_uri": "https://localhost:8080/",
          "height": 35
        }
      },
      "source": [
        "probas = []\n",
        "\n",
        "for i in tqdm('12345'):\n",
        "    eclf = VotingClassifier(estimators=[('cat', clf_cat), ('xgb', xgb_cls), ('lgb', lgb_model)], voting='soft')\n",
        "\n",
        "    # X_train = X1.merge(Y, on='id', suffixes=('', '_y'),).iloc[:, :-5].drop('id', axis=1).values\n",
        "    y_train = Y[i].values\n",
        "\n",
        "    eclf.fit(X_train.values, y_train)\n",
        "    proba = eclf.predict_proba(X_test.values)[:, 1]\n",
        "    probas.append(proba)"
      ],
      "execution_count": 0,
      "outputs": [
        {
          "output_type": "stream",
          "text": [
            "100%|██████████| 5/5 [00:30<00:00,  6.19s/it]\n"
          ],
          "name": "stderr"
        }
      ]
    },
    {
      "cell_type": "code",
      "metadata": {
        "colab_type": "code",
        "id": "c2J1GgEQKt1L",
        "colab": {}
      },
      "source": [
        "tmp = pd.DataFrame(probas).T\n",
        "baseline = pd.DataFrame(tmp.values, columns=['1', '2', '3', '4', '5'])\n",
        "baseline['id'] = X1_test['id']\n",
        "baseline[['id', '1', '2', '3', '4', '5']].to_csv('ensemble_forest-X1-X2_sum-with_id.csv', index=False)"
      ],
      "execution_count": 0,
      "outputs": []
    },
    {
      "cell_type": "code",
      "metadata": {
        "id": "niiW9yjq3tT9",
        "colab_type": "code",
        "outputId": "aff7abb8-ea48-4562-8cf4-8fac3c596d63",
        "colab": {
          "base_uri": "https://localhost:8080/",
          "height": 35
        }
      },
      "source": [
        "probas = []\n",
        "\n",
        "for i in tqdm('12345'):\n",
        "    eclf = VotingClassifier(estimators=[('cat', clf_cat), ('xgb', xgb_cls), ('lgb', lgb_model)], voting='soft')\n",
        "\n",
        "    # X_train = X1.merge(Y, on='id', suffixes=('', '_y'),).iloc[:, :-5].drop('id', axis=1).values\n",
        "    y_train = Y[i].values\n",
        "\n",
        "    eclf.fit(X_train.values, y_train)\n",
        "    proba = eclf.predict_proba(X_test.values)[:, 1]\n",
        "    for j in range(9):\n",
        "        eclf.fit(X_train.values, y_train)\n",
        "        proba += eclf.predict_proba(X_test.values)[:, 1]\n",
        "\n",
        "    proba /= 10\n",
        "    probas.append(proba)"
      ],
      "execution_count": 0,
      "outputs": [
        {
          "output_type": "stream",
          "text": [
            "100%|██████████| 5/5 [05:00<00:00, 60.13s/it]\n"
          ],
          "name": "stderr"
        }
      ]
    },
    {
      "cell_type": "code",
      "metadata": {
        "id": "FUu_3vVR4gCa",
        "colab_type": "code",
        "colab": {}
      },
      "source": [
        "tmp = pd.DataFrame(probas).T\n",
        "baseline = pd.DataFrame(tmp.values, columns=['1', '2', '3', '4', '5'])\n",
        "baseline['id'] = X1_test['id']\n",
        "baseline[['id', '1', '2', '3', '4', '5']].to_csv('ensemble_forest-X1-X2_sum-with_id-averaged.csv', index=False)"
      ],
      "execution_count": 0,
      "outputs": []
    },
    {
      "cell_type": "code",
      "metadata": {
        "id": "gzdZm1fH42S8",
        "colab_type": "code",
        "outputId": "8fa3c755-8573-4057-ab8a-062e0b24d5df",
        "colab": {
          "base_uri": "https://localhost:8080/",
          "height": 90
        }
      },
      "source": [
        "X3_train_summed = X3.drop('id', axis=1).multiply(1 / X3[X3 > 0.00001].drop('id', axis=1).min(axis=1), axis=0).sum(axis=1)\n",
        "X3_test_summed = X3_test.drop('id', axis=1).multiply(1 / X3_test[X3_test > 0.00001].drop('id', axis=1).min(axis=1), axis=0).sum(axis=1)\n",
        "\n",
        "X_train = X1\\\n",
        "    .assign(X2_summed=get_x2_summed(X2))\\\n",
        "    .assign(X3_summed_dernomalized=X3_train_summed)\\\n",
        "    .merge(Y, on='id', suffixes=('', '_y'),)\\\n",
        "    .iloc[:, :-5]\n",
        "\n",
        "X_test = X1_test\\\n",
        "    .assign(X2_summed=get_x2_summed(X2_test))\\\n",
        "    .assign(X3_summed_dernomalized=X3_test_summed)\n",
        "\n",
        "y_train = Y['1']\n"
      ],
      "execution_count": 0,
      "outputs": [
        {
          "output_type": "stream",
          "text": [
            "/usr/local/lib/python3.6/dist-packages/scipy/sparse/_index.py:127: SparseEfficiencyWarning: Changing the sparsity structure of a csr_matrix is expensive. lil_matrix is more efficient.\n",
            "  self._set_arrayXarray(i, j, x)\n",
            "/usr/local/lib/python3.6/dist-packages/scipy/sparse/_index.py:127: SparseEfficiencyWarning: Changing the sparsity structure of a csr_matrix is expensive. lil_matrix is more efficient.\n",
            "  self._set_arrayXarray(i, j, x)\n"
          ],
          "name": "stderr"
        }
      ]
    },
    {
      "cell_type": "code",
      "metadata": {
        "id": "gn5ll_ag5WcM",
        "colab_type": "code",
        "outputId": "1c7324c7-80f2-4aff-c71e-63567b9ac8c9",
        "colab": {
          "base_uri": "https://localhost:8080/",
          "height": 35
        }
      },
      "source": [
        "probas = []\n",
        "\n",
        "for i in tqdm('12345'):\n",
        "    eclf = VotingClassifier(estimators=[('cat', clf_cat), ('xgb', xgb_cls), ('lgb', lgb_model)], voting='soft')\n",
        "\n",
        "    # X_train = X1.merge(Y, on='id', suffixes=('', '_y'),).iloc[:, :-5].drop('id', axis=1).values\n",
        "    y_train = Y[i].values\n",
        "\n",
        "    eclf.fit(X_train.values, y_train)\n",
        "    proba = eclf.predict_proba(X_test.values)[:, 1]\n",
        "\n",
        "    probas.append(proba)\n",
        "\n",
        "tmp = pd.DataFrame(probas).T\n",
        "baseline = pd.DataFrame(tmp.values, columns=['1', '2', '3', '4', '5'])\n",
        "baseline['id'] = X1_test['id']\n",
        "baseline[['id', '1', '2', '3', '4', '5']].to_csv('ensemble_forest-X1-X2_sum-with_id-X3_denorm_sum.csv', index=False)"
      ],
      "execution_count": 0,
      "outputs": [
        {
          "output_type": "stream",
          "text": [
            "100%|██████████| 5/5 [00:32<00:00,  6.39s/it]\n"
          ],
          "name": "stderr"
        }
      ]
    },
    {
      "cell_type": "code",
      "metadata": {
        "id": "cnIk71hJ-sYx",
        "colab_type": "code",
        "outputId": "ad53a44c-0e9c-4a17-d886-a2dd85417ddb",
        "colab": {
          "base_uri": "https://localhost:8080/",
          "height": 54
        }
      },
      "source": [
        "eclf = VotingClassifier(estimators=[('cat', clf_cat), ('xgb', xgb_cls), ('lgb', lgb_model)], voting='soft')\n",
        "scores = validate(eclf, X_train.values, y_train.values)\n",
        "print(scores)\n",
        "print(scores.mean())"
      ],
      "execution_count": 0,
      "outputs": [
        {
          "output_type": "stream",
          "text": [
            "[0.59448513 0.61982854 0.58968966 0.60994212 0.60373558]\n",
            "0.6035362055480483\n"
          ],
          "name": "stdout"
        }
      ]
    },
    {
      "cell_type": "code",
      "metadata": {
        "id": "VVtqHDJ89H8F",
        "colab_type": "code",
        "outputId": "74e99dd5-889e-411b-826e-7ee27d5692b9",
        "colab": {
          "base_uri": "https://localhost:8080/",
          "height": 72
        }
      },
      "source": [
        "from sklearn.ensemble import BaggingClassifier\n",
        "eclf = VotingClassifier(estimators=[('cat', clf_cat), ('xgb', xgb_cls), ('lgb', lgb_model)], voting='soft')\n",
        "bagging_clf = BaggingClassifier(eclf, max_samples=0.5, max_features=0.5)\n",
        "\n",
        "y_train = Y['1']\n",
        "\n",
        "scores = validate(bagging_clf, X_train.values, y_train.values)\n",
        "print(scores)\n",
        "print(scores.mean())"
      ],
      "execution_count": 0,
      "outputs": [
        {
          "output_type": "stream",
          "text": [
            "100%|██████████| 5/5 [04:45<00:00, 57.04s/it]"
          ],
          "name": "stderr"
        },
        {
          "output_type": "stream",
          "text": [
            "[0.56918383 0.62273503 0.59405276 0.59111503 0.57155646]\n",
            "0.5897286200674499\n"
          ],
          "name": "stdout"
        },
        {
          "output_type": "stream",
          "text": [
            "\n"
          ],
          "name": "stderr"
        }
      ]
    },
    {
      "cell_type": "code",
      "metadata": {
        "id": "-Y20YRze53BM",
        "colab_type": "code",
        "outputId": "d4b0e01c-4d75-47ee-efcd-cb15eef4dfaa",
        "colab": {
          "base_uri": "https://localhost:8080/",
          "height": 108
        }
      },
      "source": [
        "X3_train_summed = X3.drop('id', axis=1).multiply(1 / X3[X3 > 0.00001].drop('id', axis=1).min(axis=1), axis=0).sum(axis=1)\n",
        "X3_test_summed = X3_test.drop('id', axis=1).multiply(1 / X3_test[X3_test > 0.00001].drop('id', axis=1).min(axis=1), axis=0).sum(axis=1)\n",
        "\n",
        "X_train = X1\\\n",
        "    .assign(X2_summed=get_x2_summed(X2))\\\n",
        "    .assign(X3_summed_dernomalized=X3_train_summed)\\\n",
        "    .assign(X3_non_zero_count=(X3.drop('id',axis=1) != 0).sum(axis=1))\\\n",
        "    .assign(X3_mean=X3.drop('id', axis=1).mean(axis=1))\\\n",
        "    .merge(Y, on='id', suffixes=('', '_y'),)\\\n",
        "    .iloc[:, :-5]\n",
        "\n",
        "X_test = X1_test\\\n",
        "    .assign(X2_summed=get_x2_summed(X2_test))\\\n",
        "    .assign(X3_summed_dernomalized=X3_test_summed)\\\n",
        "    .assign(X3_non_zero_count=(X3_test.drop('id',axis=1) != 0).sum(axis=1))\\\n",
        "    .assign(X3_mean=X3_test.drop('id', axis=1).mean(axis=1))\\\n",
        "\n",
        "y_train = Y['1']\n",
        "\n",
        "probas = []\n",
        "\n",
        "for i in tqdm('12345'):\n",
        "    eclf = VotingClassifier(estimators=[('cat', clf_cat), ('xgb', xgb_cls), ('lgb', lgb_model)], voting='soft')\n",
        "    bagging_clf = BaggingClassifier(eclf, max_samples=0.5, max_features=0.5)\n",
        "\n",
        "    # X_train = X1.merge(Y, on='id', suffixes=('', '_y'),).iloc[:, :-5].drop('id', axis=1).values\n",
        "    y_train = Y[i].values\n",
        "\n",
        "    eclf.fit(X_train.values, y_train)\n",
        "    proba = eclf.predict_proba(X_test.values)[:, 1]\n",
        "\n",
        "    probas.append(proba)\n",
        "\n",
        "tmp = pd.DataFrame(probas).T\n",
        "baseline = pd.DataFrame(tmp.values, columns=['1', '2', '3', '4', '5'])\n",
        "baseline['id'] = X1_test['id']\n",
        "baseline[['id', '1', '2', '3', '4', '5']].to_csv('ensemble_forest-X1-X2_sum-with_id-X3-sum-mean-non_zero.csv', index=False)"
      ],
      "execution_count": 0,
      "outputs": [
        {
          "output_type": "stream",
          "text": [
            "/usr/local/lib/python3.6/dist-packages/scipy/sparse/_index.py:127: SparseEfficiencyWarning: Changing the sparsity structure of a csr_matrix is expensive. lil_matrix is more efficient.\n",
            "  self._set_arrayXarray(i, j, x)\n",
            "/usr/local/lib/python3.6/dist-packages/scipy/sparse/_index.py:127: SparseEfficiencyWarning: Changing the sparsity structure of a csr_matrix is expensive. lil_matrix is more efficient.\n",
            "  self._set_arrayXarray(i, j, x)\n",
            "100%|██████████| 5/5 [00:30<00:00,  6.06s/it]\n"
          ],
          "name": "stderr"
        }
      ]
    },
    {
      "cell_type": "markdown",
      "metadata": {
        "id": "dcpSZ6A0tGAY",
        "colab_type": "text"
      },
      "source": [
        "## Test with decrease X2 reduction"
      ]
    },
    {
      "cell_type": "code",
      "metadata": {
        "id": "pXz-AlQMuvZL",
        "colab_type": "code",
        "colab": {}
      },
      "source": [
        "def transform_x2(X2, svd=None):\n",
        "    rows, row_pos = np.unique(X2.iloc[:, 0], return_inverse=True)\n",
        "    cols, col_pos = np.unique(X2.iloc[:, 1], return_inverse=True)\n",
        "\n",
        "    sparse_matrix = sparse.csr_matrix((len(rows), len(cols)))\n",
        "\n",
        "    sparse_matrix[row_pos, col_pos] = 1\n",
        "\n",
        "    cols_ = sparse_matrix.sum(axis=0)\n",
        "    rows_ = sparse_matrix.sum(axis=1)\n",
        "\n",
        "    minimum_users_per_group = 5\n",
        "    selected_cols = cols_ >= minimum_users_per_group\n",
        "    trimmed_sparse_matrix = sparse_matrix[:, np.squeeze(np.asarray(selected_cols))]\n",
        "\n",
        "    if svd is None:\n",
        "        svd = TruncatedSVD(n_components=150)\n",
        "        svd.fit(trimmed_sparse_matrix)\n",
        "\n",
        "    components = pd.DataFrame(svd.transform(trimmed_sparse_matrix))\n",
        "    components['id'] = X2.iloc[:, 0].unique()\n",
        "    return X2, svd"
      ],
      "execution_count": 0,
      "outputs": []
    },
    {
      "cell_type": "code",
      "metadata": {
        "id": "pRhrE_Z6vnXq",
        "colab_type": "code",
        "colab": {}
      },
      "source": [
        "def X2_to_sparse(X2):\n",
        "\n",
        "    rows, row_pos = np.unique(X2.iloc[:, 0], return_inverse=True)\n",
        "    cols, col_pos = np.unique(X2.iloc[:, 1], return_inverse=True)\n",
        "\n",
        "    sparse_matrix = sparse.csr_matrix((len(rows), len(cols)))\n",
        "\n",
        "    sparse_matrix[row_pos, col_pos] = 1\n",
        "\n",
        "    cols_ = sparse_matrix.sum(axis=0)\n",
        "    rows_ = sparse_matrix.sum(axis=1)\n",
        "\n",
        "    minimum_users_per_group = 5\n",
        "    selected_cols = cols_ >= minimum_users_per_group\n",
        "    trimmed_sparse_matrix = sparse_matrix[:, np.squeeze(np.asarray(selected_cols))]\n",
        "\n",
        "    return trimmed_sparse_matrix"
      ],
      "execution_count": 0,
      "outputs": []
    },
    {
      "cell_type": "code",
      "metadata": {
        "id": "KXgwdposwZ7W",
        "colab_type": "code",
        "outputId": "a498e10e-5638-4ef0-d569-745ebcbd79b7",
        "colab": {
          "base_uri": "https://localhost:8080/",
          "height": 72
        }
      },
      "source": [
        "np.array(trimmed_sparse_matrix),"
      ],
      "execution_count": 0,
      "outputs": [
        {
          "output_type": "execute_result",
          "data": {
            "text/plain": [
              "(array(<4000x15769 sparse matrix of type '<class 'numpy.float64'>'\n",
              " \twith 303940 stored elements in Compressed Sparse Row format>,\n",
              "       dtype=object),)"
            ]
          },
          "metadata": {
            "tags": []
          },
          "execution_count": 13
        }
      ]
    },
    {
      "cell_type": "code",
      "metadata": {
        "id": "Kh72ttlZvp1-",
        "colab_type": "code",
        "outputId": "568485d7-5043-4612-f7c5-e24f87be8b37",
        "colab": {
          "base_uri": "https://localhost:8080/",
          "height": 183
        }
      },
      "source": [
        "\n",
        "\n",
        "lda = LinearDiscriminantAnalysis(n_components=100)\n",
        "lda.fit(trimmed_sparse_matrix.toarray(), Y['1'])"
      ],
      "execution_count": 0,
      "outputs": [
        {
          "output_type": "stream",
          "text": [
            "/usr/local/lib/python3.6/dist-packages/sklearn/discriminant_analysis.py:466: ChangedBehaviorWarning: n_components cannot be larger than min(n_features, n_classes - 1). Using min(n_features, n_classes - 1) = min(15769, 2 - 1) = 1 components.\n",
            "  ChangedBehaviorWarning)\n",
            "/usr/local/lib/python3.6/dist-packages/sklearn/discriminant_analysis.py:472: FutureWarning: In version 0.23, setting n_components > min(n_features, n_classes - 1) will raise a ValueError. You should set n_components to None (default), or a value smaller or equal to min(n_features, n_classes - 1).\n",
            "  warnings.warn(future_msg, FutureWarning)\n",
            "/usr/local/lib/python3.6/dist-packages/sklearn/discriminant_analysis.py:388: UserWarning: Variables are collinear.\n",
            "  warnings.warn(\"Variables are collinear.\")\n"
          ],
          "name": "stderr"
        },
        {
          "output_type": "execute_result",
          "data": {
            "text/plain": [
              "LinearDiscriminantAnalysis(n_components=100, priors=None, shrinkage=None,\n",
              "                           solver='svd', store_covariance=False, tol=0.0001)"
            ]
          },
          "metadata": {
            "tags": []
          },
          "execution_count": 17
        }
      ]
    },
    {
      "cell_type": "code",
      "metadata": {
        "id": "GtRs7r7QxeKC",
        "colab_type": "code",
        "colab": {}
      },
      "source": [
        "X2_lda = lda.transform(trimmed_sparse_matrix.toarray())\n",
        "X2_lda.shape"
      ],
      "execution_count": 0,
      "outputs": []
    },
    {
      "cell_type": "code",
      "metadata": {
        "id": "A4hmJxLQxkpF",
        "colab_type": "code",
        "colab": {}
      },
      "source": [
        "X_train = X1\\\n",
        "    .assign(X2_lda=X2_lda)\\\n",
        "    .merge(Y, on='id', suffixes=('', '_y'),)\\\n",
        "    .iloc[:, :-5]\n",
        "\n",
        "# X_test = X1_test\\\n",
        "#     .assign(X2_summed=get_x2_summed(X2_test))\\\n",
        "#     .assign(X3_summed_dernomalized=X3_test_summed)\n",
        "\n",
        "y_train = Y['1']\n"
      ],
      "execution_count": 0,
      "outputs": []
    },
    {
      "cell_type": "code",
      "metadata": {
        "colab_type": "code",
        "id": "I-GQKzoCyuJ1",
        "colab": {}
      },
      "source": [
        "\n",
        "\n",
        "xgb_params = {'objective': 'binary:logistic', \n",
        "        'eval_metric': 'auc',\n",
        "        'eta': 0.001,\n",
        "        'max_depth': 1, \n",
        "        'subsample': 0.6, \n",
        "        'colsample_bytree': 0.6,\n",
        "        'alpha':0.001,\n",
        "        # 'random_state': 42, \n",
        "        'silent': True}\n",
        "\n",
        "xgb_cls = xgb.XGBClassifier(n_jobs=8, **xgb_params)\n",
        "# xgb_cls.fit(X_important.values, Y[i].values)"
      ],
      "execution_count": 0,
      "outputs": []
    },
    {
      "cell_type": "code",
      "metadata": {
        "colab_type": "code",
        "id": "kzSQde0DyuKp",
        "colab": {}
      },
      "source": [
        "params = {}\n",
        "params['n_estimators'] = 300\n",
        "params['l2_leaf_reg'] = 30\n",
        "params['learning_rate'] = 0.0005\n",
        "params['depth'] = 1\n",
        "\n",
        "clf_cat = CatBoostClassifier(verbose=False, task_type=\"GPU\", eval_metric=\"AUC\",\n",
        "                         loss_function='CrossEntropy', use_best_model=False, **params)"
      ],
      "execution_count": 0,
      "outputs": []
    },
    {
      "cell_type": "code",
      "metadata": {
        "colab_type": "code",
        "id": "s6QAcFMDyuK1",
        "colab": {}
      },
      "source": [
        "lgb_model = lgb.LGBMClassifier(objective='cross_entropy', n_estimators=300, max_depth=5, learning_rate=0.001)"
      ],
      "execution_count": 0,
      "outputs": []
    },
    {
      "cell_type": "code",
      "metadata": {
        "id": "I5gt8DGpy2KP",
        "colab_type": "code",
        "outputId": "d32992cd-0159-4161-f92c-041eef9a03f9",
        "colab": {
          "base_uri": "https://localhost:8080/",
          "height": 72
        }
      },
      "source": [
        "eclf = VotingClassifier(estimators=[('cat', clf_cat), ('xgb', xgb_cls), ('lgb', lgb_model)], voting='soft')\n",
        "\n",
        "y_train = Y['1']\n",
        "\n",
        "scores = validate(eclf, X_train.values, y_train.values)\n",
        "print(scores)\n",
        "print(scores.mean())"
      ],
      "execution_count": 0,
      "outputs": [
        {
          "output_type": "stream",
          "text": [
            "100%|██████████| 5/5 [00:26<00:00,  5.37s/it]"
          ],
          "name": "stderr"
        },
        {
          "output_type": "stream",
          "text": [
            "[1.         0.99995973 0.99997017 0.99994219 0.99981656]\n",
            "0.9999377305911725\n"
          ],
          "name": "stdout"
        },
        {
          "output_type": "stream",
          "text": [
            "\n"
          ],
          "name": "stderr"
        }
      ]
    },
    {
      "cell_type": "code",
      "metadata": {
        "id": "JoVjOxNE0QVp",
        "colab_type": "code",
        "outputId": "bb9bba88-d9dd-4e30-b974-40321e324fe9",
        "colab": {
          "base_uri": "https://localhost:8080/",
          "height": 90
        }
      },
      "source": [
        "X2_sparce = X2_to_sparce(X2)\n",
        "X2_test_sparce =X2_to_sparce(X2_test)"
      ],
      "execution_count": 0,
      "outputs": [
        {
          "output_type": "stream",
          "text": [
            "/usr/local/lib/python3.6/dist-packages/scipy/sparse/_index.py:127: SparseEfficiencyWarning: Changing the sparsity structure of a csr_matrix is expensive. lil_matrix is more efficient.\n",
            "  self._set_arrayXarray(i, j, x)\n",
            "/usr/local/lib/python3.6/dist-packages/scipy/sparse/_index.py:127: SparseEfficiencyWarning: Changing the sparsity structure of a csr_matrix is expensive. lil_matrix is more efficient.\n",
            "  self._set_arrayXarray(i, j, x)\n"
          ],
          "name": "stderr"
        }
      ]
    },
    {
      "cell_type": "code",
      "metadata": {
        "id": "8sNLKfc0ztsA",
        "colab_type": "code",
        "outputId": "e1e596b0-74c0-4a3d-f085-3724b263be1c",
        "colab": {
          "base_uri": "https://localhost:8080/",
          "height": 880
        }
      },
      "source": [
        "cv = KFold(n_splits=5, shuffle=False, random_state=42)\n",
        "cv_iter = list(cv.split(X1, y_train))\n",
        "\n",
        "scores=[]\n",
        "for train, test in tqdm(cv_iter):\n",
        "\n",
        "    lda = LinearDiscriminantAnalysis()\n",
        "    lda.fit(X2_sparce[train, :].toarray(), y_train[train])\n",
        "    X2_lda = lda.transform(X2_sparce[train, :].toarray())\n",
        "\n",
        "    X_train = X1.iloc[train, :]\\\n",
        "    .assign(X2_lda=X2_lda)\\\n",
        "    .merge(Y, on='id', suffixes=('', '_y'),)\\\n",
        "    .iloc[:, :-5]\n",
        "\n",
        "    X_test = X1.iloc[test, :].assign(X2_lda=lda.transform(X2_sparce[test, :].toarray()))\n",
        "\n",
        "    eclf.fit(X_train.values, y_train.values[train],\n",
        "                    # eval_set=(X_train[test, :], y_train[test])\n",
        "                    )\n",
        "    pred_statement = eclf.predict_proba(X_test.values)[:, 1]\n",
        "    scores.append(roc_auc_score(y_train.values[test], pred_statement))\n",
        "return np.array(scores)"
      ],
      "execution_count": 0,
      "outputs": [
        {
          "output_type": "stream",
          "text": [
            "\n",
            "\n",
            "\n",
            "\n",
            "\n",
            "  0%|          | 0/5 [00:00<?, ?it/s]\u001b[A\u001b[A\u001b[A\u001b[A\u001b[A/usr/local/lib/python3.6/dist-packages/sklearn/discriminant_analysis.py:388: UserWarning: Variables are collinear.\n",
            "  warnings.warn(\"Variables are collinear.\")\n",
            "\n",
            "\n",
            "\n",
            "\n",
            "\n",
            " 20%|██        | 1/5 [01:36<06:25, 96.30s/it]\u001b[A\u001b[A\u001b[A\u001b[A\u001b[A/usr/local/lib/python3.6/dist-packages/sklearn/discriminant_analysis.py:388: UserWarning: Variables are collinear.\n",
            "  warnings.warn(\"Variables are collinear.\")\n",
            "\n",
            "\n",
            "\n",
            "\n",
            "\n",
            " 40%|████      | 2/5 [03:09<04:45, 95.26s/it]\u001b[A\u001b[A\u001b[A\u001b[A\u001b[A/usr/local/lib/python3.6/dist-packages/sklearn/discriminant_analysis.py:388: UserWarning: Variables are collinear.\n",
            "  warnings.warn(\"Variables are collinear.\")\n",
            "\n",
            "\n",
            "\n",
            "\n",
            "\n",
            " 60%|██████    | 3/5 [04:42<03:09, 94.65s/it]\u001b[A\u001b[A\u001b[A\u001b[A\u001b[A/usr/local/lib/python3.6/dist-packages/sklearn/discriminant_analysis.py:388: UserWarning: Variables are collinear.\n",
            "  warnings.warn(\"Variables are collinear.\")\n",
            "\n",
            "\n",
            "\n",
            "\n",
            "\n",
            " 80%|████████  | 4/5 [06:15<01:34, 94.24s/it]\u001b[A\u001b[A\u001b[A\u001b[A\u001b[A/usr/local/lib/python3.6/dist-packages/sklearn/discriminant_analysis.py:388: UserWarning: Variables are collinear.\n",
            "  warnings.warn(\"Variables are collinear.\")\n"
          ],
          "name": "stderr"
        },
        {
          "output_type": "error",
          "ename": "IndexError",
          "evalue": "ignored",
          "traceback": [
            "\u001b[0;31m---------------------------------------------------------------------------\u001b[0m",
            "\u001b[0;31mIndexError\u001b[0m                                Traceback (most recent call last)",
            "\u001b[0;32m<ipython-input-59-b25cd5c748c3>\u001b[0m in \u001b[0;36m<module>\u001b[0;34m()\u001b[0m\n\u001b[1;32m     16\u001b[0m                     \u001b[0;31m# eval_set=(X_train[test, :], y_train[test])\u001b[0m\u001b[0;34m\u001b[0m\u001b[0;34m\u001b[0m\u001b[0;34m\u001b[0m\u001b[0m\n\u001b[1;32m     17\u001b[0m                     )\n\u001b[0;32m---> 18\u001b[0;31m     \u001b[0mpred_statement\u001b[0m \u001b[0;34m=\u001b[0m \u001b[0meclf\u001b[0m\u001b[0;34m.\u001b[0m\u001b[0mpredict_proba\u001b[0m\u001b[0;34m(\u001b[0m\u001b[0mX_train\u001b[0m\u001b[0;34m.\u001b[0m\u001b[0mvalues\u001b[0m\u001b[0;34m[\u001b[0m\u001b[0mtest\u001b[0m\u001b[0;34m,\u001b[0m \u001b[0;34m:\u001b[0m\u001b[0;34m]\u001b[0m\u001b[0;34m)\u001b[0m\u001b[0;34m[\u001b[0m\u001b[0;34m:\u001b[0m\u001b[0;34m,\u001b[0m \u001b[0;36m1\u001b[0m\u001b[0;34m]\u001b[0m\u001b[0;34m\u001b[0m\u001b[0;34m\u001b[0m\u001b[0m\n\u001b[0m\u001b[1;32m     19\u001b[0m     \u001b[0mscores\u001b[0m\u001b[0;34m.\u001b[0m\u001b[0mappend\u001b[0m\u001b[0;34m(\u001b[0m\u001b[0mroc_auc_score\u001b[0m\u001b[0;34m(\u001b[0m\u001b[0my_train\u001b[0m\u001b[0;34m.\u001b[0m\u001b[0mvalues\u001b[0m\u001b[0;34m[\u001b[0m\u001b[0mtest\u001b[0m\u001b[0;34m]\u001b[0m\u001b[0;34m,\u001b[0m \u001b[0mpred_statement\u001b[0m\u001b[0;34m)\u001b[0m\u001b[0;34m)\u001b[0m\u001b[0;34m\u001b[0m\u001b[0;34m\u001b[0m\u001b[0m\n\u001b[1;32m     20\u001b[0m \u001b[0;32mreturn\u001b[0m \u001b[0mnp\u001b[0m\u001b[0;34m.\u001b[0m\u001b[0marray\u001b[0m\u001b[0;34m(\u001b[0m\u001b[0mscores\u001b[0m\u001b[0;34m)\u001b[0m\u001b[0;34m\u001b[0m\u001b[0;34m\u001b[0m\u001b[0m\n",
            "\u001b[0;31mIndexError\u001b[0m: index 3200 is out of bounds for axis 0 with size 3200"
          ]
        }
      ]
    },
    {
      "cell_type": "code",
      "metadata": {
        "id": "1PxV3F-34BVe",
        "colab_type": "code",
        "outputId": "a6ab74f5-ea3b-48a0-f1fc-236ad433c958",
        "colab": {
          "base_uri": "https://localhost:8080/",
          "height": 90
        }
      },
      "source": [
        "scores"
      ],
      "execution_count": 0,
      "outputs": [
        {
          "output_type": "execute_result",
          "data": {
            "text/plain": [
              "[0.47354309687261636,\n",
              " 0.5629616885446332,\n",
              " 0.5155952833777101,\n",
              " 0.5381491570983663]"
            ]
          },
          "metadata": {
            "tags": []
          },
          "execution_count": 60
        }
      ]
    },
    {
      "cell_type": "markdown",
      "metadata": {
        "id": "228wlxnT7xSk",
        "colab_type": "text"
      },
      "source": [
        "## PCA exp"
      ]
    },
    {
      "cell_type": "code",
      "metadata": {
        "id": "iPjF5lWL73ju",
        "colab_type": "code",
        "outputId": "7e188b81-fdbb-404d-bfb2-320f9ffa47f8",
        "colab": {
          "base_uri": "https://localhost:8080/",
          "height": 90
        }
      },
      "source": [
        "from sklearn.decomposition import PCA\n",
        "\n",
        "X2_sparse = X2_to_sparse(X2)\n",
        "X2_test_sparse =X2_to_sparse(X2_test)"
      ],
      "execution_count": 0,
      "outputs": [
        {
          "output_type": "stream",
          "text": [
            "/usr/local/lib/python3.6/dist-packages/scipy/sparse/_index.py:127: SparseEfficiencyWarning: Changing the sparsity structure of a csr_matrix is expensive. lil_matrix is more efficient.\n",
            "  self._set_arrayXarray(i, j, x)\n",
            "/usr/local/lib/python3.6/dist-packages/scipy/sparse/_index.py:127: SparseEfficiencyWarning: Changing the sparsity structure of a csr_matrix is expensive. lil_matrix is more efficient.\n",
            "  self._set_arrayXarray(i, j, x)\n"
          ],
          "name": "stderr"
        }
      ]
    },
    {
      "cell_type": "code",
      "metadata": {
        "id": "r7Ge6MLd9PWp",
        "colab_type": "code",
        "outputId": "32f5e3da-e641-4f72-a4a9-90694dc369d0",
        "colab": {
          "base_uri": "https://localhost:8080/",
          "height": 308
        }
      },
      "source": [
        "X_train = X1\\\n",
        "    .merge(Y, on='id', suffixes=('', '_y'),)\\\n",
        "    .iloc[:, :-5]\n",
        "\n",
        "y_train = Y['1']\n",
        "\n",
        "lgb_model = lgb.LGBMClassifier(objective='cross_entropy', n_estimators=300, max_depth=5, learning_rate=0.001)\n",
        "scores = validate(lgb_model, X_train.values, y_train.values)\n",
        "print(scores)\n",
        "print(scores.mean())"
      ],
      "execution_count": 0,
      "outputs": [
        {
          "output_type": "stream",
          "text": [
            "\n",
            "\n",
            "  0%|          | 0/5 [00:00<?, ?it/s]\u001b[A\u001b[A\n",
            "\n",
            " 20%|██        | 1/5 [00:00<00:01,  2.44it/s]\u001b[A\u001b[A\n",
            "\n",
            " 40%|████      | 2/5 [00:00<00:01,  2.39it/s]\u001b[A\u001b[A\n",
            "\n",
            " 60%|██████    | 3/5 [00:01<00:00,  2.33it/s]\u001b[A\u001b[A\n",
            "\n",
            " 80%|████████  | 4/5 [00:01<00:00,  2.33it/s]\u001b[A\u001b[A\n",
            "\n",
            "100%|██████████| 5/5 [00:02<00:00,  2.32it/s]\u001b[A\u001b[A\n",
            "\n",
            "\u001b[A\u001b[A"
          ],
          "name": "stderr"
        },
        {
          "output_type": "stream",
          "text": [
            "[0.59869947 0.59899261 0.58859329 0.61293003 0.60700816]\n",
            "0.6012447124126228\n"
          ],
          "name": "stdout"
        }
      ]
    },
    {
      "cell_type": "code",
      "metadata": {
        "id": "qVp2BFvDfdg5",
        "colab_type": "code",
        "outputId": "f41e07b5-4fe3-4b15-a5ba-203ad2eb7f4f",
        "colab": {
          "base_uri": "https://localhost:8080/",
          "height": 308
        }
      },
      "source": [
        "pca = PCA(n_components=1000)\n",
        "X2_pca = pca.fit_transform(X2_sparse.toarray())\n",
        "\n",
        "X2_components = pd.DataFrame(X2_pca)\n",
        "X2_components['id'] = X2.iloc[:, 0].unique()\n",
        "\n",
        "X_train = X1\\\n",
        "    .merge(components, on='id')\\\n",
        "    .merge(Y, on='id', suffixes=('', '_y'),)\\\n",
        "    .iloc[:, :-5]\n",
        "\n",
        "y_train = Y['1']\n",
        "\n",
        "lgb_model = lgb.LGBMClassifier(objective='cross_entropy', n_estimators=300, max_depth=5, learning_rate=0.001)\n",
        "scores = validate(lgb_model, X_train.values, y_train.values)\n",
        "print(scores)\n",
        "print(scores.mean())"
      ],
      "execution_count": 0,
      "outputs": [
        {
          "output_type": "stream",
          "text": [
            "\n",
            "\n",
            "  0%|          | 0/5 [00:00<?, ?it/s]\u001b[A\u001b[A\n",
            "\n",
            " 20%|██        | 1/5 [00:04<00:16,  4.02s/it]\u001b[A\u001b[A\n",
            "\n",
            " 40%|████      | 2/5 [00:08<00:12,  4.03s/it]\u001b[A\u001b[A\n",
            "\n",
            " 60%|██████    | 3/5 [00:12<00:08,  4.00s/it]\u001b[A\u001b[A\n",
            "\n",
            " 80%|████████  | 4/5 [00:15<00:03,  3.90s/it]\u001b[A\u001b[A\n",
            "\n",
            "100%|██████████| 5/5 [00:19<00:00,  3.94s/it]\u001b[A\u001b[A\n",
            "\n",
            "\u001b[A\u001b[A"
          ],
          "name": "stderr"
        },
        {
          "output_type": "stream",
          "text": [
            "[0.55797864 0.54845488 0.59375443 0.58926158 0.57494644]\n",
            "0.5728791934336322\n"
          ],
          "name": "stdout"
        }
      ]
    },
    {
      "cell_type": "markdown",
      "metadata": {
        "id": "R_0NPgq_IfAq",
        "colab_type": "text"
      },
      "source": [
        "## Smth"
      ]
    },
    {
      "cell_type": "code",
      "metadata": {
        "id": "QQCkjr-GqV2K",
        "colab_type": "code",
        "outputId": "90192a3f-eb20-4b2d-ce67-a30346a4de25",
        "colab": {
          "base_uri": "https://localhost:8080/",
          "height": 34
        }
      },
      "source": [
        "Y['1'].mean()"
      ],
      "execution_count": 0,
      "outputs": [
        {
          "output_type": "execute_result",
          "data": {
            "text/plain": [
              "0.35675"
            ]
          },
          "metadata": {
            "tags": []
          },
          "execution_count": 23
        }
      ]
    },
    {
      "cell_type": "code",
      "metadata": {
        "id": "17eI4POdrYqE",
        "colab_type": "code",
        "outputId": "11aed533-2223-4d58-e082-de99beddfbf9",
        "colab": {
          "base_uri": "https://localhost:8080/",
          "height": 163
        }
      },
      "source": [
        "clf.params"
      ],
      "execution_count": 0,
      "outputs": [
        {
          "output_type": "error",
          "ename": "AttributeError",
          "evalue": "ignored",
          "traceback": [
            "\u001b[0;31m---------------------------------------------------------------------------\u001b[0m",
            "\u001b[0;31mAttributeError\u001b[0m                            Traceback (most recent call last)",
            "\u001b[0;32m<ipython-input-28-eeffc7571bf0>\u001b[0m in \u001b[0;36m<module>\u001b[0;34m()\u001b[0m\n\u001b[0;32m----> 1\u001b[0;31m \u001b[0mclf\u001b[0m\u001b[0;34m.\u001b[0m\u001b[0mparams\u001b[0m\u001b[0;34m\u001b[0m\u001b[0;34m\u001b[0m\u001b[0m\n\u001b[0m",
            "\u001b[0;31mAttributeError\u001b[0m: 'CatBoostClassifier' object has no attribute 'params'"
          ]
        }
      ]
    },
    {
      "cell_type": "code",
      "metadata": {
        "id": "-sZUL4FhIlio",
        "colab_type": "code",
        "outputId": "d1d2a0b4-92fc-476a-dfbd-fa0a32f9a61e",
        "colab": {
          "base_uri": "https://localhost:8080/",
          "height": 459
        }
      },
      "source": [
        "params = {}\n",
        "params['n_estimators'] = 200\n",
        "params['l2_leaf_reg'] = 30\n",
        "params['learning_rate'] = 0.0005\n",
        "params['depth'] = 1\n",
        "params['bootstrap_type'] = ['Bayesian', 'Bernoulli', 'MVS', 'Poisson', 'No'][3]\n",
        "params['subsample'] = 0.3\n",
        "params['grow_policy'] = ['SymmetricTree', 'Depthwise', 'Lossguide'][1]\n",
        "params['leaf_estimation_method'] = ['Newton', 'Gradient'][1]\n",
        "params['boosting_type'] = ['Ordered', 'Plain'][1]\n",
        "params['scale_pos_weight'] = Y['1'].mean()\n",
        "# params['class_weights'] = [0.1, 4]\n",
        "\n",
        "clf = CatBoostClassifier(verbose=100, task_type=\"GPU\", eval_metric=\"AUC\",\n",
        "                         loss_function='Logloss', use_best_model=False, **params)\n",
        "\n",
        "X_train = X1\\\n",
        "    .assign(X2_summed=get_x2_summed(X2))\\\n",
        "    .merge(Y, on='id', suffixes=('', '_y'),)\\\n",
        "    .iloc[:, :-5].drop('id', axis=1).values\n",
        "\n",
        "X_test = X1_test\\\n",
        "    .assign(X2_summed=get_x2_summed(X2_test)).values\n",
        "\n",
        "y_train = Y['1'].values\n",
        "\n",
        "validate(clf, X_train, y_train, random_state=None).mean()"
      ],
      "execution_count": 0,
      "outputs": [
        {
          "output_type": "stream",
          "text": [
            "/usr/local/lib/python3.6/dist-packages/scipy/sparse/_index.py:127: SparseEfficiencyWarning: Changing the sparsity structure of a csr_matrix is expensive. lil_matrix is more efficient.\n",
            "  self._set_arrayXarray(i, j, x)\n",
            "/usr/local/lib/python3.6/dist-packages/scipy/sparse/_index.py:127: SparseEfficiencyWarning: Changing the sparsity structure of a csr_matrix is expensive. lil_matrix is more efficient.\n",
            "  self._set_arrayXarray(i, j, x)\n",
            "  0%|          | 0/5 [00:00<?, ?it/s]"
          ],
          "name": "stderr"
        },
        {
          "output_type": "stream",
          "text": [
            "0:\tlearn: 0.5765363\ttotal: 24.2ms\tremaining: 4.81s\n",
            "100:\tlearn: 0.6029380\ttotal: 2.42s\tremaining: 2.37s\n",
            "199:\tlearn: 0.6031965\ttotal: 4.74s\tremaining: 0us\n"
          ],
          "name": "stdout"
        },
        {
          "output_type": "stream",
          "text": [
            "\r 20%|██        | 1/5 [00:06<00:24,  6.12s/it]"
          ],
          "name": "stderr"
        },
        {
          "output_type": "stream",
          "text": [
            "0.585675057208238\n",
            "0:\tlearn: 0.5494220\ttotal: 21.7ms\tremaining: 4.33s\n",
            "100:\tlearn: 0.5899471\ttotal: 2.24s\tremaining: 2.19s\n",
            "199:\tlearn: 0.5904081\ttotal: 4.85s\tremaining: 0us\n"
          ],
          "name": "stdout"
        },
        {
          "output_type": "stream",
          "text": [
            "\r 40%|████      | 2/5 [00:12<00:18,  6.13s/it]"
          ],
          "name": "stderr"
        },
        {
          "output_type": "stream",
          "text": [
            "0.6232365236362571\n",
            "0:\tlearn: 0.5120666\ttotal: 21.4ms\tremaining: 4.26s\n",
            "100:\tlearn: 0.6005285\ttotal: 2.54s\tremaining: 2.49s\n",
            "199:\tlearn: 0.6002408\ttotal: 5.09s\tremaining: 0us\n"
          ],
          "name": "stdout"
        },
        {
          "output_type": "stream",
          "text": [
            "\r 60%|██████    | 3/5 [00:18<00:12,  6.18s/it]"
          ],
          "name": "stderr"
        },
        {
          "output_type": "stream",
          "text": [
            "0.5803444238098434\n",
            "0:\tlearn: 0.5115437\ttotal: 27.5ms\tremaining: 5.47s\n",
            "100:\tlearn: 0.5963777\ttotal: 2.57s\tremaining: 2.52s\n",
            "199:\tlearn: 0.5977219\ttotal: 5.24s\tremaining: 0us\n"
          ],
          "name": "stdout"
        },
        {
          "output_type": "stream",
          "text": [
            "\r 80%|████████  | 4/5 [00:25<00:06,  6.26s/it]"
          ],
          "name": "stderr"
        },
        {
          "output_type": "stream",
          "text": [
            "0.6117522093199702\n",
            "0:\tlearn: 0.5680226\ttotal: 28.1ms\tremaining: 5.58s\n",
            "100:\tlearn: 0.5985474\ttotal: 2.64s\tremaining: 2.59s\n",
            "199:\tlearn: 0.5993000\ttotal: 5.24s\tremaining: 0us\n"
          ],
          "name": "stdout"
        },
        {
          "output_type": "stream",
          "text": [
            "\r100%|██████████| 5/5 [00:31<00:00,  6.32s/it]"
          ],
          "name": "stderr"
        },
        {
          "output_type": "stream",
          "text": [
            "0.6077162396172698\n"
          ],
          "name": "stdout"
        },
        {
          "output_type": "stream",
          "text": [
            "\n"
          ],
          "name": "stderr"
        },
        {
          "output_type": "execute_result",
          "data": {
            "text/plain": [
              "0.6017448907183158"
            ]
          },
          "metadata": {
            "tags": []
          },
          "execution_count": 29
        }
      ]
    },
    {
      "cell_type": "code",
      "metadata": {
        "id": "YuC7ciQ3dMlH",
        "colab_type": "code",
        "outputId": "8506a2c0-d11a-4c8d-bb10-438f0347cb52",
        "colab": {
          "base_uri": "https://localhost:8080/",
          "height": 1000
        }
      },
      "source": [
        "for i in '12345':\n",
        "\n",
        "    params['scale_pos_weight'] = Y[i].mean()\n",
        "    clf = CatBoostClassifier(verbose=100, task_type=\"GPU\", eval_metric=\"AUC\",\n",
        "                         loss_function='Logloss', use_best_model=False, **params)\n",
        "\n",
        "    y_train = Y[i].values\n",
        "\n",
        "    print(validate(clf, X_train, y_train, random_state=None).mean())"
      ],
      "execution_count": 0,
      "outputs": [
        {
          "output_type": "stream",
          "text": [
            "\r  0%|          | 0/5 [00:00<?, ?it/s]"
          ],
          "name": "stderr"
        },
        {
          "output_type": "stream",
          "text": [
            "0:\tlearn: 0.5765363\ttotal: 27.1ms\tremaining: 5.4s\n",
            "100:\tlearn: 0.6029380\ttotal: 2.62s\tremaining: 2.56s\n",
            "199:\tlearn: 0.6031965\ttotal: 5.12s\tremaining: 0us\n"
          ],
          "name": "stdout"
        },
        {
          "output_type": "stream",
          "text": [
            "\r 20%|██        | 1/5 [00:06<00:25,  6.34s/it]"
          ],
          "name": "stderr"
        },
        {
          "output_type": "stream",
          "text": [
            "0.585675057208238\n",
            "0:\tlearn: 0.5494220\ttotal: 26.5ms\tremaining: 5.27s\n",
            "100:\tlearn: 0.5899471\ttotal: 2.62s\tremaining: 2.56s\n",
            "199:\tlearn: 0.5904081\ttotal: 5.28s\tremaining: 0us\n"
          ],
          "name": "stdout"
        },
        {
          "output_type": "stream",
          "text": [
            "\r 40%|████      | 2/5 [00:12<00:19,  6.40s/it]"
          ],
          "name": "stderr"
        },
        {
          "output_type": "stream",
          "text": [
            "0.6232365236362571\n",
            "0:\tlearn: 0.5120666\ttotal: 29.9ms\tremaining: 5.95s\n",
            "100:\tlearn: 0.6005285\ttotal: 2.72s\tremaining: 2.66s\n",
            "199:\tlearn: 0.6002408\ttotal: 4.92s\tremaining: 0us\n"
          ],
          "name": "stdout"
        },
        {
          "output_type": "stream",
          "text": [
            "\r 60%|██████    | 3/5 [00:19<00:12,  6.32s/it]"
          ],
          "name": "stderr"
        },
        {
          "output_type": "stream",
          "text": [
            "0.5803444238098434\n",
            "0:\tlearn: 0.5115437\ttotal: 21.9ms\tremaining: 4.35s\n",
            "100:\tlearn: 0.5963777\ttotal: 2.36s\tremaining: 2.32s\n",
            "199:\tlearn: 0.5977219\ttotal: 5.18s\tremaining: 0us\n"
          ],
          "name": "stdout"
        },
        {
          "output_type": "stream",
          "text": [
            "\r 80%|████████  | 4/5 [00:25<00:06,  6.40s/it]"
          ],
          "name": "stderr"
        },
        {
          "output_type": "stream",
          "text": [
            "0.6117522093199702\n",
            "0:\tlearn: 0.5680226\ttotal: 33.4ms\tremaining: 6.65s\n",
            "100:\tlearn: 0.5985474\ttotal: 2.22s\tremaining: 2.18s\n",
            "199:\tlearn: 0.5993000\ttotal: 4.74s\tremaining: 0us\n"
          ],
          "name": "stdout"
        },
        {
          "output_type": "stream",
          "text": [
            "100%|██████████| 5/5 [00:31<00:00,  6.27s/it]\n",
            "  0%|          | 0/5 [00:00<?, ?it/s]"
          ],
          "name": "stderr"
        },
        {
          "output_type": "stream",
          "text": [
            "0.6077162396172698\n",
            "0.6017448907183158\n",
            "0:\tlearn: 0.5691314\ttotal: 27.4ms\tremaining: 5.46s\n",
            "100:\tlearn: 0.5952858\ttotal: 2.63s\tremaining: 2.57s\n",
            "199:\tlearn: 0.5971487\ttotal: 4.85s\tremaining: 0us\n"
          ],
          "name": "stdout"
        },
        {
          "output_type": "stream",
          "text": [
            "\r 20%|██        | 1/5 [00:06<00:24,  6.06s/it]"
          ],
          "name": "stderr"
        },
        {
          "output_type": "stream",
          "text": [
            "0.5949430199430199\n",
            "0:\tlearn: 0.5719472\ttotal: 26.4ms\tremaining: 5.25s\n",
            "100:\tlearn: 0.5973387\ttotal: 2.47s\tremaining: 2.42s\n",
            "199:\tlearn: 0.5994954\ttotal: 4.52s\tremaining: 0us\n"
          ],
          "name": "stdout"
        },
        {
          "output_type": "stream",
          "text": [
            "\r 40%|████      | 2/5 [00:11<00:17,  5.96s/it]"
          ],
          "name": "stderr"
        },
        {
          "output_type": "stream",
          "text": [
            "0.5748785347745387\n",
            "0:\tlearn: 0.5522700\ttotal: 26.2ms\tremaining: 5.22s\n",
            "100:\tlearn: 0.6003960\ttotal: 2.19s\tremaining: 2.15s\n",
            "199:\tlearn: 0.5999157\ttotal: 4.59s\tremaining: 0us\n"
          ],
          "name": "stdout"
        },
        {
          "output_type": "stream",
          "text": [
            "\r 60%|██████    | 3/5 [00:17<00:11,  5.92s/it]"
          ],
          "name": "stderr"
        },
        {
          "output_type": "stream",
          "text": [
            "0.58861\n",
            "0:\tlearn: 0.5542015\ttotal: 38.5ms\tremaining: 7.66s\n",
            "100:\tlearn: 0.5913399\ttotal: 2.69s\tremaining: 2.64s\n",
            "199:\tlearn: 0.5917188\ttotal: 4.91s\tremaining: 0us\n"
          ],
          "name": "stdout"
        },
        {
          "output_type": "stream",
          "text": [
            "\r 80%|████████  | 4/5 [00:23<00:05,  5.98s/it]"
          ],
          "name": "stderr"
        },
        {
          "output_type": "stream",
          "text": [
            "0.5953035574009651\n",
            "0:\tlearn: 0.5641883\ttotal: 35.7ms\tremaining: 7.11s\n",
            "100:\tlearn: 0.5972145\ttotal: 2.22s\tremaining: 2.18s\n",
            "199:\tlearn: 0.5965818\ttotal: 4.37s\tremaining: 0us\n"
          ],
          "name": "stdout"
        },
        {
          "output_type": "stream",
          "text": [
            "100%|██████████| 5/5 [00:29<00:00,  5.86s/it]\n",
            "  0%|          | 0/5 [00:00<?, ?it/s]"
          ],
          "name": "stderr"
        },
        {
          "output_type": "stream",
          "text": [
            "0.609046155169078\n",
            "0.5925562534575203\n",
            "0:\tlearn: 0.6045288\ttotal: 22.1ms\tremaining: 4.4s\n",
            "100:\tlearn: 0.6130659\ttotal: 2.26s\tremaining: 2.22s\n",
            "199:\tlearn: 0.6164891\ttotal: 4.45s\tremaining: 0us\n"
          ],
          "name": "stdout"
        },
        {
          "output_type": "stream",
          "text": [
            "\r 20%|██        | 1/5 [00:05<00:22,  5.68s/it]"
          ],
          "name": "stderr"
        },
        {
          "output_type": "stream",
          "text": [
            "0.603684548854605\n",
            "0:\tlearn: 0.6060104\ttotal: 21.2ms\tremaining: 4.22s\n",
            "100:\tlearn: 0.6068392\ttotal: 2.58s\tremaining: 2.53s\n",
            "199:\tlearn: 0.6119654\ttotal: 5.36s\tremaining: 0us\n"
          ],
          "name": "stdout"
        },
        {
          "output_type": "stream",
          "text": [
            "\r 40%|████      | 2/5 [00:12<00:18,  6.00s/it]"
          ],
          "name": "stderr"
        },
        {
          "output_type": "stream",
          "text": [
            "0.570873180283209\n",
            "0:\tlearn: 0.5967220\ttotal: 25.9ms\tremaining: 5.16s\n",
            "100:\tlearn: 0.6005843\ttotal: 2.69s\tremaining: 2.64s\n",
            "199:\tlearn: 0.6182997\ttotal: 5.17s\tremaining: 0us\n"
          ],
          "name": "stdout"
        },
        {
          "output_type": "stream",
          "text": [
            "\r 60%|██████    | 3/5 [00:18<00:12,  6.12s/it]"
          ],
          "name": "stderr"
        },
        {
          "output_type": "stream",
          "text": [
            "0.6307361698210733\n",
            "0:\tlearn: 0.6021319\ttotal: 25.8ms\tremaining: 5.14s\n",
            "100:\tlearn: 0.6021319\ttotal: 2.66s\tremaining: 2.61s\n",
            "199:\tlearn: 0.6147899\ttotal: 5.29s\tremaining: 0us\n"
          ],
          "name": "stdout"
        },
        {
          "output_type": "stream",
          "text": [
            "\r 80%|████████  | 4/5 [00:25<00:06,  6.23s/it]"
          ],
          "name": "stderr"
        },
        {
          "output_type": "stream",
          "text": [
            "0.6049216524216524\n",
            "0:\tlearn: 0.6009028\ttotal: 29.1ms\tremaining: 5.79s\n",
            "100:\tlearn: 0.6211843\ttotal: 2.64s\tremaining: 2.59s\n",
            "199:\tlearn: 0.6287224\ttotal: 5.22s\tremaining: 0us\n"
          ],
          "name": "stdout"
        },
        {
          "output_type": "stream",
          "text": [
            "100%|██████████| 5/5 [00:31<00:00,  6.30s/it]\n",
            "  0%|          | 0/5 [00:00<?, ?it/s]"
          ],
          "name": "stderr"
        },
        {
          "output_type": "stream",
          "text": [
            "0.6064388736263736\n",
            "0.6033308850013827\n",
            "0:\tlearn: 0.5830326\ttotal: 28.9ms\tremaining: 5.74s\n",
            "100:\tlearn: 0.5983925\ttotal: 2.6s\tremaining: 2.55s\n",
            "199:\tlearn: 0.6059082\ttotal: 5.17s\tremaining: 0us\n"
          ],
          "name": "stdout"
        },
        {
          "output_type": "stream",
          "text": [
            "\r 20%|██        | 1/5 [00:06<00:25,  6.39s/it]"
          ],
          "name": "stderr"
        },
        {
          "output_type": "stream",
          "text": [
            "0.5850458353569694\n",
            "0:\tlearn: 0.5815260\ttotal: 28.4ms\tremaining: 5.65s\n",
            "100:\tlearn: 0.5965360\ttotal: 2.44s\tremaining: 2.39s\n",
            "199:\tlearn: 0.6014209\ttotal: 4.6s\tremaining: 0us\n"
          ],
          "name": "stdout"
        },
        {
          "output_type": "stream",
          "text": [
            "\r 40%|████      | 2/5 [00:12<00:18,  6.22s/it]"
          ],
          "name": "stderr"
        },
        {
          "output_type": "stream",
          "text": [
            "0.606672170084579\n",
            "0:\tlearn: 0.5820839\ttotal: 28.3ms\tremaining: 5.63s\n",
            "100:\tlearn: 0.6071196\ttotal: 2.49s\tremaining: 2.44s\n",
            "199:\tlearn: 0.6101930\ttotal: 4.63s\tremaining: 0us\n"
          ],
          "name": "stdout"
        },
        {
          "output_type": "stream",
          "text": [
            "\r 60%|██████    | 3/5 [00:18<00:12,  6.11s/it]"
          ],
          "name": "stderr"
        },
        {
          "output_type": "stream",
          "text": [
            "0.5937643565850013\n",
            "0:\tlearn: 0.5834829\ttotal: 26ms\tremaining: 5.18s\n",
            "100:\tlearn: 0.6040560\ttotal: 2.54s\tremaining: 2.49s\n",
            "199:\tlearn: 0.6039606\ttotal: 5.04s\tremaining: 0us\n"
          ],
          "name": "stdout"
        },
        {
          "output_type": "stream",
          "text": [
            "\r 80%|████████  | 4/5 [00:24<00:06,  6.21s/it]"
          ],
          "name": "stderr"
        },
        {
          "output_type": "stream",
          "text": [
            "0.5923813868613139\n",
            "0:\tlearn: 0.5903234\ttotal: 26.7ms\tremaining: 5.32s\n",
            "100:\tlearn: 0.6036324\ttotal: 2.6s\tremaining: 2.55s\n",
            "199:\tlearn: 0.6080694\ttotal: 5.09s\tremaining: 0us\n"
          ],
          "name": "stdout"
        },
        {
          "output_type": "stream",
          "text": [
            "100%|██████████| 5/5 [00:30<00:00,  6.24s/it]\n",
            "  0%|          | 0/5 [00:00<?, ?it/s]"
          ],
          "name": "stderr"
        },
        {
          "output_type": "stream",
          "text": [
            "0.5858109221718224\n",
            "0.5927349342119371\n",
            "0:\tlearn: 0.5318584\ttotal: 28.6ms\tremaining: 5.7s\n",
            "100:\tlearn: 0.5685467\ttotal: 2.64s\tremaining: 2.59s\n",
            "199:\tlearn: 0.5688643\ttotal: 5.33s\tremaining: 0us\n"
          ],
          "name": "stdout"
        },
        {
          "output_type": "stream",
          "text": [
            "\r 20%|██        | 1/5 [00:06<00:26,  6.56s/it]"
          ],
          "name": "stderr"
        },
        {
          "output_type": "stream",
          "text": [
            "0.5643680007497106\n",
            "0:\tlearn: 0.5286748\ttotal: 28ms\tremaining: 5.58s\n",
            "100:\tlearn: 0.5639448\ttotal: 2.56s\tremaining: 2.51s\n",
            "199:\tlearn: 0.5669696\ttotal: 5.13s\tremaining: 0us\n"
          ],
          "name": "stdout"
        },
        {
          "output_type": "stream",
          "text": [
            "\r 40%|████      | 2/5 [00:12<00:19,  6.50s/it]"
          ],
          "name": "stderr"
        },
        {
          "output_type": "stream",
          "text": [
            "0.5610231540911901\n",
            "0:\tlearn: 0.5295160\ttotal: 30.2ms\tremaining: 6s\n",
            "100:\tlearn: 0.5759641\ttotal: 2.75s\tremaining: 2.69s\n",
            "199:\tlearn: 0.5788688\ttotal: 5.38s\tremaining: 0us\n"
          ],
          "name": "stdout"
        },
        {
          "output_type": "stream",
          "text": [
            "\r 60%|██████    | 3/5 [00:19<00:13,  6.53s/it]"
          ],
          "name": "stderr"
        },
        {
          "output_type": "stream",
          "text": [
            "0.5229381166881166\n",
            "0:\tlearn: 0.5270205\ttotal: 28.1ms\tremaining: 5.6s\n",
            "100:\tlearn: 0.5685490\ttotal: 2.67s\tremaining: 2.61s\n",
            "199:\tlearn: 0.5691515\ttotal: 5.38s\tremaining: 0us\n"
          ],
          "name": "stdout"
        },
        {
          "output_type": "stream",
          "text": [
            "\r 80%|████████  | 4/5 [00:26<00:06,  6.54s/it]"
          ],
          "name": "stderr"
        },
        {
          "output_type": "stream",
          "text": [
            "0.5537806396576751\n",
            "0:\tlearn: 0.5293401\ttotal: 30.8ms\tremaining: 6.12s\n",
            "100:\tlearn: 0.5685141\ttotal: 2.69s\tremaining: 2.64s\n",
            "199:\tlearn: 0.5700164\ttotal: 5.35s\tremaining: 0us\n"
          ],
          "name": "stdout"
        },
        {
          "output_type": "stream",
          "text": [
            "\r100%|██████████| 5/5 [00:32<00:00,  6.56s/it]"
          ],
          "name": "stderr"
        },
        {
          "output_type": "stream",
          "text": [
            "0.5371977050836045\n",
            "0.5478615232540595\n"
          ],
          "name": "stdout"
        },
        {
          "output_type": "stream",
          "text": [
            "\n"
          ],
          "name": "stderr"
        }
      ]
    },
    {
      "cell_type": "code",
      "metadata": {
        "id": "XEQSRKiHsUOt",
        "colab_type": "code",
        "outputId": "3bf5da87-e592-424a-8083-04acf9411e88",
        "colab": {
          "base_uri": "https://localhost:8080/",
          "height": 289
        }
      },
      "source": [
        "probas = []\n",
        "\n",
        "for i in tqdm('12345'):\n",
        "\n",
        "    # X_train = X1.merge(Y, on='id', suffixes=('', '_y'),).iloc[:, :-5].drop('id', axis=1).values\n",
        "    y = Y[i].values\n",
        "\n",
        "    params['scale_pos_weight'] = Y[i].mean()\n",
        "    estimator = CatBoostClassifier(verbose=100, task_type=\"GPU\", eval_metric=\"AUC\",\n",
        "                         loss_function='Logloss', use_best_model=False, **params)\n",
        "\n",
        "    estimator.fit(X_train, y)\n",
        "    proba = estimator.predict_proba(X_test)[:, 1]\n",
        "\n",
        "    probas.append(proba)\n",
        "\n",
        "tmp = pd.DataFrame(probas).T\n",
        "baseline = pd.DataFrame(tmp.values, columns=['1', '2', '3', '4', '5'])\n",
        "baseline['id'] = X1_test['id']\n",
        "baseline[['id', '1', '2', '3', '4', '5']].to_csv('cat-X2_sum-meaned_weights'+'.csv', index=False)"
      ],
      "execution_count": 0,
      "outputs": [
        {
          "output_type": "stream",
          "text": [
            "\r  0%|          | 0/5 [00:00<?, ?it/s]"
          ],
          "name": "stderr"
        },
        {
          "output_type": "stream",
          "text": [
            "0:\tlearn: 0.5711173\ttotal: 31.8ms\tremaining: 6.33s\n",
            "100:\tlearn: 0.5956055\ttotal: 2.6s\tremaining: 2.54s\n",
            "199:\tlearn: 0.5963725\ttotal: 4.93s\tremaining: 0us\n"
          ],
          "name": "stdout"
        },
        {
          "output_type": "stream",
          "text": [
            "\r 20%|██        | 1/5 [00:06<00:25,  6.27s/it]"
          ],
          "name": "stderr"
        },
        {
          "output_type": "stream",
          "text": [
            "0:\tlearn: 0.5652247\ttotal: 21.5ms\tremaining: 4.28s\n",
            "100:\tlearn: 0.5955600\ttotal: 2.23s\tremaining: 2.18s\n",
            "199:\tlearn: 0.5951335\ttotal: 4.78s\tremaining: 0us\n"
          ],
          "name": "stdout"
        },
        {
          "output_type": "stream",
          "text": [
            "\r 40%|████      | 2/5 [00:12<00:18,  6.18s/it]"
          ],
          "name": "stderr"
        },
        {
          "output_type": "stream",
          "text": [
            "0:\tlearn: 0.6020982\ttotal: 28.2ms\tremaining: 5.61s\n",
            "100:\tlearn: 0.6133099\ttotal: 2.76s\tremaining: 2.7s\n",
            "199:\tlearn: 0.6179802\ttotal: 5.41s\tremaining: 0us\n"
          ],
          "name": "stdout"
        },
        {
          "output_type": "stream",
          "text": [
            "\r 60%|██████    | 3/5 [00:18<00:12,  6.31s/it]"
          ],
          "name": "stderr"
        },
        {
          "output_type": "stream",
          "text": [
            "0:\tlearn: 0.5841478\ttotal: 28.6ms\tremaining: 5.68s\n",
            "100:\tlearn: 0.5997125\ttotal: 2.77s\tremaining: 2.71s\n",
            "199:\tlearn: 0.6043497\ttotal: 5.1s\tremaining: 0us\n"
          ],
          "name": "stdout"
        },
        {
          "output_type": "stream",
          "text": [
            "\r 80%|████████  | 4/5 [00:25<00:06,  6.36s/it]"
          ],
          "name": "stderr"
        },
        {
          "output_type": "stream",
          "text": [
            "0:\tlearn: 0.5274199\ttotal: 21.6ms\tremaining: 4.3s\n",
            "100:\tlearn: 0.5671892\ttotal: 2.2s\tremaining: 2.16s\n",
            "199:\tlearn: 0.5668332\ttotal: 4.46s\tremaining: 0us\n"
          ],
          "name": "stdout"
        },
        {
          "output_type": "stream",
          "text": [
            "\r100%|██████████| 5/5 [00:30<00:00,  6.15s/it]\n"
          ],
          "name": "stderr"
        }
      ]
    },
    {
      "cell_type": "markdown",
      "metadata": {
        "id": "uLswdO-ytRiO",
        "colab_type": "text"
      },
      "source": [
        "0.520988"
      ]
    },
    {
      "cell_type": "code",
      "metadata": {
        "id": "RJr5rawsIoC3",
        "colab_type": "code",
        "outputId": "ba38d0ff-29c6-44ad-acd2-e5ddbcb5ab91",
        "colab": {
          "base_uri": "https://localhost:8080/",
          "height": 204
        }
      },
      "source": [
        "make_predictions(clf, 'cat_tuned_X2-sum', X_train, Y, X_test)"
      ],
      "execution_count": 0,
      "outputs": [
        {
          "output_type": "stream",
          "text": [
            "\r  0%|          | 0/5 [00:00<?, ?it/s]"
          ],
          "name": "stderr"
        },
        {
          "output_type": "stream",
          "text": [
            "0:\tlearn: 0.5711173\ttotal: 30.6ms\tremaining: 3.03s\n",
            "99:\tlearn: 0.6337681\ttotal: 2.94s\tremaining: 0us\n"
          ],
          "name": "stdout"
        },
        {
          "output_type": "stream",
          "text": [
            "\r 20%|██        | 1/5 [00:04<00:16,  4.22s/it]"
          ],
          "name": "stderr"
        },
        {
          "output_type": "stream",
          "text": [
            "0:\tlearn: 0.5652247\ttotal: 28.5ms\tremaining: 2.83s\n",
            "99:\tlearn: 0.6324037\ttotal: 2.74s\tremaining: 0us\n"
          ],
          "name": "stdout"
        },
        {
          "output_type": "stream",
          "text": [
            "\r 40%|████      | 2/5 [00:08<00:12,  4.16s/it]"
          ],
          "name": "stderr"
        },
        {
          "output_type": "stream",
          "text": [
            "0:\tlearn: 0.6020982\ttotal: 29ms\tremaining: 2.87s\n",
            "99:\tlearn: 0.6469895\ttotal: 2.61s\tremaining: 0us\n"
          ],
          "name": "stdout"
        },
        {
          "output_type": "stream",
          "text": [
            "\r 60%|██████    | 3/5 [00:11<00:08,  4.03s/it]"
          ],
          "name": "stderr"
        },
        {
          "output_type": "stream",
          "text": [
            "0:\tlearn: 0.5841478\ttotal: 26.1ms\tremaining: 2.59s\n",
            "99:\tlearn: 0.6294828\ttotal: 2.53s\tremaining: 0us\n"
          ],
          "name": "stdout"
        },
        {
          "output_type": "stream",
          "text": [
            "\r 80%|████████  | 4/5 [00:15<00:03,  3.92s/it]"
          ],
          "name": "stderr"
        },
        {
          "output_type": "stream",
          "text": [
            "0:\tlearn: 0.5274199\ttotal: 26.2ms\tremaining: 2.6s\n",
            "99:\tlearn: 0.5987476\ttotal: 2.54s\tremaining: 0us\n"
          ],
          "name": "stdout"
        },
        {
          "output_type": "stream",
          "text": [
            "\r100%|██████████| 5/5 [00:19<00:00,  3.85s/it]\n"
          ],
          "name": "stderr"
        }
      ]
    },
    {
      "cell_type": "markdown",
      "metadata": {
        "id": "C8gVEFkMnhf-",
        "colab_type": "text"
      },
      "source": [
        "0.521081"
      ]
    },
    {
      "cell_type": "code",
      "metadata": {
        "id": "7c4XLoortT27",
        "colab_type": "code",
        "outputId": "89c7aff6-1a37-4442-93e8-a9441e64bca5",
        "colab": {
          "base_uri": "https://localhost:8080/",
          "height": 204
        }
      },
      "source": [
        "clf = CatBoostClassifier(verbose=False, task_type=\"GPU\", eval_metric=\"AUC\",\n",
        "                         loss_function='Logloss', use_best_model=False)\n",
        "\n",
        "X3_train_summed = X3.drop('id', axis=1).multiply(1 / X3[X3 != 0].drop('id', axis=1).min(axis=1), axis=0).sum(axis=1)\n",
        "X3_test_summed = X3_test.drop('id', axis=1).multiply(1 / X3_test[X3_test != 0].drop('id', axis=1).min(axis=1), axis=0).sum(axis=1)\n",
        "\n",
        "X_train = X1\\\n",
        "    .assign(X2_summed=get_x2_summed(X2))\\\n",
        "    .assign(X3_summed_dernomalized=X3_train_summed)\\\n",
        "    .assign(X3_non_zero_count=(X3.drop('id',axis=1) != 0).sum(axis=1))\\\n",
        "    .assign(X3_mean=X3.drop('id', axis=1).mean(axis=1))\\\n",
        "    .merge(Y, on='id', suffixes=('', '_y'),)\\\n",
        "    .iloc[:, :-5]\\\n",
        "    .values\n",
        "\n",
        "X_test = X1_test\\\n",
        "    .assign(X2_summed=get_x2_summed(X2_test))\\\n",
        "    .assign(X3_summed_dernomalized=X3_test_summed)\\\n",
        "    .assign(X3_non_zero_count=(X3_test.drop('id',axis=1) != 0).sum(axis=1))\\\n",
        "    .assign(X3_mean=X3_test.drop('id', axis=1).mean(axis=1))\\\n",
        "    .values\n",
        "\n",
        "y_train = Y['1'].values\n",
        "validate(clf, X_train, y_train, random_state=None).mean()\n",
        "\n",
        "make_predictions(clf, 'cat_default-X2-X3_full', X_train, Y, X_test)"
      ],
      "execution_count": 0,
      "outputs": [
        {
          "output_type": "stream",
          "text": [
            "/usr/local/lib/python3.6/dist-packages/scipy/sparse/_index.py:127: SparseEfficiencyWarning: Changing the sparsity structure of a csr_matrix is expensive. lil_matrix is more efficient.\n",
            "  self._set_arrayXarray(i, j, x)\n",
            "/usr/local/lib/python3.6/dist-packages/scipy/sparse/_index.py:127: SparseEfficiencyWarning: Changing the sparsity structure of a csr_matrix is expensive. lil_matrix is more efficient.\n",
            "  self._set_arrayXarray(i, j, x)\n",
            " 20%|██        | 1/5 [00:40<02:42, 40.60s/it]"
          ],
          "name": "stderr"
        },
        {
          "output_type": "stream",
          "text": [
            "0.5807398932112892\n"
          ],
          "name": "stdout"
        },
        {
          "output_type": "stream",
          "text": [
            "\r 40%|████      | 2/5 [01:20<02:01, 40.39s/it]"
          ],
          "name": "stderr"
        },
        {
          "output_type": "stream",
          "text": [
            "0.5978212327312926\n"
          ],
          "name": "stdout"
        },
        {
          "output_type": "stream",
          "text": [
            "\r 60%|██████    | 3/5 [02:01<01:20, 40.48s/it]"
          ],
          "name": "stderr"
        },
        {
          "output_type": "stream",
          "text": [
            "0.5754294110188769\n"
          ],
          "name": "stdout"
        },
        {
          "output_type": "stream",
          "text": [
            "\r 80%|████████  | 4/5 [02:41<00:40, 40.41s/it]"
          ],
          "name": "stderr"
        },
        {
          "output_type": "stream",
          "text": [
            "0.6137248809532412\n"
          ],
          "name": "stdout"
        },
        {
          "output_type": "stream",
          "text": [
            "100%|██████████| 5/5 [03:22<00:00, 40.47s/it]\n",
            "  0%|          | 0/5 [00:00<?, ?it/s]"
          ],
          "name": "stderr"
        },
        {
          "output_type": "stream",
          "text": [
            "0.5995568078424467\n"
          ],
          "name": "stdout"
        },
        {
          "output_type": "stream",
          "text": [
            "100%|██████████| 5/5 [03:28<00:00, 41.85s/it]\n"
          ],
          "name": "stderr"
        }
      ]
    },
    {
      "cell_type": "markdown",
      "metadata": {
        "id": "mR7ikA5uyCSU",
        "colab_type": "text"
      },
      "source": [
        "0.576648"
      ]
    },
    {
      "cell_type": "code",
      "metadata": {
        "id": "P6_XuqjCyBCT",
        "colab_type": "code",
        "outputId": "ffab33b0-81d2-4985-9569-eb551c7cdf9e",
        "colab": {
          "base_uri": "https://localhost:8080/",
          "height": 136
        }
      },
      "source": [
        "clf = CatBoostClassifier(verbose=False, task_type=\"GPU\", eval_metric=\"AUC\",\n",
        "                         loss_function='Logloss', use_best_model=False)\n",
        "\n",
        "X_train = X1\\\n",
        "    .merge(Y, on='id', suffixes=('', '_y'),)\\\n",
        "    .iloc[:, :-5]\\\n",
        "    .drop('id', axis=1)\\\n",
        "    .values\n",
        "\n",
        "X_test = X1_test\\\n",
        "    .drop('id', axis=1)\\\n",
        "    .values\n",
        "\n",
        "y_train = Y['1'].values\n",
        "validate(clf, X_train, y_train, random_state=None).mean()\n",
        "\n",
        "make_predictions(clf, 'cat_default-X2-X3_full', X_train, Y, X_test)"
      ],
      "execution_count": 0,
      "outputs": [
        {
          "output_type": "stream",
          "text": [
            " 20%|██        | 1/5 [00:40<02:41, 40.39s/it]"
          ],
          "name": "stderr"
        },
        {
          "output_type": "stream",
          "text": [
            "0.5962929061784897\n"
          ],
          "name": "stdout"
        },
        {
          "output_type": "stream",
          "text": [
            "\r 40%|████      | 2/5 [01:19<02:00, 40.11s/it]"
          ],
          "name": "stderr"
        },
        {
          "output_type": "stream",
          "text": [
            "0.5809094303431412\n"
          ],
          "name": "stdout"
        },
        {
          "output_type": "stream",
          "text": [
            "\r 60%|██████    | 3/5 [02:00<01:20, 40.20s/it]"
          ],
          "name": "stderr"
        },
        {
          "output_type": "stream",
          "text": [
            "0.589756785178887\n"
          ],
          "name": "stdout"
        },
        {
          "output_type": "stream",
          "text": [
            "\r 80%|████████  | 4/5 [02:39<00:39, 39.94s/it]"
          ],
          "name": "stderr"
        },
        {
          "output_type": "stream",
          "text": [
            "0.6133997152994053\n"
          ],
          "name": "stdout"
        },
        {
          "output_type": "stream",
          "text": [
            "100%|██████████| 5/5 [03:19<00:00, 39.81s/it]\n",
            "  0%|          | 0/5 [00:00<?, ?it/s]"
          ],
          "name": "stderr"
        },
        {
          "output_type": "stream",
          "text": [
            "0.6069457896745032\n"
          ],
          "name": "stdout"
        },
        {
          "output_type": "stream",
          "text": [
            "100%|██████████| 5/5 [03:27<00:00, 41.61s/it]\n"
          ],
          "name": "stderr"
        }
      ]
    },
    {
      "cell_type": "code",
      "metadata": {
        "id": "TbZz2whb32hA",
        "colab_type": "code",
        "outputId": "21d8216b-21f9-44ca-cc8f-2754a4d939f1",
        "colab": {
          "base_uri": "https://localhost:8080/",
          "height": 153
        }
      },
      "source": [
        "xgb_params = {'objective': 'binary:logistic', \n",
        "        'eval_metric': 'auc',\n",
        "        'eta': 0.001,\n",
        "        'max_depth': 1, \n",
        "        'subsample': 0.6, \n",
        "        'colsample_bytree': 0.6,\n",
        "        'alpha':0.001,\n",
        "        # 'random_state': 42, \n",
        "        'silent': True}\n",
        "\n",
        "xgb_cls = xgb.XGBClassifier(n_jobs=8, **xgb_params)\n",
        "\n",
        "X_train = X1\\\n",
        "    .merge(Y, on='id', suffixes=('', '_y'),)\\\n",
        "    .iloc[:, :-5]\\\n",
        "    .drop('id', axis=1)\\\n",
        "    .values\n",
        "\n",
        "X_test = X1_test\\\n",
        "    .drop('id', axis=1)\\\n",
        "    .values\n",
        "\n",
        "y_train = Y['1'].values\n",
        "print(validate(xgb_cls, X_train, y_train, random_state=None).mean())\n",
        "\n",
        "make_predictions(xgb_cls, 'xgb_X1-without-id', X_train, Y, X_test)"
      ],
      "execution_count": 0,
      "outputs": [
        {
          "output_type": "stream",
          "text": [
            " 40%|████      | 2/5 [00:00<00:01,  2.15it/s]"
          ],
          "name": "stderr"
        },
        {
          "output_type": "stream",
          "text": [
            "0.5861365369946605\n",
            "0.6157872773462381\n"
          ],
          "name": "stdout"
        },
        {
          "output_type": "stream",
          "text": [
            " 80%|████████  | 4/5 [00:01<00:00,  3.29it/s]"
          ],
          "name": "stderr"
        },
        {
          "output_type": "stream",
          "text": [
            "0.5876349018116185\n",
            "0.6071131793252451\n"
          ],
          "name": "stdout"
        },
        {
          "output_type": "stream",
          "text": [
            "100%|██████████| 5/5 [00:01<00:00,  3.84it/s]\n",
            " 20%|██        | 1/5 [00:00<00:00,  5.58it/s]"
          ],
          "name": "stderr"
        },
        {
          "output_type": "stream",
          "text": [
            "0.6173505327111033\n",
            "0.6028044856377731\n"
          ],
          "name": "stdout"
        },
        {
          "output_type": "stream",
          "text": [
            "100%|██████████| 5/5 [00:00<00:00,  5.76it/s]\n"
          ],
          "name": "stderr"
        }
      ]
    },
    {
      "cell_type": "code",
      "metadata": {
        "id": "qaDHH_Xl6_WL",
        "colab_type": "code",
        "outputId": "d61ebde7-8384-4e56-b7f5-b6a57e461c88",
        "colab": {
          "base_uri": "https://localhost:8080/",
          "height": 289
        }
      },
      "source": [
        "from sklearn.linear_model import LogisticRegression\n",
        "\n",
        "X3_train_summed = X3.drop('id', axis=1).multiply(1 / X3[X3 != 0].drop('id', axis=1).min(axis=1), axis=0).sum(axis=1)\n",
        "X3_test_summed = X3_test.drop('id', axis=1).multiply(1 / X3_test[X3_test != 0].drop('id', axis=1).min(axis=1), axis=0).sum(axis=1)\n",
        "\n",
        "X_train = X1\\\n",
        "    .assign(X2_summed=get_x2_summed(X2))\\\n",
        "    .assign(X3_summed_dernomalized=X3_train_summed)\\\n",
        "    .assign(X3_non_zero_count=(X3.drop('id',axis=1) != 0).sum(axis=1))\\\n",
        "    .assign(X3_mean=X3.drop('id', axis=1).mean(axis=1))\\\n",
        "    .merge(Y, on='id', suffixes=('', '_y'),)\\\n",
        "    .iloc[:, :-5]\\\n",
        "    .values\n",
        "\n",
        "X_test = X1_test\\\n",
        "    .assign(X2_summed=get_x2_summed(X2_test))\\\n",
        "    .assign(X3_summed_dernomalized=X3_test_summed)\\\n",
        "    .assign(X3_non_zero_count=(X3_test.drop('id',axis=1) != 0).sum(axis=1))\\\n",
        "    .assign(X3_mean=X3_test.drop('id', axis=1).mean(axis=1))\\\n",
        "    .values\n",
        "\n",
        "clf = LogisticRegression(random_state=0, penalty='l1', C=5e-5, solver='liblinear',\n",
        "                         class_weight='balanced')\n",
        "\n",
        "print(validate(clf, X_train, y_train, random_state=None, n_folds=10).mean())"
      ],
      "execution_count": 0,
      "outputs": [
        {
          "output_type": "stream",
          "text": [
            "/usr/local/lib/python3.6/dist-packages/scipy/sparse/_index.py:127: SparseEfficiencyWarning: Changing the sparsity structure of a csr_matrix is expensive. lil_matrix is more efficient.\n",
            "  self._set_arrayXarray(i, j, x)\n",
            "/usr/local/lib/python3.6/dist-packages/scipy/sparse/_index.py:127: SparseEfficiencyWarning: Changing the sparsity structure of a csr_matrix is expensive. lil_matrix is more efficient.\n",
            "  self._set_arrayXarray(i, j, x)\n",
            "100%|██████████| 10/10 [00:00<00:00, 103.70it/s]"
          ],
          "name": "stderr"
        },
        {
          "output_type": "stream",
          "text": [
            "0.5968712394705173\n",
            "0.5716883034034003\n",
            "0.6213201843209768\n",
            "0.6033193080878916\n",
            "0.588649885583524\n",
            "0.5763937587657785\n",
            "0.571875\n",
            "0.5780884796260314\n",
            "0.6018711620901401\n",
            "0.6083928571428572\n",
            "0.5918470178491118\n"
          ],
          "name": "stdout"
        },
        {
          "output_type": "stream",
          "text": [
            "\n"
          ],
          "name": "stderr"
        }
      ]
    },
    {
      "cell_type": "code",
      "metadata": {
        "id": "6XAVGoh3D-BL",
        "colab_type": "code",
        "outputId": "68e266f3-5c09-4c24-fd2c-2085e50f6061",
        "colab": {
          "base_uri": "https://localhost:8080/",
          "height": 85
        }
      },
      "source": [
        "np.argwhere(clf.coef_ != 0)"
      ],
      "execution_count": 0,
      "outputs": [
        {
          "output_type": "execute_result",
          "data": {
            "text/plain": [
              "array([[0, 0],\n",
              "       [0, 4],\n",
              "       [0, 5],\n",
              "       [0, 6]])"
            ]
          },
          "metadata": {
            "tags": []
          },
          "execution_count": 78
        }
      ]
    },
    {
      "cell_type": "code",
      "metadata": {
        "id": "68ef8_T7iEeg",
        "colab_type": "code",
        "outputId": "b7f8cf6a-7b56-4275-ba43-9d1d8e6472ae",
        "colab": {
          "base_uri": "https://localhost:8080/",
          "height": 34
        }
      },
      "source": [
        "make_predictions(clf, 'log_reg_l1', X_train, Y, X_test)"
      ],
      "execution_count": 0,
      "outputs": [
        {
          "output_type": "stream",
          "text": [
            "100%|██████████| 5/5 [00:00<00:00, 99.63it/s]\n"
          ],
          "name": "stderr"
        }
      ]
    },
    {
      "cell_type": "code",
      "metadata": {
        "id": "0RVbiOWa_npO",
        "colab_type": "code",
        "outputId": "bbc29a64-7a4a-4c3b-a8f9-61a9824b773e",
        "colab": {
          "base_uri": "https://localhost:8080/",
          "height": 136
        }
      },
      "source": [
        "from sklearn.ensemble import BaggingClassifier\n",
        "clf = LogisticRegression(random_state=0, penalty='l1', C=5e-5, solver='liblinear',\n",
        "                         class_weight='balanced')\n",
        "bagging = BaggingClassifier(clf,\n",
        "    max_samples=0.4, max_features=0.1, n_estimators=100)\n",
        "\n",
        "print(validate(bagging, X_train, y_train, random_state=None).mean())"
      ],
      "execution_count": 0,
      "outputs": [
        {
          "output_type": "stream",
          "text": [
            " 20%|██        | 1/5 [00:00<00:01,  2.49it/s]"
          ],
          "name": "stderr"
        },
        {
          "output_type": "stream",
          "text": [
            "0.5731045003813882\n"
          ],
          "name": "stdout"
        },
        {
          "output_type": "stream",
          "text": [
            "\r 40%|████      | 2/5 [00:00<00:01,  2.41it/s]"
          ],
          "name": "stderr"
        },
        {
          "output_type": "stream",
          "text": [
            "0.5993806326917587\n"
          ],
          "name": "stdout"
        },
        {
          "output_type": "stream",
          "text": [
            "\r 60%|██████    | 3/5 [00:01<00:00,  2.39it/s]"
          ],
          "name": "stderr"
        },
        {
          "output_type": "stream",
          "text": [
            "0.5693881965110121\n"
          ],
          "name": "stdout"
        },
        {
          "output_type": "stream",
          "text": [
            "\r 80%|████████  | 4/5 [00:01<00:00,  2.36it/s]"
          ],
          "name": "stderr"
        },
        {
          "output_type": "stream",
          "text": [
            "0.5101993626753185\n"
          ],
          "name": "stdout"
        },
        {
          "output_type": "stream",
          "text": [
            "\r100%|██████████| 5/5 [00:02<00:00,  2.23it/s]"
          ],
          "name": "stderr"
        },
        {
          "output_type": "stream",
          "text": [
            "0.5795764726600334\n",
            "0.5663298329839022\n"
          ],
          "name": "stdout"
        },
        {
          "output_type": "stream",
          "text": [
            "\n"
          ],
          "name": "stderr"
        }
      ]
    },
    {
      "cell_type": "markdown",
      "metadata": {
        "id": "kNcCpe_kvljH",
        "colab_type": "text"
      },
      "source": [
        "## Ensemble with logreg"
      ]
    },
    {
      "cell_type": "code",
      "metadata": {
        "id": "7xdv17iuvpZF",
        "colab_type": "code",
        "colab": {}
      },
      "source": [
        ""
      ],
      "execution_count": 0,
      "outputs": []
    },
    {
      "cell_type": "code",
      "metadata": {
        "colab_type": "code",
        "id": "MBJ-4DwyvqEd",
        "colab": {}
      },
      "source": [
        "xgb_params = {'objective': 'binary:logistic', \n",
        "        'eval_metric': 'auc',\n",
        "        'eta': 0.001,\n",
        "        'max_depth': 1, \n",
        "        'subsample': 0.6, \n",
        "        'colsample_bytree': 0.6,\n",
        "        'alpha':0.001,\n",
        "        'silent': True}\n",
        "\n",
        "t=0\n",
        "xgb_cls = xgb.XGBClassifier(n_jobs=8, random_state=t, **xgb_params)\n",
        "\n",
        "lgb_cls = lgb.LGBMClassifier(objective='cross_entropy', n_estimators=300, max_depth=5, random_state=t, learning_rate=0.001)\n",
        "\n",
        "cat_cls = CatBoostClassifier(verbose=False, task_type=\"GPU\", eval_metric=\"AUC\", random_state=t,\n",
        "                         loss_function='Logloss', use_best_model=False)\n",
        "\n",
        "log_clf = LogisticRegression(random_state=0, penalty='l1', random_state=t, C=5e-5, solver='liblinear',\n",
        "                         class_weight='balanced')\n",
        "\n",
        "eclf = VotingClassifier(estimators=[('cat', cat_cls), ('xgb', xgb_cls), ('lgb', lgb_cls), ('log', log_clf)], voting='soft')"
      ],
      "execution_count": 0,
      "outputs": []
    },
    {
      "cell_type": "code",
      "metadata": {
        "colab_type": "code",
        "id": "1RE4ELSTvqE4",
        "outputId": "e56cddfc-9408-4b3b-eb3c-67ea71f4ba94",
        "colab": {
          "base_uri": "https://localhost:8080/",
          "height": 85
        }
      },
      "source": [
        "X3_train_summed = X3.drop('id', axis=1).multiply(1 / X3[X3 != 0].drop('id', axis=1).min(axis=1), axis=0).sum(axis=1)\n",
        "X3_test_summed = X3_test.drop('id', axis=1).multiply(1 / X3_test[X3_test != 0].drop('id', axis=1).min(axis=1), axis=0).sum(axis=1)\n",
        "\n",
        "X_train = X1\\\n",
        "    .assign(X2_summed=get_x2_summed(X2))\\\n",
        "    .assign(X3_summed_dernomalized=X3_train_summed)\\\n",
        "    .assign(X3_non_zero_count=(X3.drop('id',axis=1) != 0).sum(axis=1))\\\n",
        "    .assign(X3_mean=X3.drop('id', axis=1).mean(axis=1))\\\n",
        "    .merge(Y, on='id', suffixes=('', '_y'),)\\\n",
        "    .iloc[:, :-5]\n",
        "\n",
        "X_test = X1_test\\\n",
        "    .assign(X2_summed=get_x2_summed(X2_test))\\\n",
        "    .assign(X3_summed_dernomalized=X3_test_summed)\\\n",
        "    .assign(X3_non_zero_count=(X3_test.drop('id',axis=1) != 0).sum(axis=1))\\\n",
        "    .assign(X3_mean=X3_test.drop('id', axis=1).mean(axis=1))\\\n",
        "    .values\n",
        "\n",
        "\n",
        "# print(validate(eclf, X_train, y_train, random_state=None, n_folds=5).mean())"
      ],
      "execution_count": 0,
      "outputs": [
        {
          "output_type": "stream",
          "text": [
            "/usr/local/lib/python3.6/dist-packages/scipy/sparse/_index.py:127: SparseEfficiencyWarning: Changing the sparsity structure of a csr_matrix is expensive. lil_matrix is more efficient.\n",
            "  self._set_arrayXarray(i, j, x)\n",
            "/usr/local/lib/python3.6/dist-packages/scipy/sparse/_index.py:127: SparseEfficiencyWarning: Changing the sparsity structure of a csr_matrix is expensive. lil_matrix is more efficient.\n",
            "  self._set_arrayXarray(i, j, x)\n"
          ],
          "name": "stderr"
        }
      ]
    },
    {
      "cell_type": "code",
      "metadata": {
        "id": "Qo0nHuhmv87P",
        "colab_type": "code",
        "outputId": "7f520694-a7d2-4697-accc-3bb4d3157517",
        "colab": {
          "base_uri": "https://localhost:8080/",
          "height": 34
        }
      },
      "source": [
        "make_predictions(eclf, 'ensemble_with_log-X2-X3', X_train, Y, X_test)"
      ],
      "execution_count": 0,
      "outputs": [
        {
          "output_type": "stream",
          "text": [
            "100%|██████████| 5/5 [03:41<00:00, 44.09s/it]\n"
          ],
          "name": "stderr"
        }
      ]
    },
    {
      "cell_type": "markdown",
      "metadata": {
        "id": "kW8Bn1Dq1GMg",
        "colab_type": "text"
      },
      "source": [
        "## Feature importance"
      ]
    },
    {
      "cell_type": "code",
      "metadata": {
        "id": "ix1rIhoH1JzI",
        "colab_type": "code",
        "colab": {}
      },
      "source": [
        ""
      ],
      "execution_count": 0,
      "outputs": []
    },
    {
      "cell_type": "code",
      "metadata": {
        "id": "IgCInalh1rfc",
        "colab_type": "code",
        "outputId": "bf83c1b2-026a-44f8-8ea5-4e279e7695a2",
        "colab": {
          "base_uri": "https://localhost:8080/",
          "height": 721
        }
      },
      "source": [
        "xgb_cls = xgb.XGBClassifier(n_jobs=8, random_state=0, **xgb_params)\n",
        "\n",
        "xgb_cls.fit(X_train.values, Y['1'])\n",
        "\n",
        "plt.figure(figsize=(12,12))\n",
        "sns.barplot(x=xgb_cls.feature_importances_,y=X_train.columns)"
      ],
      "execution_count": 0,
      "outputs": [
        {
          "output_type": "execute_result",
          "data": {
            "text/plain": [
              "<matplotlib.axes._subplots.AxesSubplot at 0x7fe6543eb6d8>"
            ]
          },
          "metadata": {
            "tags": []
          },
          "execution_count": 120
        },
        {
          "output_type": "display_data",
          "data": {
            "image/png": "[encoded data removed]",
            "text/plain": [
              "<Figure size 864x864 with 1 Axes>"
            ]
          },
          "metadata": {
            "tags": []
          }
        }
      ]
    },
    {
      "cell_type": "code",
      "metadata": {
        "id": "ogczmCik3ciG",
        "colab_type": "code",
        "outputId": "d35d8ac7-5609-4b55-8ec2-8e44d7ee3995",
        "colab": {
          "base_uri": "https://localhost:8080/",
          "height": 136
        }
      },
      "source": [
        "from sklearn.feature_selection import SelectFromModel\n",
        "\n",
        "y_train=Y['1']\n",
        "\n",
        "selection = SelectFromModel(xgb_cls, threshold=0.01, prefit=False)\n",
        "select_X_train = selection.fit_transform(X_train, y_train)\n",
        "\n",
        "print(validate(xgb_cls, select_X_train, y_train, random_state=None, n_folds=5).mean())"
      ],
      "execution_count": 0,
      "outputs": [
        {
          "output_type": "stream",
          "text": [
            " 40%|████      | 2/5 [00:00<00:00,  8.03it/s]"
          ],
          "name": "stderr"
        },
        {
          "output_type": "stream",
          "text": [
            "0.5884782608695653\n",
            "0.6191952617668807\n"
          ],
          "name": "stdout"
        },
        {
          "output_type": "stream",
          "text": [
            " 80%|████████  | 4/5 [00:00<00:00,  7.96it/s]"
          ],
          "name": "stderr"
        },
        {
          "output_type": "stream",
          "text": [
            "0.5822388293468775\n",
            "0.60090251533698\n"
          ],
          "name": "stdout"
        },
        {
          "output_type": "stream",
          "text": [
            "\r100%|██████████| 5/5 [00:00<00:00,  7.73it/s]"
          ],
          "name": "stderr"
        },
        {
          "output_type": "stream",
          "text": [
            "0.611095212937689\n",
            "0.6003820160515985\n"
          ],
          "name": "stdout"
        },
        {
          "output_type": "stream",
          "text": [
            "\n"
          ],
          "name": "stderr"
        }
      ]
    },
    {
      "cell_type": "code",
      "metadata": {
        "id": "55qlkY593xww",
        "colab_type": "code",
        "outputId": "201f6195-88b9-4d3c-c115-28faa257e61b",
        "colab": {
          "base_uri": "https://localhost:8080/",
          "height": 34
        }
      },
      "source": [
        "select_X_train.shape, X_train.shape"
      ],
      "execution_count": 0,
      "outputs": [
        {
          "output_type": "execute_result",
          "data": {
            "text/plain": [
              "((4000, 16), (4000, 30))"
            ]
          },
          "metadata": {
            "tags": []
          },
          "execution_count": 117
        }
      ]
    },
    {
      "cell_type": "code",
      "metadata": {
        "id": "7Vahknkw4X9T",
        "colab_type": "code",
        "outputId": "4c15893d-0985-4141-bfea-96e02c05dd38",
        "colab": {
          "base_uri": "https://localhost:8080/",
          "height": 136
        }
      },
      "source": [
        "print(validate(xgb_cls, X_train.values, y_train, random_state=None, n_folds=5).mean())"
      ],
      "execution_count": 0,
      "outputs": [
        {
          "output_type": "stream",
          "text": [
            " 40%|████      | 2/5 [00:00<00:00,  5.81it/s]"
          ],
          "name": "stderr"
        },
        {
          "output_type": "stream",
          "text": [
            "0.5802898550724638\n",
            "0.6182471758754237\n"
          ],
          "name": "stdout"
        },
        {
          "output_type": "stream",
          "text": [
            " 80%|████████  | 4/5 [00:00<00:00,  5.65it/s]"
          ],
          "name": "stderr"
        },
        {
          "output_type": "stream",
          "text": [
            "0.5873030079281618\n",
            "0.6044287562052446\n"
          ],
          "name": "stdout"
        },
        {
          "output_type": "stream",
          "text": [
            "\r100%|██████████| 5/5 [00:00<00:00,  5.68it/s]"
          ],
          "name": "stderr"
        },
        {
          "output_type": "stream",
          "text": [
            "0.6090626926124857\n",
            "0.599866297538756\n"
          ],
          "name": "stdout"
        },
        {
          "output_type": "stream",
          "text": [
            "\n"
          ],
          "name": "stderr"
        }
      ]
    },
    {
      "cell_type": "code",
      "metadata": {
        "id": "Y_U0DQrQ46rK",
        "colab_type": "code",
        "outputId": "5369d650-cd09-447d-ca50-af7f24c42c87",
        "colab": {
          "base_uri": "https://localhost:8080/",
          "height": 34
        }
      },
      "source": [
        "X2_tranformed.shape"
      ],
      "execution_count": 0,
      "outputs": [
        {
          "output_type": "execute_result",
          "data": {
            "text/plain": [
              "(4000, 151)"
            ]
          },
          "metadata": {
            "tags": []
          },
          "execution_count": 124
        }
      ]
    },
    {
      "cell_type": "code",
      "metadata": {
        "id": "uEatMhwq4yz5",
        "colab_type": "code",
        "outputId": "0aa490fe-019e-46cf-aa6b-7702b97a2753",
        "colab": {
          "base_uri": "https://localhost:8080/",
          "height": 721
        }
      },
      "source": [
        "xgb_cls = xgb.XGBClassifier(n_jobs=8, random_state=0, **xgb_params)\n",
        "\n",
        "xgb_cls.fit(X2_tranformed.values, Y['1'])\n",
        "\n",
        "plt.figure(figsize=(12,12))\n",
        "sns.barplot(x=xgb_cls.feature_importances_,y=X2_tranformed.columns)"
      ],
      "execution_count": 0,
      "outputs": [
        {
          "output_type": "execute_result",
          "data": {
            "text/plain": [
              "<matplotlib.axes._subplots.AxesSubplot at 0x7fe6539dcbe0>"
            ]
          },
          "metadata": {
            "tags": []
          },
          "execution_count": 125
        },
        {
          "output_type": "display_data",
          "data": {
            "image/png": "[encoded data removed]",
            "text/plain": [
              "<Figure size 864x864 with 1 Axes>"
            ]
          },
          "metadata": {
            "tags": []
          }
        }
      ]
    },
    {
      "cell_type": "code",
      "metadata": {
        "id": "XMSddVDy5HEl",
        "colab_type": "code",
        "outputId": "dbf8f09b-045f-454a-8ede-d07b66187ec6",
        "colab": {
          "base_uri": "https://localhost:8080/",
          "height": 255
        }
      },
      "source": [
        "y_train=Y['1']\n",
        "\n",
        "selection = SelectFromModel(xgb_cls, threshold=0.01, prefit=False)\n",
        "select_X_train = selection.fit_transform(X2_tranformed, y_train)\n",
        "\n",
        "print(validate(xgb_cls, X2_tranformed.values, y_train, random_state=None, n_folds=5).mean())\n",
        "print(validate(xgb_cls, select_X_train, y_train, random_state=None, n_folds=5).mean())"
      ],
      "execution_count": 0,
      "outputs": [
        {
          "output_type": "stream",
          "text": [
            " 20%|██        | 1/5 [00:00<00:02,  1.70it/s]"
          ],
          "name": "stderr"
        },
        {
          "output_type": "stream",
          "text": [
            "0.4951334858886346\n"
          ],
          "name": "stdout"
        },
        {
          "output_type": "stream",
          "text": [
            "\r 40%|████      | 2/5 [00:01<00:01,  1.69it/s]"
          ],
          "name": "stderr"
        },
        {
          "output_type": "stream",
          "text": [
            "0.5106632208564255\n"
          ],
          "name": "stdout"
        },
        {
          "output_type": "stream",
          "text": [
            "\r 60%|██████    | 3/5 [00:01<00:01,  1.68it/s]"
          ],
          "name": "stderr"
        },
        {
          "output_type": "stream",
          "text": [
            "0.5109972478911686\n"
          ],
          "name": "stdout"
        },
        {
          "output_type": "stream",
          "text": [
            "\r 80%|████████  | 4/5 [00:02<00:00,  1.67it/s]"
          ],
          "name": "stderr"
        },
        {
          "output_type": "stream",
          "text": [
            "0.4839151389902523\n"
          ],
          "name": "stdout"
        },
        {
          "output_type": "stream",
          "text": [
            "100%|██████████| 5/5 [00:03<00:00,  1.66it/s]\n",
            "  0%|          | 0/5 [00:00<?, ?it/s]"
          ],
          "name": "stderr"
        },
        {
          "output_type": "stream",
          "text": [
            "0.5168068151800651\n",
            "0.5035031817613091\n"
          ],
          "name": "stdout"
        },
        {
          "output_type": "stream",
          "text": [
            "\r 20%|██        | 1/5 [00:00<00:01,  2.94it/s]"
          ],
          "name": "stderr"
        },
        {
          "output_type": "stream",
          "text": [
            "0.5340541571319604\n"
          ],
          "name": "stdout"
        },
        {
          "output_type": "stream",
          "text": [
            "\r 40%|████      | 2/5 [00:00<00:00,  3.05it/s]"
          ],
          "name": "stderr"
        },
        {
          "output_type": "stream",
          "text": [
            "0.5261949908851974\n"
          ],
          "name": "stdout"
        },
        {
          "output_type": "stream",
          "text": [
            "\r 60%|██████    | 3/5 [00:00<00:00,  3.12it/s]"
          ],
          "name": "stderr"
        },
        {
          "output_type": "stream",
          "text": [
            "0.5212859582783285\n"
          ],
          "name": "stdout"
        },
        {
          "output_type": "stream",
          "text": [
            "\r 80%|████████  | 4/5 [00:01<00:00,  3.13it/s]"
          ],
          "name": "stderr"
        },
        {
          "output_type": "stream",
          "text": [
            "0.5536920753517209\n"
          ],
          "name": "stdout"
        },
        {
          "output_type": "stream",
          "text": [
            "\r100%|██████████| 5/5 [00:01<00:00,  3.19it/s]"
          ],
          "name": "stderr"
        },
        {
          "output_type": "stream",
          "text": [
            "0.5381079216929353\n",
            "0.5346670206680285\n"
          ],
          "name": "stdout"
        },
        {
          "output_type": "stream",
          "text": [
            "\n"
          ],
          "name": "stderr"
        }
      ]
    },
    {
      "cell_type": "code",
      "metadata": {
        "colab_type": "code",
        "outputId": "25265a39-b95b-4e56-d77b-1fe156bd5dd4",
        "id": "US88c3Dc5lWc",
        "colab": {
          "base_uri": "https://localhost:8080/",
          "height": 721
        }
      },
      "source": [
        "xgb_cls = xgb.XGBClassifier(n_jobs=8, random_state=0, **xgb_params)\n",
        "\n",
        "xgb_cls.fit(X3.values, Y['1'])\n",
        "\n",
        "plt.figure(figsize=(12,12))\n",
        "sns.barplot(x=xgb_cls.feature_importances_,y=X3.columns)"
      ],
      "execution_count": 0,
      "outputs": [
        {
          "output_type": "execute_result",
          "data": {
            "text/plain": [
              "<matplotlib.axes._subplots.AxesSubplot at 0x7fe6539dcef0>"
            ]
          },
          "metadata": {
            "tags": []
          },
          "execution_count": 129
        },
        {
          "output_type": "display_data",
          "data": {
            "image/png": "[encoded data removed]",
            "text/plain": [
              "<Figure size 864x864 with 1 Axes>"
            ]
          },
          "metadata": {
            "tags": []
          }
        }
      ]
    },
    {
      "cell_type": "code",
      "metadata": {
        "colab_type": "code",
        "outputId": "938e7cc7-73ce-4cdb-949f-92969f543c4f",
        "id": "1Q5ZdaVZ5lW3",
        "colab": {
          "base_uri": "https://localhost:8080/",
          "height": 255
        }
      },
      "source": [
        "y_train=Y['1']\n",
        "\n",
        "selection = SelectFromModel(xgb_cls, threshold=0.01, prefit=False)\n",
        "select_X_train = selection.fit_transform(X3, y_train)\n",
        "\n",
        "print(validate(xgb_cls, X3.values, y_train, random_state=None, n_folds=5).mean())\n",
        "print(validate(xgb_cls, select_X_train, y_train, random_state=None, n_folds=5).mean())"
      ],
      "execution_count": 0,
      "outputs": [
        {
          "output_type": "stream",
          "text": [
            " 20%|██        | 1/5 [00:00<00:03,  1.01it/s]"
          ],
          "name": "stderr"
        },
        {
          "output_type": "stream",
          "text": [
            "0.5209877955758964\n"
          ],
          "name": "stdout"
        },
        {
          "output_type": "stream",
          "text": [
            "\r 40%|████      | 2/5 [00:01<00:02,  1.01it/s]"
          ],
          "name": "stderr"
        },
        {
          "output_type": "stream",
          "text": [
            "0.4848562496797007\n"
          ],
          "name": "stdout"
        },
        {
          "output_type": "stream",
          "text": [
            "\r 60%|██████    | 3/5 [00:02<00:01,  1.01it/s]"
          ],
          "name": "stderr"
        },
        {
          "output_type": "stream",
          "text": [
            "0.5368961582350703\n"
          ],
          "name": "stdout"
        },
        {
          "output_type": "stream",
          "text": [
            "\r 80%|████████  | 4/5 [00:03<00:00,  1.01it/s]"
          ],
          "name": "stderr"
        },
        {
          "output_type": "stream",
          "text": [
            "0.5206949873907986\n"
          ],
          "name": "stdout"
        },
        {
          "output_type": "stream",
          "text": [
            "100%|██████████| 5/5 [00:04<00:00,  1.01it/s]\n",
            "  0%|          | 0/5 [00:00<?, ?it/s]"
          ],
          "name": "stderr"
        },
        {
          "output_type": "stream",
          "text": [
            "0.49943500337530455\n",
            "0.5125740388513541\n"
          ],
          "name": "stdout"
        },
        {
          "output_type": "stream",
          "text": [
            "\r 20%|██        | 1/5 [00:00<00:00,  4.18it/s]"
          ],
          "name": "stderr"
        },
        {
          "output_type": "stream",
          "text": [
            "0.5444279176201373\n"
          ],
          "name": "stdout"
        },
        {
          "output_type": "stream",
          "text": [
            "\r 40%|████      | 2/5 [00:00<00:00,  4.26it/s]"
          ],
          "name": "stderr"
        },
        {
          "output_type": "stream",
          "text": [
            "0.5298189485398013\n"
          ],
          "name": "stdout"
        },
        {
          "output_type": "stream",
          "text": [
            "\r 60%|██████    | 3/5 [00:00<00:00,  4.31it/s]"
          ],
          "name": "stderr"
        },
        {
          "output_type": "stream",
          "text": [
            "0.5836298003415896\n"
          ],
          "name": "stdout"
        },
        {
          "output_type": "stream",
          "text": [
            "\r 80%|████████  | 4/5 [00:00<00:00,  4.36it/s]"
          ],
          "name": "stderr"
        },
        {
          "output_type": "stream",
          "text": [
            "0.558031230354575\n"
          ],
          "name": "stdout"
        },
        {
          "output_type": "stream",
          "text": [
            "\r100%|██████████| 5/5 [00:01<00:00,  4.30it/s]"
          ],
          "name": "stderr"
        },
        {
          "output_type": "stream",
          "text": [
            "0.5664311291127352\n",
            "0.5564678051937677\n"
          ],
          "name": "stdout"
        },
        {
          "output_type": "stream",
          "text": [
            "\n"
          ],
          "name": "stderr"
        }
      ]
    }
  ]
}