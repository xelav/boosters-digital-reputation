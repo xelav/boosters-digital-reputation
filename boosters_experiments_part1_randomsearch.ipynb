{
  "nbformat": 4,
  "nbformat_minor": 0,
  "metadata": {
    "colab": {
      "name": "boosters-experiments-part1-randomsearch.ipynb",
      "provenance": [],
      "include_colab_link": true
    },
    "kernelspec": {
      "name": "python3",
      "display_name": "Python 3"
    },
    "accelerator": "GPU"
  },
  "cells": [
    {
      "cell_type": "markdown",
      "metadata": {
        "id": "view-in-github",
        "colab_type": "text"
      },
      "source": [
        "<a href=\"https://colab.research.google.com/github/xelav/boosters-digital-reputation/blob/master/boosters_experiments_part1_randomsearch.ipynb\" target=\"_parent\"><img src=\"https://colab.research.google.com/assets/colab-badge.svg\" alt=\"Open In Colab\"/></a>"
      ]
    },
    {
      "cell_type": "code",
      "metadata": {
        "id": "v73wQGYaExHT",
        "colab_type": "code",
        "outputId": "94ae8673-b104-4d82-9cba-7fb586864ded",
        "colab": {
          "base_uri": "https://localhost:8080/",
          "height": 326
        }
      },
      "source": [
        "from google.colab import drive\n",
        "drive.mount('/content/drive', force_remount=False)\n",
        "\n",
        "root_dir = \"/content/drive/My Drive/boosters\"\n",
        "%cd \"{root_dir}\"\n",
        "!pip install catboost"
      ],
      "execution_count": 0,
      "outputs": [
        {
          "output_type": "stream",
          "text": [
            "Drive already mounted at /content/drive; to attempt to forcibly remount, call drive.mount(\"/content/drive\", force_remount=True).\n",
            "/content/drive/My Drive/boosters\n",
            "Requirement already satisfied: catboost in /usr/local/lib/python3.6/dist-packages (0.17.4)\n",
            "Requirement already satisfied: graphviz in /usr/local/lib/python3.6/dist-packages (from catboost) (0.10.1)\n",
            "Requirement already satisfied: numpy>=1.16.0 in /usr/local/lib/python3.6/dist-packages (from catboost) (1.16.5)\n",
            "Requirement already satisfied: plotly in /usr/local/lib/python3.6/dist-packages (from catboost) (4.1.1)\n",
            "Requirement already satisfied: matplotlib in /usr/local/lib/python3.6/dist-packages (from catboost) (3.0.3)\n",
            "Requirement already satisfied: pandas>=0.24.0 in /usr/local/lib/python3.6/dist-packages (from catboost) (0.24.2)\n",
            "Requirement already satisfied: six in /usr/local/lib/python3.6/dist-packages (from catboost) (1.12.0)\n",
            "Requirement already satisfied: scipy in /usr/local/lib/python3.6/dist-packages (from catboost) (1.3.1)\n",
            "Requirement already satisfied: retrying>=1.3.3 in /usr/local/lib/python3.6/dist-packages (from plotly->catboost) (1.3.3)\n",
            "Requirement already satisfied: python-dateutil>=2.1 in /usr/local/lib/python3.6/dist-packages (from matplotlib->catboost) (2.5.3)\n",
            "Requirement already satisfied: cycler>=0.10 in /usr/local/lib/python3.6/dist-packages (from matplotlib->catboost) (0.10.0)\n",
            "Requirement already satisfied: pyparsing!=2.0.4,!=2.1.2,!=2.1.6,>=2.0.1 in /usr/local/lib/python3.6/dist-packages (from matplotlib->catboost) (2.4.2)\n",
            "Requirement already satisfied: kiwisolver>=1.0.1 in /usr/local/lib/python3.6/dist-packages (from matplotlib->catboost) (1.1.0)\n",
            "Requirement already satisfied: pytz>=2011k in /usr/local/lib/python3.6/dist-packages (from pandas>=0.24.0->catboost) (2018.9)\n",
            "Requirement already satisfied: setuptools in /usr/local/lib/python3.6/dist-packages (from kiwisolver>=1.0.1->matplotlib->catboost) (41.2.0)\n"
          ],
          "name": "stdout"
        }
      ]
    },
    {
      "cell_type": "markdown",
      "metadata": {
        "id": "g0lgTEcEp5MT",
        "colab_type": "text"
      },
      "source": [
        "# Prapare data"
      ]
    },
    {
      "cell_type": "code",
      "metadata": {
        "id": "l6-Lonl4F9pS",
        "colab_type": "code",
        "colab": {}
      },
      "source": [
        "import matplotlib.pyplot as plt\n",
        "import numpy as np\n",
        "import pandas as pd\n",
        "import seaborn as sns\n",
        "from IPython.display import display\n",
        "from scipy import sparse, stats\n",
        "from scipy.linalg import svd\n",
        "from sklearn import preprocessing\n",
        "from sklearn.decomposition import TruncatedSVD\n",
        "from sklearn.ensemble import RandomForestClassifier\n",
        "from sklearn.metrics import f1_score, roc_auc_score\n",
        "from sklearn.model_selection import (KFold, StratifiedKFold, cross_val_score,\n",
        "                                     cross_validate, train_test_split)\n",
        "from sklearn.ensemble import VotingClassifier\n",
        "\n",
        "from tqdm import tqdm\n",
        "from catboost import CatBoostClassifier\n",
        "\n",
        "import datetime\n",
        "import json\n",
        "import pickle\n",
        "import copy\n",
        "\n",
        "from sklearn.model_selection import train_test_split\n",
        "from catboost import Pool\n",
        "from catboost import cv as catboost_cv\n",
        "from scipy import sparse"
      ],
      "execution_count": 0,
      "outputs": []
    },
    {
      "cell_type": "code",
      "metadata": {
        "id": "rwksDQp4G9-w",
        "colab_type": "code",
        "colab": {}
      },
      "source": [
        "TRAIN_PATH = 'train/'\n",
        "TEST_PATH = 'test/'\n",
        "\n",
        "X1 = pd.read_csv(TRAIN_PATH + 'X1.csv')\n",
        "X2 = pd.read_csv(TRAIN_PATH + 'X2.csv')\n",
        "X3 = pd.read_csv(TRAIN_PATH + 'X3.csv')\n",
        "\n",
        "Y = pd.read_csv(TRAIN_PATH + 'Y.csv')\n",
        "\n",
        "X1_test = pd.read_csv(TEST_PATH + 'X1.csv')\n",
        "X2_test = pd.read_csv(TEST_PATH + 'X2.csv')\n",
        "X3_test = pd.read_csv(TEST_PATH + 'X3.csv')"
      ],
      "execution_count": 0,
      "outputs": []
    },
    {
      "cell_type": "code",
      "metadata": {
        "id": "kPe2hWGzHQCy",
        "colab_type": "code",
        "outputId": "9bf57db5-d372-45d9-908f-38aaf109a994",
        "colab": {
          "base_uri": "https://localhost:8080/",
          "height": 324
        }
      },
      "source": [
        "def transform_x2(X2, svd=None):\n",
        "    rows, row_pos = np.unique(X2.iloc[:, 0], return_inverse=True)\n",
        "    cols, col_pos = np.unique(X2.iloc[:, 1], return_inverse=True)\n",
        "    print((len(rows), len(cols)))\n",
        "    sparse_matrix = sparse.csr_matrix((len(rows), len(cols)))\n",
        "\n",
        "    sparse_matrix[row_pos, col_pos] = 1\n",
        "\n",
        "    cols_ = sparse_matrix.sum(axis=0)\n",
        "    rows_ = sparse_matrix.sum(axis=1)\n",
        "\n",
        "    minimum_users_per_group = 5\n",
        "    selected_cols = cols_ >= minimum_users_per_group\n",
        "    trimmed_sparse_matrix = sparse_matrix[:, np.squeeze(np.asarray(selected_cols))]\n",
        "\n",
        "    sns.distplot(trimmed_sparse_matrix.sum(axis=0), bins=100)\n",
        "\n",
        "    if svd is None:\n",
        "        svd = TruncatedSVD(n_components=150)\n",
        "        svd.fit(trimmed_sparse_matrix)\n",
        "\n",
        "    components = pd.DataFrame(svd.transform(trimmed_sparse_matrix))\n",
        "    components['id'] = X2.iloc[:, 0].unique()\n",
        "    X2 = components\n",
        "    return X2, svd\n",
        "\n",
        "X2_all = X2.append(X2_test)\n",
        "X2_all, svd = transform_x2(X2_all)\n",
        "\n",
        "X2 = X2_all[X2_all.id.isin(X1.id)]\n",
        "df = X1.merge(X2, on='id', how='inner').merge(X3, on='id').merge(Y, on='id')\n",
        "X = df.iloc[:, :-5]\n",
        "X = X.drop('id', axis=1)\n",
        "Y_cls = df.iloc[:, -5:]\n",
        "\n",
        "X2_test = X2_all[X2_all.id.isin(X1_test.id)]\n",
        "df_test = X1_test.merge(X2_test, on='id', how='inner').merge(X3_test, on='id')\n",
        "X_submit = df_test"
      ],
      "execution_count": 0,
      "outputs": [
        {
          "output_type": "stream",
          "text": [
            "(8058, 214075)\n"
          ],
          "name": "stdout"
        },
        {
          "output_type": "stream",
          "text": [
            "/usr/local/lib/python3.6/dist-packages/scipy/sparse/_index.py:127: SparseEfficiencyWarning: Changing the sparsity structure of a csr_matrix is expensive. lil_matrix is more efficient.\n",
            "  self._set_arrayXarray(i, j, x)\n"
          ],
          "name": "stderr"
        },
        {
          "output_type": "display_data",
          "data": {
            "image/png": "[encoded data removed]",
            "text/plain": [
              "<Figure size 432x288 with 1 Axes>"
            ]
          },
          "metadata": {
            "tags": []
          }
        }
      ]
    },
    {
      "cell_type": "code",
      "metadata": {
        "id": "RR3TBEtKnh7Y",
        "colab_type": "code",
        "colab": {}
      },
      "source": [
        "X1.merge(X3, on='id').merge(Y, on='id').drop(['id'], axis=1).iloc[:, :-5]"
      ],
      "execution_count": 0,
      "outputs": []
    },
    {
      "cell_type": "code",
      "metadata": {
        "id": "WgsAIAVRwuz3",
        "colab_type": "code",
        "outputId": "2e14a5c1-b004-46d0-f684-19e12641f2b6",
        "colab": {
          "base_uri": "https://localhost:8080/",
          "height": 145
        }
      },
      "source": [
        "params"
      ],
      "execution_count": 0,
      "outputs": [
        {
          "output_type": "execute_result",
          "data": {
            "text/plain": [
              "{'bootstrap_type': 'No',\n",
              " 'depth': 8,\n",
              " 'grow_policy': 'Depthwise',\n",
              " 'l2_leaf_reg': 7.562086195635377e-12,\n",
              " 'learning_rate': 7.574292322913348e-05,\n",
              " 'n_estimators': 1000,\n",
              " 'random_state': 28446}"
            ]
          },
          "metadata": {
            "tags": []
          },
          "execution_count": 59
        }
      ]
    },
    {
      "cell_type": "code",
      "metadata": {
        "id": "50FMXqMaTfhy",
        "colab_type": "code",
        "colab": {}
      },
      "source": [
        "with open('best_params.pkl', mode='rb') as f:\n",
        "    best_params = pickle.load(f)"
      ],
      "execution_count": 0,
      "outputs": []
    },
    {
      "cell_type": "code",
      "metadata": {
        "id": "vVHyicZ1t1dE",
        "colab_type": "code",
        "outputId": "f40f178c-1d6b-4700-aa38-a60c7209407c",
        "colab": {
          "base_uri": "https://localhost:8080/",
          "height": 599
        }
      },
      "source": [
        "params = copy.copy(best_params['1'])\n",
        "params['n_estimators'] = 1000\n",
        "params['l2_leaf_reg'] = 1e1\n",
        "params['learning_rate'] = 0.1\n",
        "params['depth'] = 2\n",
        "\n",
        "clf = CatBoostClassifier(verbose=50, task_type=\"GPU\", eval_metric=\"AUC\",\n",
        "                         early_stopping_rounds=100, loss_function='CrossEntropy', **params)\n",
        "\n",
        "results = cross_validation_score_statement(clf,\n",
        "                                X,\n",
        "                                Y['1'],\n",
        "                                roc_auc_score)\n",
        "print(results)\n",
        "print(results.mean())"
      ],
      "execution_count": 0,
      "outputs": [
        {
          "output_type": "stream",
          "text": [
            "0:\tlearn: 0.5996991\ttest: 0.5267773\tbest: 0.5267773 (0)\ttotal: 18.2ms\tremaining: 18.1s\n",
            "50:\tlearn: 0.7431376\ttest: 0.5697254\tbest: 0.5849962 (7)\ttotal: 815ms\tremaining: 15.2s\n",
            "100:\tlearn: 0.8094378\ttest: 0.5642716\tbest: 0.5849962 (7)\ttotal: 1.55s\tremaining: 13.8s\n",
            "bestTest = 0.5849961638\n",
            "bestIteration = 7\n",
            "Shrink model to first 8 iterations.\n",
            "0:\tlearn: 0.5811834\ttest: 0.5911883\tbest: 0.5911883 (0)\ttotal: 15.9ms\tremaining: 15.9s\n",
            "50:\tlearn: 0.7507378\ttest: 0.5851886\tbest: 0.6062259 (6)\ttotal: 814ms\tremaining: 15.2s\n",
            "100:\tlearn: 0.8095346\ttest: 0.5917667\tbest: 0.6062259 (6)\ttotal: 1.48s\tremaining: 13.2s\n",
            "bestTest = 0.606225878\n",
            "bestIteration = 6\n",
            "Shrink model to first 7 iterations.\n",
            "0:\tlearn: 0.5780914\ttest: 0.5439219\tbest: 0.5439219 (0)\ttotal: 15.7ms\tremaining: 15.6s\n",
            "50:\tlearn: 0.7351575\ttest: 0.5625042\tbest: 0.5759851 (5)\ttotal: 806ms\tremaining: 15s\n",
            "100:\tlearn: 0.7999225\ttest: 0.5557843\tbest: 0.5759851 (5)\ttotal: 1.49s\tremaining: 13.2s\n",
            "bestTest = 0.575985074\n",
            "bestIteration = 5\n",
            "Shrink model to first 6 iterations.\n",
            "0:\tlearn: 0.5827973\ttest: 0.5520590\tbest: 0.5520590 (0)\ttotal: 15.9ms\tremaining: 15.9s\n",
            "50:\tlearn: 0.7481987\ttest: 0.5979797\tbest: 0.6081356 (13)\ttotal: 727ms\tremaining: 13.5s\n",
            "100:\tlearn: 0.8227221\ttest: 0.5942511\tbest: 0.6081356 (13)\ttotal: 1.44s\tremaining: 12.8s\n",
            "bestTest = 0.6081356406\n",
            "bestIteration = 13\n",
            "Shrink model to first 14 iterations.\n",
            "0:\tlearn: 0.5886518\ttest: 0.5351325\tbest: 0.5351325 (0)\ttotal: 15.7ms\tremaining: 15.7s\n",
            "50:\tlearn: 0.7393640\ttest: 0.6040878\tbest: 0.6256677 (12)\ttotal: 703ms\tremaining: 13.1s\n",
            "100:\tlearn: 0.8037398\ttest: 0.5825335\tbest: 0.6256677 (12)\ttotal: 1.39s\tremaining: 12.3s\n",
            "bestTest = 0.625667721\n",
            "bestIteration = 12\n",
            "Shrink model to first 13 iterations.\n",
            "[0.58499619 0.60622589 0.57598505 0.60813564 0.62566772]\n",
            "0.6002020987374652\n"
          ],
          "name": "stdout"
        }
      ]
    },
    {
      "cell_type": "code",
      "metadata": {
        "id": "0vNDgUlXUNjE",
        "colab_type": "code",
        "outputId": "a2672b22-14d0-4810-9a15-e4dd78fdfeec",
        "colab": {
          "base_uri": "https://localhost:8080/",
          "height": 145
        }
      },
      "source": [
        "target='1'\n",
        "\n",
        "X_train, X_val, Y_train, Y_val = train_test_split(X.drop('id', axis=1), Y, test_size=0.3, random_state=42)\n",
        "\n",
        "params = copy.copy(best_params[target])\n",
        "# params['n_estimators'] = 100\n",
        "# params['l2_leaf_reg'] = 1e1\n",
        "# params['learning_rate'] = 0.1\n",
        "# params['depth'] = 8\n",
        "\n",
        "clf = CatBoostClassifier(verbose=50, task_type=\"GPU\", eval_metric=\"AUC\",\n",
        "                         # early_stopping_rounds=100,\n",
        "                         loss_function='CrossEntropy', **params)\n",
        "\n",
        "cv_data = cv(Pool(X_train.values, label=Y_train[target].values),\n",
        "             clf.get_params(), fold_count=5, verbose=False)\n",
        "print(cv_data['test-AUC-mean'].max(), cv_data['test-AUC-std'].mean())\n",
        "\n",
        "\n",
        "clf.fit(X_train.values, Y_train[target].values)\n",
        "\n",
        "metrics = clf.eval_metrics(Pool(X_val.values, Y_val[target].values), ['AUC'])\n",
        "np.array(metrics['AUC']).mean()"
      ],
      "execution_count": 0,
      "outputs": [
        {
          "output_type": "stream",
          "text": [
            "0.5825225114822388 0.015919121538480973\n",
            "0:\tlearn: 0.6479750\ttotal: 20.6ms\tremaining: 4.1s\n",
            "50:\tlearn: 0.7765669\ttotal: 882ms\tremaining: 2.58s\n",
            "100:\tlearn: 0.7841402\ttotal: 1.76s\tremaining: 1.73s\n",
            "150:\tlearn: 0.7862746\ttotal: 2.65s\tremaining: 861ms\n",
            "199:\tlearn: 0.7869387\ttotal: 3.43s\tremaining: 0us\n"
          ],
          "name": "stdout"
        },
        {
          "output_type": "execute_result",
          "data": {
            "text/plain": [
              "0.5682901579290133"
            ]
          },
          "metadata": {
            "tags": []
          },
          "execution_count": 120
        }
      ]
    },
    {
      "cell_type": "markdown",
      "metadata": {
        "id": "KImbJ6K6T9LM",
        "colab_type": "text"
      },
      "source": [
        "# Best params validation"
      ]
    },
    {
      "cell_type": "code",
      "metadata": {
        "id": "Crf15YYEbKxc",
        "colab_type": "code",
        "outputId": "3e5d4593-ef58-43ff-b2db-716f62b3a24d",
        "colab": {
          "base_uri": "https://localhost:8080/",
          "height": 854
        }
      },
      "source": [
        "means, catboost_means = [], []\n",
        "random_state = 42069666\n",
        "models_dict = {i:[] for i in '12345'}\n",
        "\n",
        "for target in tqdm('12345'):\n",
        "\n",
        "    cv = KFold(n_splits=5, shuffle=True, random_state=random_state)\n",
        "    cv_iter = list(cv.split(X, Y))\n",
        "\n",
        "    scores = []\n",
        "    catboost_scores = []\n",
        "\n",
        "    for train, test in tqdm(cv_iter):\n",
        "\n",
        "        X_train, X_val, y_train, y_val = train_test_split(\n",
        "            X.iloc[train, :].values, Y[target].iloc[train].values,\n",
        "            test_size=0.2, random_state=random_state\n",
        "            )\n",
        "        X_test = X.iloc[test, :].values\n",
        "        y_test = Y[target].iloc[test].values\n",
        "\n",
        "        # cv_data = catboost_cv(Pool(X.iloc[train, :].values, label=Y[target].iloc[train].values),\n",
        "        #         clf.get_params(), fold_count=5, verbose=False)\n",
        "        # print('Catboost:   ', cv_data['test-AUC-mean'].max(), cv_data['test-AUC-std'].mean())\n",
        "        # catboost_scores.append(cv_data['test-AUC-mean'].max())\n",
        "\n",
        "        clf = CatBoostClassifier(verbose=False, task_type=\"GPU\", eval_metric=\"AUC\",\n",
        "                                # early_stopping_rounds=100,\n",
        "                                loss_function='CrossEntropy', **(best_params[target])\n",
        "        )\n",
        "\n",
        "        clf.fit(X_train, y_train,\n",
        "                eval_set=(X_val, y_val),\n",
        "                use_best_model=True,\n",
        "                )\n",
        "        y_statement = Y[target].iloc[test]\n",
        "        pred_statement = clf.predict_proba(X_test)[:, 1]\n",
        "        scores.append(roc_auc_score(y_statement, pred_statement))\n",
        "        models_dict[target].append(clf)\n",
        "\n",
        "    # eclf = VotingClassifier(estimators=models, voting='soft')\n",
        "    scores = np.array(scores)\n",
        "    # catboost_scores = np.array(catboost_scores)\n",
        "    print(scores, '\\n', scores.mean())\n",
        "    # print('\\n', catboost_scores, '\\n', catboost_scores.mean())\n",
        "\n",
        "    means.append(scores.mean())\n",
        "    # catboost_means.append(catboost_scores.mean())"
      ],
      "execution_count": 0,
      "outputs": [
        {
          "output_type": "stream",
          "text": [
            "  0%|          | 0/5 [00:00<?, ?it/s]\n",
            "  0%|          | 0/5 [00:00<?, ?it/s]\u001b[A\n",
            " 20%|██        | 1/5 [00:06<00:27,  6.77s/it]\u001b[A\n",
            " 40%|████      | 2/5 [00:13<00:19,  6.65s/it]\u001b[A\n",
            " 60%|██████    | 3/5 [00:19<00:12,  6.50s/it]\u001b[A\n",
            " 80%|████████  | 4/5 [00:25<00:06,  6.43s/it]\u001b[A\n",
            "100%|██████████| 5/5 [00:31<00:00,  6.36s/it]\u001b[A\n",
            " 20%|██        | 1/5 [00:31<02:07, 31.76s/it]\n",
            "  0%|          | 0/5 [00:00<?, ?it/s]\u001b[A"
          ],
          "name": "stderr"
        },
        {
          "output_type": "stream",
          "text": [
            "[0.60901211 0.57353827 0.58078516 0.56100169 0.55978818] \n",
            " 0.5768250827443612\n"
          ],
          "name": "stdout"
        },
        {
          "output_type": "stream",
          "text": [
            "\n",
            " 20%|██        | 1/5 [00:05<00:23,  5.85s/it]\u001b[A\n",
            " 40%|████      | 2/5 [00:11<00:17,  5.85s/it]\u001b[A\n",
            " 60%|██████    | 3/5 [00:17<00:11,  5.79s/it]\u001b[A\n",
            " 80%|████████  | 4/5 [00:23<00:05,  5.78s/it]\u001b[A\n",
            "100%|██████████| 5/5 [00:29<00:00,  5.91s/it]\u001b[A\n",
            " 40%|████      | 2/5 [01:01<01:33, 31.04s/it]\n",
            "  0%|          | 0/5 [00:00<?, ?it/s]\u001b[A"
          ],
          "name": "stderr"
        },
        {
          "output_type": "stream",
          "text": [
            "[0.54079665 0.59735493 0.58452556 0.58102489 0.58276171] \n",
            " 0.5772927481132214\n"
          ],
          "name": "stdout"
        },
        {
          "output_type": "stream",
          "text": [
            "\n",
            " 20%|██        | 1/5 [00:15<01:00, 15.08s/it]\u001b[A\n",
            " 40%|████      | 2/5 [00:30<00:45, 15.13s/it]\u001b[A\n",
            " 60%|██████    | 3/5 [00:45<00:30, 15.14s/it]\u001b[A\n",
            " 80%|████████  | 4/5 [01:00<00:15, 15.18s/it]\u001b[A\n",
            "100%|██████████| 5/5 [01:16<00:00, 15.20s/it]\u001b[A\n",
            " 60%|██████    | 3/5 [02:17<01:29, 44.54s/it]\n",
            "  0%|          | 0/5 [00:00<?, ?it/s]\u001b[A"
          ],
          "name": "stderr"
        },
        {
          "output_type": "stream",
          "text": [
            "[0.61484096 0.62684113 0.61120708 0.59217226 0.63111351] \n",
            " 0.6152349886775662\n"
          ],
          "name": "stdout"
        },
        {
          "output_type": "stream",
          "text": [
            "\n",
            " 20%|██        | 1/5 [00:15<01:01, 15.45s/it]\u001b[A\n",
            " 40%|████      | 2/5 [00:31<00:46, 15.53s/it]\u001b[A\n",
            " 60%|██████    | 3/5 [00:46<00:31, 15.53s/it]\u001b[A\n",
            " 80%|████████  | 4/5 [01:02<00:15, 15.52s/it]\u001b[A\n",
            "100%|██████████| 5/5 [01:17<00:00, 15.46s/it]\u001b[A\n",
            " 80%|████████  | 4/5 [03:34<00:54, 54.44s/it]\n",
            "  0%|          | 0/5 [00:00<?, ?it/s]\u001b[A"
          ],
          "name": "stderr"
        },
        {
          "output_type": "stream",
          "text": [
            "[0.60074066 0.53865623 0.61708445 0.59919391 0.58806296] \n",
            " 0.5887476402550718\n"
          ],
          "name": "stdout"
        },
        {
          "output_type": "stream",
          "text": [
            "\n",
            " 20%|██        | 1/5 [00:15<01:02, 15.51s/it]\u001b[A\n",
            " 40%|████      | 2/5 [00:31<00:46, 15.55s/it]\u001b[A\n",
            " 60%|██████    | 3/5 [00:46<00:31, 15.50s/it]\u001b[A\n",
            " 80%|████████  | 4/5 [01:01<00:15, 15.43s/it]\u001b[A\n",
            "100%|██████████| 5/5 [01:17<00:00, 15.50s/it]\u001b[A\n",
            "100%|██████████| 5/5 [04:52<00:00, 61.36s/it]"
          ],
          "name": "stderr"
        },
        {
          "output_type": "stream",
          "text": [
            "[0.53757021 0.52826069 0.53058689 0.55842018 0.55615191] \n",
            " 0.5421979760490963\n"
          ],
          "name": "stdout"
        },
        {
          "output_type": "stream",
          "text": [
            "\n"
          ],
          "name": "stderr"
        }
      ]
    },
    {
      "cell_type": "code",
      "metadata": {
        "id": "RMTew7v5Ufyk",
        "colab_type": "code",
        "colab": {}
      },
      "source": [
        "np.array(preds).mean(axis=0)"
      ],
      "execution_count": 0,
      "outputs": []
    },
    {
      "cell_type": "markdown",
      "metadata": {
        "id": "gNACTjPTUYPH",
        "colab_type": "text"
      },
      "source": [
        "## Ensemble experiment\n"
      ]
    },
    {
      "cell_type": "code",
      "metadata": {
        "id": "UdoX3LA_LSmP",
        "colab_type": "code",
        "outputId": "8dacc62c-0933-4675-9950-83a752df90eb",
        "colab": {
          "base_uri": "https://localhost:8080/",
          "height": 108
        }
      },
      "source": [
        "for i in '12345':\n",
        "    preds = []\n",
        "    for c in models_dict[i]:\n",
        "        preds.append(clf.predict_proba(X.iloc[test, :].values)[:, 1])\n",
        "    pred = np.array(preds).mean(axis=0)\n",
        "    print(roc_auc_score(Y[i].iloc[test].values, pred))"
      ],
      "execution_count": 0,
      "outputs": [
        {
          "output_type": "stream",
          "text": [
            "0.5360620848292023\n",
            "0.5191338755168543\n",
            "0.5493793847814354\n",
            "0.5583065257352942\n",
            "0.55615191022637\n"
          ],
          "name": "stdout"
        }
      ]
    },
    {
      "cell_type": "code",
      "metadata": {
        "id": "3kKb1IXFQKyi",
        "colab_type": "code",
        "outputId": "3324fb5d-294c-42cf-a3be-fdea4f19b0be",
        "colab": {
          "base_uri": "https://localhost:8080/",
          "height": 35
        }
      },
      "source": [
        "probas = []\n",
        "scores = []\n",
        "for i in tqdm('12345'):\n",
        "    preds = []\n",
        "    for c in models_dict[i]:\n",
        "        preds.append(clf.predict_proba(X_submit.values)[:, 1])\n",
        "    proba = np.array(preds).mean(axis=0)\n",
        "    probas += [proba]\n",
        "\n",
        "filename = '{}.csv'.format(datetime.datetime.now().strftime(\"%Y-%m-%d-%H%M\"))\n",
        "\n",
        "tmp = pd.DataFrame(probas).T\n",
        "baseline = pd.DataFrame(tmp.values, columns=['1', '2', '3', '4', '5'])\n",
        "baseline['id'] = X_submit['id']\n",
        "baseline[['id', '1', '2', '3', '4', '5']].to_csv(filename, index=False)"
      ],
      "execution_count": 0,
      "outputs": [
        {
          "output_type": "stream",
          "text": [
            "100%|██████████| 5/5 [00:00<00:00, 12.15it/s]\n"
          ],
          "name": "stderr"
        }
      ]
    },
    {
      "cell_type": "markdown",
      "metadata": {
        "id": "H90XJ4RVUbci",
        "colab_type": "text"
      },
      "source": [
        "0.500!\n"
      ]
    },
    {
      "cell_type": "markdown",
      "metadata": {
        "id": "kdV79eZhU8Bl",
        "colab_type": "text"
      },
      "source": [
        "## a"
      ]
    },
    {
      "cell_type": "code",
      "metadata": {
        "id": "v3kzTBEjU7ma",
        "colab_type": "code",
        "outputId": "edce49c8-8950-4e47-d439-c968c4e4c492",
        "colab": {
          "base_uri": "https://localhost:8080/",
          "height": 35
        }
      },
      "source": [
        "probas = []\n",
        "scores = []\n",
        "for target in tqdm('12345'):\n",
        "\n",
        "    X_train, X_val, y_train, y_val = train_test_split(\n",
        "            X.values, Y[target].values,\n",
        "            test_size=0.2, random_state=random_state\n",
        "            )\n",
        "\n",
        "    clf = CatBoostClassifier(verbose=False, task_type=\"GPU\", eval_metric=\"AUC\",\n",
        "                                # early_stopping_rounds=100,\n",
        "                                loss_function='CrossEntropy', **(best_params[target])\n",
        "        )\n",
        "    clf.fit(X_train, y_train, eval_set=(X_val, y_val))\n",
        "    proba = clf.predict_proba(X_submit.values)[:, 1]\n",
        "    probas += [proba]\n",
        "\n",
        "filename = '{}.csv'.format(datetime.datetime.now().strftime(\"%Y-%m-%d-%H%M\"))\n",
        "\n",
        "tmp = pd.DataFrame(probas).T\n",
        "baseline = pd.DataFrame(tmp.values, columns=['1', '2', '3', '4', '5'])\n",
        "baseline['id'] = X_submit['id']\n",
        "baseline[['id', '1', '2', '3', '4', '5']].to_csv(filename, index=False)"
      ],
      "execution_count": 0,
      "outputs": [
        {
          "output_type": "stream",
          "text": [
            "100%|██████████| 5/5 [00:59<00:00, 12.57s/it]\n"
          ],
          "name": "stderr"
        }
      ]
    },
    {
      "cell_type": "code",
      "metadata": {
        "id": "peBq9WKxWS_V",
        "colab_type": "code",
        "outputId": "2071778d-5e8c-449f-b3a3-c6e6a2485d49",
        "colab": {
          "base_uri": "https://localhost:8080/",
          "height": 126
        }
      },
      "source": [
        "(baseline.drop('id', axis=1)>0.5).sum()"
      ],
      "execution_count": 0,
      "outputs": [
        {
          "output_type": "execute_result",
          "data": {
            "text/plain": [
              "1     4\n",
              "2    19\n",
              "3     0\n",
              "4    36\n",
              "5     0\n",
              "dtype: int64"
            ]
          },
          "metadata": {
            "tags": []
          },
          "execution_count": 28
        }
      ]
    },
    {
      "cell_type": "code",
      "metadata": {
        "id": "qvo_AYCH6F73",
        "colab_type": "code",
        "outputId": "39752c3c-cf97-4c65-bdd0-109b29431461",
        "colab": {
          "base_uri": "https://localhost:8080/",
          "height": 217
        }
      },
      "source": [
        "models = []\n",
        "probas = []\n",
        "scores = []\n",
        "for i in tqdm('12345'):\n",
        "    clf = CatBoostClassifier(verbose=50, task_type=\"GPU\", eval_metric=\"AUC\",\n",
        "                         early_stopping_rounds=100, loss_function='CrossEntropy', **params)\n",
        "    clf.fit(X.values, Y_cls[i].values)\n",
        "    proba = clf.predict_proba(X_test.values)[:, 1]\n",
        "    probas += [proba]\n",
        "    models.append(clf)\n",
        "\n",
        "filename = '{}.csv'.format(datetime.datetime.now().strftime(\"%Y-%m-%d-%H%M\"))\n",
        "\n",
        "tmp = pd.DataFrame(probas).T\n",
        "baseline = pd.DataFrame(tmp.values, columns=['1', '2', '3', '4', '5'])\n",
        "baseline['id'] = X_test['id']\n",
        "baseline[['id', '1', '2', '3', '4', '5']].to_csv(filename, index=False)"
      ],
      "execution_count": 0,
      "outputs": [
        {
          "output_type": "stream",
          "text": [
            "\r  0%|          | 0/5 [00:00<?, ?it/s]"
          ],
          "name": "stderr"
        },
        {
          "output_type": "stream",
          "text": [
            "0:\tlearn: 0.5016860\ttotal: 11.2ms\tremaining: 214ms\n",
            "19:\tlearn: 0.6088406\ttotal: 227ms\tremaining: 0us\n"
          ],
          "name": "stdout"
        },
        {
          "output_type": "stream",
          "text": [
            "\r 20%|██        | 1/5 [00:01<00:07,  1.76s/it]"
          ],
          "name": "stderr"
        },
        {
          "output_type": "stream",
          "text": [
            "0:\tlearn: 0.5657551\ttotal: 22.8ms\tremaining: 433ms\n",
            "19:\tlearn: 0.6108184\ttotal: 209ms\tremaining: 0us\n"
          ],
          "name": "stdout"
        },
        {
          "output_type": "stream",
          "text": [
            "\r 40%|████      | 2/5 [00:03<00:05,  1.73s/it]"
          ],
          "name": "stderr"
        },
        {
          "output_type": "stream",
          "text": [
            "0:\tlearn: 0.6026489\ttotal: 9.78ms\tremaining: 186ms\n",
            "19:\tlearn: 0.6347770\ttotal: 216ms\tremaining: 0us\n"
          ],
          "name": "stdout"
        },
        {
          "output_type": "stream",
          "text": [
            "\r 60%|██████    | 3/5 [00:05<00:03,  1.71s/it]"
          ],
          "name": "stderr"
        },
        {
          "output_type": "stream",
          "text": [
            "0:\tlearn: 0.5034736\ttotal: 9.38ms\tremaining: 178ms\n",
            "19:\tlearn: 0.6127180\ttotal: 186ms\tremaining: 0us\n"
          ],
          "name": "stdout"
        },
        {
          "output_type": "stream",
          "text": [
            "\r 80%|████████  | 4/5 [00:06<00:01,  1.69s/it]"
          ],
          "name": "stderr"
        },
        {
          "output_type": "stream",
          "text": [
            "0:\tlearn: 0.5053477\ttotal: 9.34ms\tremaining: 177ms\n",
            "19:\tlearn: 0.6077222\ttotal: 186ms\tremaining: 0us\n"
          ],
          "name": "stdout"
        },
        {
          "output_type": "stream",
          "text": [
            "\r100%|██████████| 5/5 [00:08<00:00,  1.68s/it]\n"
          ],
          "name": "stderr"
        }
      ]
    },
    {
      "cell_type": "code",
      "metadata": {
        "id": "fqjOC6VD4JWy",
        "colab_type": "code",
        "outputId": "f3fec6fe-0bd8-43ac-b1ef-0033f81a8103",
        "colab": {
          "base_uri": "https://localhost:8080/",
          "height": 799
        }
      },
      "source": [
        "params = copy.copy(random_search_list[0].best_params_)\n",
        "params['n_estimators'] = 1000\n",
        "params['l2_leaf_reg'] = 1e1\n",
        "params['learning_rate'] = 0.001\n",
        "params['depth'] = 2\n",
        "\n",
        "clf = CatBoostClassifier(verbose=50, task_type=\"GPU\", eval_metric=\"AUC\",\n",
        "                         early_stopping_rounds=100, loss_function='CrossEntropy', **params)\n",
        "\n",
        "results = cross_validation_score_statement(clf,\n",
        "                                X.drop('id', axis=1),\n",
        "                                Y['5'],\n",
        "                                roc_auc_score)\n",
        "print(results)\n",
        "print(results.mean())"
      ],
      "execution_count": 0,
      "outputs": [
        {
          "output_type": "stream",
          "text": [
            "0:\tlearn: 0.5025728\ttest: 0.4977074\tbest: 0.4977074 (0)\ttotal: 43.9ms\tremaining: 43.9s\n",
            "50:\tlearn: 0.6242287\ttest: 0.5662356\tbest: 0.5675108 (17)\ttotal: 2.23s\tremaining: 41.5s\n",
            "100:\tlearn: 0.6461400\ttest: 0.5731235\tbest: 0.5775415 (92)\ttotal: 4.35s\tremaining: 38.7s\n",
            "150:\tlearn: 0.6543615\ttest: 0.5657235\tbest: 0.5775415 (92)\ttotal: 6.48s\tremaining: 36.4s\n",
            "bestTest = 0.5775414705\n",
            "bestIteration = 92\n",
            "Shrink model to first 93 iterations.\n",
            "0:\tlearn: 0.5104288\ttest: 0.4917273\tbest: 0.4917273 (0)\ttotal: 37.4ms\tremaining: 37.3s\n",
            "50:\tlearn: 0.6231074\ttest: 0.5332199\tbest: 0.5566695 (6)\ttotal: 1.69s\tremaining: 31.5s\n",
            "100:\tlearn: 0.6534728\ttest: 0.5495548\tbest: 0.5566695 (6)\ttotal: 3.41s\tremaining: 30.4s\n",
            "bestTest = 0.5566694587\n",
            "bestIteration = 6\n",
            "Shrink model to first 7 iterations.\n",
            "0:\tlearn: 0.5008842\ttest: 0.5006971\tbest: 0.5006971 (0)\ttotal: 33.4ms\tremaining: 33.4s\n",
            "50:\tlearn: 0.6154810\ttest: 0.5230956\tbest: 0.5258037 (20)\ttotal: 1.73s\tremaining: 32.2s\n",
            "100:\tlearn: 0.6283248\ttest: 0.5217114\tbest: 0.5279990 (69)\ttotal: 3.35s\tremaining: 29.9s\n",
            "150:\tlearn: 0.6304549\ttest: 0.5227370\tbest: 0.5279990 (69)\ttotal: 5.01s\tremaining: 28.2s\n",
            "bestTest = 0.5279989839\n",
            "bestIteration = 69\n",
            "Shrink model to first 70 iterations.\n",
            "0:\tlearn: 0.5014474\ttest: 0.5017921\tbest: 0.5017921 (0)\ttotal: 34.1ms\tremaining: 34.1s\n",
            "50:\tlearn: 0.6125595\ttest: 0.5463164\tbest: 0.5491473 (24)\ttotal: 1.71s\tremaining: 31.8s\n",
            "100:\tlearn: 0.6375878\ttest: 0.5500932\tbest: 0.5531546 (89)\ttotal: 3.37s\tremaining: 30s\n",
            "150:\tlearn: 0.6370098\ttest: 0.5515035\tbest: 0.5531546 (89)\ttotal: 5s\tremaining: 28.1s\n",
            "200:\tlearn: 0.6387586\ttest: 0.5563605\tbest: 0.5564946 (184)\ttotal: 6.74s\tremaining: 26.8s\n",
            "250:\tlearn: 0.6430471\ttest: 0.5566288\tbest: 0.5569796 (248)\ttotal: 8.57s\tremaining: 25.6s\n",
            "300:\tlearn: 0.6450034\ttest: 0.5594803\tbest: 0.5601923 (291)\ttotal: 10.3s\tremaining: 23.9s\n",
            "350:\tlearn: 0.6473216\ttest: 0.5594218\tbest: 0.5601923 (291)\ttotal: 12s\tremaining: 22.1s\n",
            "400:\tlearn: 0.6483131\ttest: 0.5602164\tbest: 0.5609216 (362)\ttotal: 13.6s\tremaining: 20.3s\n",
            "450:\tlearn: 0.6481392\ttest: 0.5588371\tbest: 0.5609216 (362)\ttotal: 15.3s\tremaining: 18.7s\n",
            "bestTest = 0.5609216094\n",
            "bestIteration = 362\n",
            "Shrink model to first 363 iterations.\n",
            "0:\tlearn: 0.5024140\ttest: 0.4981203\tbest: 0.4981203 (0)\ttotal: 34.5ms\tremaining: 34.5s\n",
            "50:\tlearn: 0.6199346\ttest: 0.5419250\tbest: 0.5419250 (50)\ttotal: 1.77s\tremaining: 33s\n",
            "100:\tlearn: 0.6457750\ttest: 0.5391230\tbest: 0.5454494 (52)\ttotal: 3.48s\tremaining: 31s\n",
            "150:\tlearn: 0.6491127\ttest: 0.5423248\tbest: 0.5456143 (122)\ttotal: 5.19s\tremaining: 29.2s\n",
            "200:\tlearn: 0.6468416\ttest: 0.5445692\tbest: 0.5456143 (122)\ttotal: 6.92s\tremaining: 27.5s\n",
            "bestTest = 0.5456142724\n",
            "bestIteration = 122\n",
            "Shrink model to first 123 iterations.\n",
            "[0.57754149 0.55666945 0.52799898 0.56092158 0.54561427]\n",
            "0.5537491533741381\n"
          ],
          "name": "stdout"
        }
      ]
    },
    {
      "cell_type": "code",
      "metadata": {
        "id": "9z4yuX6-ClQN",
        "colab_type": "code",
        "colab": {}
      },
      "source": [
        "params = copy.copy(random_search_list[0].best_params_)\n",
        "params['n_estimators'] = 1000\n",
        "params['l2_leaf_reg'] = 1e1\n",
        "params['learning_rate'] = 0.001\n",
        "params['depth'] = 2"
      ],
      "execution_count": 0,
      "outputs": []
    },
    {
      "cell_type": "code",
      "metadata": {
        "id": "kx_z4Q_1SCTP",
        "colab_type": "code",
        "colab": {}
      },
      "source": [
        "\n",
        "\n",
        "X_train, X_val, Y_train, Y_val = train_test_split(X.drop('id', axis=1), Y, test_size=0.2, random_state=42)"
      ],
      "execution_count": 0,
      "outputs": []
    },
    {
      "cell_type": "code",
      "metadata": {
        "id": "84S_5Y5gAG0O",
        "colab_type": "code",
        "outputId": "7bcd8804-0358-4420-e0e6-45b428df2c15",
        "colab": {
          "base_uri": "https://localhost:8080/",
          "height": 272
        }
      },
      "source": [
        "\n",
        "\n",
        "cv_data = cv(Pool(X_train.values, label=Y_train['1'].values), clf.get_params(), fold_count=5, verbose=True)\n",
        "cv_data['test-AUC-mean'].max(), cv_data['test-AUC-std'].mean()"
      ],
      "execution_count": 0,
      "outputs": [
        {
          "output_type": "stream",
          "text": [
            "0:\ttest: 0.5474616\tbest: 0.5474616 (0)\n",
            "1:\ttest: 0.5521059\tbest: 0.5521059 (1)\n",
            "2:\ttest: 0.5465214\tbest: 0.5521059 (1)\n",
            "3:\ttest: 0.5464178\tbest: 0.5521059 (1)\n",
            "4:\ttest: 0.5476439\tbest: 0.5521059 (1)\n",
            "5:\ttest: 0.5460523\tbest: 0.5521059 (1)\n",
            "6:\ttest: 0.5467891\tbest: 0.5521059 (1)\n",
            "7:\ttest: 0.5428771\tbest: 0.5521059 (1)\n",
            "8:\ttest: 0.5430431\tbest: 0.5521059 (1)\n",
            "9:\ttest: 0.5437539\tbest: 0.5521059 (1)\n",
            "10:\ttest: 0.5432732\tbest: 0.5521059 (1)\n",
            "Stopped by overfitting detector  (10 iterations wait)\n",
            "11:\ttest: 0.5440353\tbest: 0.5521059 (1)\ttotal: 31.3s\tremaining: 42m 56s\n"
          ],
          "name": "stdout"
        },
        {
          "output_type": "execute_result",
          "data": {
            "text/plain": [
              "(0.5521058529615402, 0.028228627020056175)"
            ]
          },
          "metadata": {
            "tags": []
          },
          "execution_count": 90
        }
      ]
    },
    {
      "cell_type": "code",
      "metadata": {
        "id": "X20zRqYMKNrv",
        "colab_type": "code",
        "outputId": "e992517f-cf11-4cf1-93c7-c2a140e9d709",
        "colab": {
          "base_uri": "https://localhost:8080/",
          "height": 108
        }
      },
      "source": [
        "X_train2, X_val2, Y_train2, Y_val2 = train_test_split(X_train, Y_train, test_size=0.2, random_state=42)\n",
        "\n",
        "clf = CatBoostClassifier(verbose=50, task_type=\"GPU\", eval_metric=\"AUC\",\n",
        "                        early_stopping_rounds=10, loss_function='CrossEntropy', **params)\n",
        "clf.fit(X_train2.values, Y_train2['1'].values, eval_set=(X_val2.values, Y_val2['1'].values))\n"
      ],
      "execution_count": 0,
      "outputs": [
        {
          "output_type": "stream",
          "text": [
            "0:\tlearn: 0.6073557\ttest: 0.5784798\tbest: 0.5784798 (0)\ttotal: 16.1ms\tremaining: 16.1s\n",
            "bestTest = 0.5784798414\n",
            "bestIteration = 0\n",
            "Shrink model to first 1 iterations.\n"
          ],
          "name": "stdout"
        },
        {
          "output_type": "execute_result",
          "data": {
            "text/plain": [
              "<catboost.core.CatBoostClassifier at 0x7fa51906e518>"
            ]
          },
          "metadata": {
            "tags": []
          },
          "execution_count": 91
        }
      ]
    },
    {
      "cell_type": "code",
      "metadata": {
        "id": "0EGRhcuuLjU0",
        "colab_type": "code",
        "outputId": "60cc68eb-f55f-4afe-f08c-682fc0361078",
        "colab": {
          "base_uri": "https://localhost:8080/",
          "height": 35
        }
      },
      "source": [
        "clf.eval_metrics(Pool(X_val.values, Y_val['1'].values), ['AUC'])"
      ],
      "execution_count": 0,
      "outputs": [
        {
          "output_type": "execute_result",
          "data": {
            "text/plain": [
              "{'AUC': [0.5438966769772127]}"
            ]
          },
          "metadata": {
            "tags": []
          },
          "execution_count": 92
        }
      ]
    },
    {
      "cell_type": "code",
      "metadata": {
        "id": "XEaPpJCpFM5F",
        "colab_type": "code",
        "outputId": "7112f46f-dbba-445a-c55a-696a734050a2",
        "colab": {
          "base_uri": "https://localhost:8080/",
          "height": 745
        }
      },
      "source": [
        "models = []\n",
        "probas = []\n",
        "scores = []\n",
        "for i in tqdm('12345'):\n",
        "    clf = CatBoostClassifier(verbose=50, task_type=\"GPU\", eval_metric=\"AUC\",\n",
        "                         early_stopping_rounds=100, loss_function='CrossEntropy', **params)\n",
        "    clf.fit(X_train.drop('id', axis=1).values, Y_train[i].values,\n",
        "            eval_set=(X_val.drop('id', axis=1).values, Y_val[i].values))\n",
        "    proba = clf.predict_proba(X_test.values)[:, 1]\n",
        "    probas += [proba]\n",
        "    models.append(clf)\n",
        "\n",
        "filename = '{}.csv'.format(datetime.datetime.now().strftime(\"%Y-%m-%d-%H%M\"))\n",
        "\n",
        "tmp = pd.DataFrame(probas).T\n",
        "baseline = pd.DataFrame(tmp.values, columns=['1', '2', '3', '4', '5'])\n",
        "baseline['id'] = X_test['id']\n",
        "baseline[['id', '1', '2', '3', '4', '5']].to_csv(filename, index=False)"
      ],
      "execution_count": 0,
      "outputs": [
        {
          "output_type": "stream",
          "text": [
            "\r  0%|          | 0/5 [00:00<?, ?it/s]"
          ],
          "name": "stderr"
        },
        {
          "output_type": "stream",
          "text": [
            "0:\tlearn: 0.5042975\ttest: 0.5010251\tbest: 0.5010251 (0)\ttotal: 41.7ms\tremaining: 41.7s\n",
            "50:\tlearn: 0.6315745\ttest: 0.5584473\tbest: 0.5584473 (50)\ttotal: 2.13s\tremaining: 39.7s\n",
            "100:\tlearn: 0.6502818\ttest: 0.5554287\tbest: 0.5612603 (51)\ttotal: 4.23s\tremaining: 37.6s\n",
            "150:\tlearn: 0.6619279\ttest: 0.5545347\tbest: 0.5612603 (51)\ttotal: 6.29s\tremaining: 35.4s\n",
            "bestTest = 0.5612602532\n",
            "bestIteration = 51\n",
            "Shrink model to first 52 iterations.\n"
          ],
          "name": "stdout"
        },
        {
          "output_type": "stream",
          "text": [
            "\r 20%|██        | 1/5 [00:08<00:32,  8.04s/it]"
          ],
          "name": "stderr"
        },
        {
          "output_type": "stream",
          "text": [
            "0:\tlearn: 0.5761240\ttest: 0.5335197\tbest: 0.5335197 (0)\ttotal: 33.8ms\tremaining: 33.8s\n",
            "50:\tlearn: 0.6369943\ttest: 0.5663144\tbest: 0.5668695 (47)\ttotal: 1.71s\tremaining: 31.8s\n",
            "100:\tlearn: 0.6484135\ttest: 0.5684758\tbest: 0.5692320 (97)\ttotal: 3.43s\tremaining: 30.5s\n",
            "150:\tlearn: 0.6517739\ttest: 0.5680005\tbest: 0.5692320 (97)\ttotal: 5.27s\tremaining: 29.6s\n",
            "200:\tlearn: 0.6556353\ttest: 0.5771038\tbest: 0.5778114 (195)\ttotal: 7.18s\tremaining: 28.5s\n",
            "250:\tlearn: 0.6570965\ttest: 0.5744637\tbest: 0.5778114 (195)\ttotal: 9.09s\tremaining: 27.1s\n",
            "bestTest = 0.5778114498\n",
            "bestIteration = 195\n",
            "Shrink model to first 196 iterations.\n"
          ],
          "name": "stdout"
        },
        {
          "output_type": "stream",
          "text": [
            "\r 40%|████      | 2/5 [00:20<00:28,  9.44s/it]"
          ],
          "name": "stderr"
        },
        {
          "output_type": "stream",
          "text": [
            "0:\tlearn: 0.6073891\ttest: 0.5811117\tbest: 0.5811117 (0)\ttotal: 33.7ms\tremaining: 33.7s\n",
            "50:\tlearn: 0.6628193\ttest: 0.5958482\tbest: 0.6019788 (30)\ttotal: 1.78s\tremaining: 33.2s\n",
            "100:\tlearn: 0.6807356\ttest: 0.5938154\tbest: 0.6028782 (54)\ttotal: 3.5s\tremaining: 31.2s\n",
            "150:\tlearn: 0.6886595\ttest: 0.6064004\tbest: 0.6072351 (144)\ttotal: 5.24s\tremaining: 29.4s\n",
            "200:\tlearn: 0.6910170\ttest: 0.5970822\tbest: 0.6072351 (144)\ttotal: 6.98s\tremaining: 27.7s\n",
            "bestTest = 0.6072351038\n",
            "bestIteration = 144\n",
            "Shrink model to first 145 iterations.\n"
          ],
          "name": "stdout"
        },
        {
          "output_type": "stream",
          "text": [
            "\r 60%|██████    | 3/5 [00:30<00:19,  9.67s/it]"
          ],
          "name": "stderr"
        },
        {
          "output_type": "stream",
          "text": [
            "0:\tlearn: 0.5029127\ttest: 0.4995668\tbest: 0.4995668 (0)\ttotal: 35.2ms\tremaining: 35.2s\n",
            "50:\tlearn: 0.6552772\ttest: 0.6078740\tbest: 0.6115852 (23)\ttotal: 1.76s\tremaining: 32.7s\n",
            "100:\tlearn: 0.6599142\ttest: 0.6086293\tbest: 0.6115852 (23)\ttotal: 3.5s\tremaining: 31.2s\n",
            "bestTest = 0.6115852296\n",
            "bestIteration = 23\n",
            "Shrink model to first 24 iterations.\n"
          ],
          "name": "stdout"
        },
        {
          "output_type": "stream",
          "text": [
            "\r 80%|████████  | 4/5 [00:36<00:08,  8.53s/it]"
          ],
          "name": "stderr"
        },
        {
          "output_type": "stream",
          "text": [
            "0:\tlearn: 0.5018634\ttest: 0.5014965\tbest: 0.5014965 (0)\ttotal: 38.2ms\tremaining: 38.1s\n",
            "50:\tlearn: 0.6330254\ttest: 0.5372802\tbest: 0.5416105 (23)\ttotal: 1.74s\tremaining: 32.4s\n",
            "100:\tlearn: 0.6556971\ttest: 0.5506436\tbest: 0.5539650 (93)\ttotal: 3.47s\tremaining: 30.9s\n",
            "150:\tlearn: 0.6533656\ttest: 0.5546151\tbest: 0.5549536 (145)\ttotal: 5.18s\tremaining: 29.1s\n",
            "200:\tlearn: 0.6612288\ttest: 0.5513885\tbest: 0.5564806 (160)\ttotal: 6.9s\tremaining: 27.4s\n",
            "250:\tlearn: 0.6623944\ttest: 0.5501696\tbest: 0.5564806 (160)\ttotal: 8.66s\tremaining: 25.8s\n",
            "bestTest = 0.5564806163\n",
            "bestIteration = 160\n",
            "Shrink model to first 161 iterations.\n"
          ],
          "name": "stdout"
        },
        {
          "output_type": "stream",
          "text": [
            "\r100%|██████████| 5/5 [00:47<00:00,  9.19s/it]\n"
          ],
          "name": "stderr"
        }
      ]
    },
    {
      "cell_type": "code",
      "metadata": {
        "id": "AiaEEOicwUlW",
        "colab_type": "code",
        "outputId": "ffbdbaff-22f0-47e3-b287-c5a49bd04973",
        "colab": {
          "base_uri": "https://localhost:8080/",
          "height": 417
        }
      },
      "source": [
        "params = copy.copy(random_search_list[0].best_params_)\n",
        "params['n_estimators'] = 1000\n",
        "clf = CatBoostClassifier(verbose=50, task_type=\"GPU\", eval_metric=\"AUC\", early_stopping_rounds=10, **params)\n",
        "\n",
        "results = cross_validation_score_statement(clf,\n",
        "                                X,\n",
        "                                Y['1'],\n",
        "                                roc_auc_score)\n",
        "print(results)\n",
        "print(results.mean())"
      ],
      "execution_count": 0,
      "outputs": [
        {
          "output_type": "stream",
          "text": [
            "0:\tlearn: 0.8709782\ttest: 0.5221815\tbest: 0.5221815 (0)\ttotal: 44.4ms\tremaining: 44.4s\n",
            "bestTest = 0.5264035165\n",
            "bestIteration = 1\n",
            "Shrink model to first 2 iterations.\n",
            "0:\tlearn: 0.8501705\ttest: 0.5294383\tbest: 0.5294383 (0)\ttotal: 39.1ms\tremaining: 39.1s\n",
            "bestTest = 0.5422465503\n",
            "bestIteration = 1\n",
            "Shrink model to first 2 iterations.\n",
            "0:\tlearn: 0.8614599\ttest: 0.5313472\tbest: 0.5313472 (0)\ttotal: 41.2ms\tremaining: 41.1s\n",
            "bestTest = 0.5313471854\n",
            "bestIteration = 0\n",
            "Shrink model to first 1 iterations.\n",
            "0:\tlearn: 0.8127449\ttest: 0.5278667\tbest: 0.5278667 (0)\ttotal: 36.1ms\tremaining: 36s\n",
            "bestTest = 0.5278667063\n",
            "bestIteration = 0\n",
            "Shrink model to first 1 iterations.\n",
            "0:\tlearn: 0.8395403\ttest: 0.5480137\tbest: 0.5480137 (0)\ttotal: 43.7ms\tremaining: 43.7s\n",
            "bestTest = 0.5590091348\n",
            "bestIteration = 2\n",
            "Shrink model to first 3 iterations.\n",
            "[0.52640351 0.54224656 0.53134719 0.5278667  0.55900913]\n",
            "0.5373746170078253\n"
          ],
          "name": "stdout"
        }
      ]
    },
    {
      "cell_type": "markdown",
      "metadata": {
        "id": "Di-uyp7EpyoC",
        "colab_type": "text"
      },
      "source": [
        "# Random search"
      ]
    },
    {
      "cell_type": "markdown",
      "metadata": {
        "id": "yvzr1jiv73i6",
        "colab_type": "text"
      },
      "source": [
        "## Train"
      ]
    },
    {
      "cell_type": "code",
      "metadata": {
        "id": "NB7WlrlAIZ6g",
        "colab_type": "code",
        "colab": {}
      },
      "source": [
        "from scipy.stats import randint, uniform, logistic\n",
        "from scipy.stats import uniform\n",
        "import scipy as sp\n",
        "\n",
        "from sklearn.model_selection import RandomizedSearchCV\n",
        "import time\n",
        "\n",
        "class log_uniform():        \n",
        "    def __init__(self, a=-1, b=0, base=10):\n",
        "        self.loc = a\n",
        "        self.scale = b - a\n",
        "        self.base = base\n",
        "\n",
        "    def rvs(self, size=None, random_state=None):\n",
        "        uniform = sp.stats.uniform(loc=self.loc, scale=self.scale)\n",
        "        if size is None:\n",
        "            return np.power(self.base, uniform.rvs(random_state=random_state))\n",
        "        else:\n",
        "            return np.power(self.base, uniform.rvs(size=size, random_state=random_state))"
      ],
      "execution_count": 0,
      "outputs": []
    },
    {
      "cell_type": "code",
      "metadata": {
        "id": "_3o74z7K85Pr",
        "colab_type": "code",
        "outputId": "5b0d76ef-b8a5-4b2b-de84-9cbd67cb1f0c",
        "colab": {
          "base_uri": "https://localhost:8080/",
          "height": 35
        }
      },
      "source": [
        "log_uniform(a=-6, b=2).rvs()"
      ],
      "execution_count": 0,
      "outputs": [
        {
          "output_type": "execute_result",
          "data": {
            "text/plain": [
              "88.44027632090655"
            ]
          },
          "metadata": {
            "tags": []
          },
          "execution_count": 40
        }
      ]
    },
    {
      "cell_type": "code",
      "metadata": {
        "id": "ZVYSDScDHh1A",
        "colab_type": "code",
        "colab": {}
      },
      "source": [
        "# specify parameters and distributions to sample from\n",
        "param_dist = {\"learning_rate\":log_uniform(a=-4, b=0),\n",
        "             'depth': [1,2,3,4],\n",
        "             \"l2_leaf_reg\": log_uniform(a=-6, b=2),\n",
        "              \"random_state\": randint(0, 2**16),\n",
        "              \"bootstrap_type\": ['Bayesian', 'Bernoulli', 'No'],\n",
        "              \"grow_policy\": [\"SymmetricTree\", \"Depthwise\", \"Lossguide\"],\n",
        "             }"
      ],
      "execution_count": 0,
      "outputs": []
    },
    {
      "cell_type": "code",
      "metadata": {
        "id": "V3a_oKjDIpqL",
        "colab_type": "code",
        "colab": {}
      },
      "source": [
        "from sklearn.metrics import make_scorer\n",
        "\n",
        "n_iter_search = 10\n",
        "\n",
        "clf = CatBoostClassifier(verbose=False, task_type=\"GPU\", eval_metric=\"AUC\", n_estimators=1000, early_stopping_rounds=100)\n",
        "\n",
        "random_search_list = [RandomizedSearchCV(clf, param_distributions=param_dist,\n",
        "                                   n_iter=n_iter_search, cv=5, iid=False, verbose=4,\n",
        "                                   scoring=make_scorer(roc_auc_score))\n",
        "                    for i in range(5)]"
      ],
      "execution_count": 0,
      "outputs": []
    },
    {
      "cell_type": "code",
      "metadata": {
        "id": "-HZpzHuVzxNl",
        "colab_type": "code",
        "colab": {}
      },
      "source": [
        "for i, search in tqdm(zip('12345', random_search_list)):\n",
        "    print('\\n\\n',i,'\\n\\n')\n",
        "    search.fit(X.values, Y[i].values)"
      ],
      "execution_count": 0,
      "outputs": []
    },
    {
      "cell_type": "code",
      "metadata": {
        "id": "H6m0HBSLfwY1",
        "colab_type": "code",
        "colab": {}
      },
      "source": [
        "with open('2.pkl', mode='wb') as f:\n",
        "    pickle.dump(random_search_list, f)"
      ],
      "execution_count": 0,
      "outputs": []
    },
    {
      "cell_type": "code",
      "metadata": {
        "id": "C8pK07udoy_E",
        "colab_type": "code",
        "colab": {}
      },
      "source": [
        "with open('2.pkl', mode='rb') as f:\n",
        "    random_search_list = pickle.load(f)"
      ],
      "execution_count": 0,
      "outputs": []
    },
    {
      "cell_type": "markdown",
      "metadata": {
        "id": "fnOPSY-17zQQ",
        "colab_type": "text"
      },
      "source": [
        "## Validation"
      ]
    },
    {
      "cell_type": "code",
      "metadata": {
        "id": "MFjQ5laQ4AX3",
        "colab_type": "code",
        "colab": {}
      },
      "source": [
        "def cross_validation_score_statement(estimator,\n",
        "                                     X,\n",
        "                                     y,\n",
        "                                     scoring,\n",
        "                                     n_splits=5,\n",
        "                                     statement=None,\n",
        "                                     random_state=0):\n",
        "    \"\"\"\n",
        "    Evaluate a score by cross-validation. \n",
        "    The fit method will be performed on the entire train subset at each iteration,\n",
        "    the predict method and scoring will be performed only for objects from test subset where statement is True\n",
        "    \n",
        "    Parameters\n",
        "    ----------\n",
        "    estimator : estimator object implementing 'fit' and 'predict'\n",
        "        The object to use to fit the data.\n",
        "    X : pandas.DataFrame\n",
        "        The data to fit.\n",
        "    y : pandas.Series\n",
        "        The target variable to try to predict.\n",
        "    scoring : callable \n",
        "        The scoring function of signature scoring(y_true,y_pred).\n",
        "    statement : boolean numpy.array of shape equal to y.shape\n",
        "        The mask showing the objects we want to evaluate estimator on.\n",
        "    n_splits : int\n",
        "        Number of folds for cross-validation\n",
        "    random_state : int\n",
        "        Random_state for KFold and StratifiedKFold    \n",
        "    \n",
        "    Returns\n",
        "    -----------\n",
        "    scores : array of float, shape=(n_splits,)\n",
        "    \n",
        "    \"\"\"\n",
        "    if statement is None:\n",
        "        cv = KFold(n_splits=n_splits, shuffle=False, random_state=random_state)\n",
        "        cv_iter = list(cv.split(X, y))\n",
        "    else:\n",
        "        cv = StratifiedKFold(n_splits=n_splits,\n",
        "                             shuffle=True,\n",
        "                             random_state=random_state)\n",
        "        cv_iter = list(cv.split(X, statement))\n",
        "    scores = []\n",
        "\n",
        "    for train, test in cv_iter:\n",
        "        estimator.fit(X.iloc[train, :].values, y.iloc[train].values,\n",
        "                      eval_set=(X.iloc[test, :].values, y.iloc[test].values))\n",
        "        if statement is not None:\n",
        "            y_statement = y.iloc[test].loc[statement[test]]\n",
        "            pred_statement = estimator.predict_proba(\n",
        "                X.iloc[test, :].loc[statement[test]].values)[:, 1]\n",
        "        else:\n",
        "            y_statement = y.iloc[test]\n",
        "            pred_statement = estimator.predict_proba(X.iloc[test, :].values)[:, 1]\n",
        "        scores.append(scoring(y_statement, pred_statement))\n",
        "    return np.array(scores)"
      ],
      "execution_count": 0,
      "outputs": []
    },
    {
      "cell_type": "code",
      "metadata": {
        "id": "C6Y_cX0iweVi",
        "colab_type": "code",
        "colab": {}
      },
      "source": [
        "def validate_params(params):\n",
        "    print(f\"Params: \\n\", params)\n",
        "    means = []\n",
        "    for i in tqdm(\"12345\"):\n",
        "        cls = CatBoostClassifier(verbose=False, eval_metric=\"AUC\", task_type=\"GPU\", **params)\n",
        "        results = cross_validation_score_statement(cls, X, Y[i], roc_auc_score)\n",
        "        print(results)\n",
        "        print(results.mean())\n",
        "        means.append(results.mean())\n",
        "    print(np.array(means).mean())\n",
        "    return(np.array(means))"
      ],
      "execution_count": 0,
      "outputs": []
    },
    {
      "cell_type": "code",
      "metadata": {
        "id": "D99sFuSd2P2t",
        "colab_type": "code",
        "colab": {}
      },
      "source": [
        "n_best = 3\n",
        "best_params = {}\n",
        "best_results = {}\n",
        "for target, random_search in tqdm(zip('12345', random_search_list)):\n",
        "    \n",
        "    val_results = []\n",
        "\n",
        "    for random_search in tqdm(random_search_list):\n",
        "        for i in range(n_best):\n",
        "            params = random_search.cv_results_['params'][\n",
        "                random_search.cv_results_['mean_test_score'].argsort()[i]\n",
        "            ]\n",
        "\n",
        "            cls = CatBoostClassifier(verbose=False, eval_metric=\"AUC\", task_type=\"GPU\", **params)\n",
        "            results = cross_validation_score_statement(cls, X, Y[target], roc_auc_score)\n",
        "            \n",
        "            if best_results.get(target, 0) < results.mean():\n",
        "                best_results[target] = results.mean()\n",
        "                best_params[target] = params"
      ],
      "execution_count": 0,
      "outputs": []
    },
    {
      "cell_type": "code",
      "metadata": {
        "id": "8nFqoh8W_qOg",
        "colab_type": "code",
        "outputId": "35be8839-1ccb-41ba-8c20-4bed483c87c3",
        "colab": {
          "base_uri": "https://localhost:8080/",
          "height": 1000
        }
      },
      "source": [
        "means = []\n",
        "for target in tqdm('12345'):\n",
        "    cls = CatBoostClassifier(verbose=False, eval_metric=\"AUC\", task_type=\"GPU\", **(best_params[target]))\n",
        "    results = cross_validation_score_statement(cls, X, Y[target], roc_auc_score)\n",
        "    print(results)\n",
        "    print(results.mean())\n",
        "    means.append(results.mean())\n",
        "print(np.array(means).mean())"
      ],
      "execution_count": 0,
      "outputs": [
        {
          "output_type": "stream",
          "text": [
            "\n",
            "  0%|          | 0/5 [00:00<?, ?it/s]\u001b[A\n",
            "\n",
            "  0%|          | 0/5 [00:00<?, ?it/s]\u001b[A\u001b[A\n",
            "\n",
            " 20%|██        | 1/5 [00:05<00:22,  5.73s/it]\u001b[A\u001b[A\n",
            "\n",
            " 40%|████      | 2/5 [00:10<00:16,  5.50s/it]\u001b[A\u001b[A\n",
            "\n",
            " 60%|██████    | 3/5 [00:15<00:10,  5.39s/it]\u001b[A\u001b[A\n",
            "\n",
            " 80%|████████  | 4/5 [00:20<00:05,  5.27s/it]\u001b[A\u001b[A\n",
            "\n",
            "100%|██████████| 5/5 [00:26<00:00,  5.24s/it]\u001b[A\u001b[A\n",
            "\n",
            "\u001b[A\u001b[A\n",
            " 20%|██        | 1/5 [00:26<01:44, 26.03s/it]\u001b[A\n",
            "\n",
            "  0%|          | 0/5 [00:00<?, ?it/s]\u001b[A\u001b[A"
          ],
          "name": "stderr"
        },
        {
          "output_type": "stream",
          "text": [
            "[0.58628528 0.60986449 0.58661685 0.59983669 0.60646151]\n",
            "0.5978129622178597\n"
          ],
          "name": "stdout"
        },
        {
          "output_type": "stream",
          "text": [
            "\n",
            "\n",
            " 20%|██        | 1/5 [00:04<00:18,  4.67s/it]\u001b[A\u001b[A\n",
            "\n",
            " 40%|████      | 2/5 [00:09<00:13,  4.65s/it]\u001b[A\u001b[A\n",
            "\n",
            " 60%|██████    | 3/5 [00:13<00:09,  4.60s/it]\u001b[A\u001b[A\n",
            "\n",
            " 80%|████████  | 4/5 [00:18<00:04,  4.66s/it]\u001b[A\u001b[A\n",
            "\n",
            "100%|██████████| 5/5 [00:23<00:00,  4.67s/it]\u001b[A\u001b[A\n",
            "\n",
            "\u001b[A\u001b[A\n",
            " 40%|████      | 2/5 [00:49<01:15, 25.21s/it]\u001b[A\n",
            "\n",
            "  0%|          | 0/5 [00:00<?, ?it/s]\u001b[A\u001b[A"
          ],
          "name": "stderr"
        },
        {
          "output_type": "stream",
          "text": [
            "[0.5810114  0.56347582 0.59744    0.60019919 0.6011279 ]\n",
            "0.5886508614437869\n"
          ],
          "name": "stdout"
        },
        {
          "output_type": "stream",
          "text": [
            "\n",
            "\n",
            " 20%|██        | 1/5 [00:14<00:58, 14.61s/it]\u001b[A\u001b[A\n",
            "\n",
            " 40%|████      | 2/5 [00:29<00:43, 14.61s/it]\u001b[A\u001b[A\n",
            "\n",
            " 60%|██████    | 3/5 [00:43<00:29, 14.56s/it]\u001b[A\u001b[A\n",
            "\n",
            " 80%|████████  | 4/5 [00:58<00:14, 14.55s/it]\u001b[A\u001b[A\n",
            "\n",
            "100%|██████████| 5/5 [01:12<00:00, 14.51s/it]\u001b[A\u001b[A\n",
            "\n",
            "\u001b[A\u001b[A\n",
            " 60%|██████    | 3/5 [02:01<01:18, 39.44s/it]\u001b[A\n",
            "\n",
            "  0%|          | 0/5 [00:00<?, ?it/s]\u001b[A\u001b[A"
          ],
          "name": "stderr"
        },
        {
          "output_type": "stream",
          "text": [
            "[0.61597125 0.6071611  0.62462915 0.62133191 0.62352335]\n",
            "0.6185233524601752\n"
          ],
          "name": "stdout"
        },
        {
          "output_type": "stream",
          "text": [
            "\n",
            "\n",
            " 20%|██        | 1/5 [00:14<00:57, 14.47s/it]\u001b[A\u001b[A\n",
            "\n",
            " 40%|████      | 2/5 [00:28<00:43, 14.45s/it]\u001b[A\u001b[A\n",
            "\n",
            " 60%|██████    | 3/5 [00:43<00:28, 14.46s/it]\u001b[A\u001b[A\n",
            "\n",
            " 80%|████████  | 4/5 [00:57<00:14, 14.36s/it]\u001b[A\u001b[A\n",
            "\n",
            "100%|██████████| 5/5 [01:11<00:00, 14.22s/it]\u001b[A\u001b[A\n",
            "\n",
            "\u001b[A\u001b[A\n",
            " 80%|████████  | 4/5 [03:13<00:49, 49.03s/it]\u001b[A\n",
            "\n",
            "  0%|          | 0/5 [00:00<?, ?it/s]\u001b[A\u001b[A"
          ],
          "name": "stderr"
        },
        {
          "output_type": "stream",
          "text": [
            "[0.60086055 0.611618   0.60059381 0.60024186 0.5988205 ]\n",
            "0.6024269450471265\n"
          ],
          "name": "stdout"
        },
        {
          "output_type": "stream",
          "text": [
            "\n",
            "\n",
            " 20%|██        | 1/5 [00:14<00:58, 14.54s/it]\u001b[A\u001b[A\n",
            "\n",
            " 40%|████      | 2/5 [00:29<00:43, 14.53s/it]\u001b[A\u001b[A\n",
            "\n",
            " 60%|██████    | 3/5 [00:43<00:29, 14.52s/it]\u001b[A\u001b[A\n",
            "\n",
            " 80%|████████  | 4/5 [00:57<00:14, 14.48s/it]\u001b[A\u001b[A\n",
            "\n",
            "100%|██████████| 5/5 [01:12<00:00, 14.48s/it]\u001b[A\u001b[A\n",
            "\n",
            "\u001b[A\u001b[A\n",
            "100%|██████████| 5/5 [04:25<00:00, 56.05s/it]\u001b[A\n",
            "\u001b[A"
          ],
          "name": "stderr"
        },
        {
          "output_type": "stream",
          "text": [
            "[0.564532   0.56623265 0.52703373 0.55555556 0.54955252]\n",
            "0.5525812919599614\n",
            "0.5919990826257819\n"
          ],
          "name": "stdout"
        }
      ]
    },
    {
      "cell_type": "markdown",
      "metadata": {
        "id": "5tkU_rpZ78R1",
        "colab_type": "text"
      },
      "source": [
        "## Predict"
      ]
    },
    {
      "cell_type": "code",
      "metadata": {
        "id": "ncBswnqbwj3j",
        "colab_type": "code",
        "colab": {}
      },
      "source": [
        "def make_predictions(param_dict):\n",
        "\n",
        "    models = []\n",
        "    probas = []\n",
        "    scores = []\n",
        "    for i in tqdm('12345'):\n",
        "        cls = CatBoostClassifier(verbose=100, eval_metric=\"AUC\", task_type=\"GPU\", **(param_dict[i]))\n",
        "        cls.fit(X.values, Y_cls[i].values)\n",
        "        proba = cls.predict_proba(X_test.values)[:, 1]\n",
        "        probas += [proba]\n",
        "        models.append(cls)\n",
        "    \n",
        "    filename = '{}.csv'.format(datetime.datetime.now().strftime(\"%Y-%m-%d-%H%M\"))\n",
        "\n",
        "    tmp = pd.DataFrame(probas).T\n",
        "    baseline = pd.DataFrame(tmp.values, columns=['1', '2', '3', '4', '5'])\n",
        "    baseline['id'] = X_test['id']\n",
        "    baseline[['id', '1', '2', '3', '4', '5']].to_csv(filename, index=False)"
      ],
      "execution_count": 0,
      "outputs": []
    },
    {
      "cell_type": "code",
      "metadata": {
        "id": "vv15L-ixvUlW",
        "colab_type": "code",
        "outputId": "a2b49764-664f-4645-94f7-1729b65e11d3",
        "colab": {
          "base_uri": "https://localhost:8080/",
          "height": 417
        }
      },
      "source": [
        "make_predictions(best_params)"
      ],
      "execution_count": 0,
      "outputs": [
        {
          "output_type": "stream",
          "text": [
            "\n",
            "  0%|          | 0/5 [00:00<?, ?it/s]\u001b[A"
          ],
          "name": "stderr"
        },
        {
          "output_type": "stream",
          "text": [
            "0:\tlearn: 0.6248390\ttotal: 22ms\tremaining: 4.38s\n",
            "100:\tlearn: 0.7422866\ttotal: 1.82s\tremaining: 1.79s\n",
            "199:\tlearn: 0.7440557\ttotal: 3.61s\tremaining: 0us\n"
          ],
          "name": "stdout"
        },
        {
          "output_type": "stream",
          "text": [
            "\n",
            " 20%|██        | 1/5 [00:05<00:21,  5.32s/it]\u001b[A"
          ],
          "name": "stderr"
        },
        {
          "output_type": "stream",
          "text": [
            "0:\tlearn: 0.5888259\ttotal: 16.3ms\tremaining: 3.23s\n",
            "100:\tlearn: 0.7011446\ttotal: 1.35s\tremaining: 1.32s\n",
            "199:\tlearn: 0.7327906\ttotal: 2.89s\tremaining: 0us\n"
          ],
          "name": "stdout"
        },
        {
          "output_type": "stream",
          "text": [
            "\n",
            " 40%|████      | 2/5 [00:09<00:15,  5.07s/it]\u001b[A"
          ],
          "name": "stderr"
        },
        {
          "output_type": "stream",
          "text": [
            "0:\tlearn: 0.6342335\ttotal: 66.9ms\tremaining: 13.3s\n",
            "100:\tlearn: 0.8137848\ttotal: 6.83s\tremaining: 6.7s\n",
            "199:\tlearn: 0.8146306\ttotal: 13.4s\tremaining: 0us\n"
          ],
          "name": "stdout"
        },
        {
          "output_type": "stream",
          "text": [
            "\n",
            " 60%|██████    | 3/5 [00:24<00:16,  8.07s/it]\u001b[A"
          ],
          "name": "stderr"
        },
        {
          "output_type": "stream",
          "text": [
            "0:\tlearn: 0.6236946\ttotal: 69.8ms\tremaining: 13.9s\n",
            "100:\tlearn: 0.8441024\ttotal: 6.63s\tremaining: 6.5s\n",
            "199:\tlearn: 0.8525574\ttotal: 13s\tremaining: 0us\n"
          ],
          "name": "stdout"
        },
        {
          "output_type": "stream",
          "text": [
            "\n",
            " 80%|████████  | 4/5 [00:39<00:10, 10.05s/it]\u001b[A"
          ],
          "name": "stderr"
        },
        {
          "output_type": "stream",
          "text": [
            "0:\tlearn: 0.5555262\ttotal: 66.8ms\tremaining: 13.3s\n",
            "100:\tlearn: 0.8899512\ttotal: 6.78s\tremaining: 6.65s\n",
            "199:\tlearn: 0.8829651\ttotal: 13.4s\tremaining: 0us\n"
          ],
          "name": "stdout"
        },
        {
          "output_type": "stream",
          "text": [
            "\n",
            "100%|██████████| 5/5 [00:54<00:00, 11.54s/it]\u001b[A\n",
            "\u001b[A"
          ],
          "name": "stderr"
        }
      ]
    },
    {
      "cell_type": "code",
      "metadata": {
        "id": "dMNVK8vnPftm",
        "colab_type": "code",
        "colab": {}
      },
      "source": [
        "import json\n",
        "filename = '{}'.format(datetime.datetime.now().strftime(\"%Y-%m-%d-%H%M\"))\n",
        "with open(f\"{filename}-params.pkl\", 'wb') as f:\n",
        "    pickle.dump(best_params, f)"
      ],
      "execution_count": 0,
      "outputs": []
    },
    {
      "cell_type": "code",
      "metadata": {
        "id": "Ng6PYLJvQq1U",
        "colab_type": "code",
        "outputId": "e473af02-5e70-41fb-a8b2-1c43d20a4ff3",
        "colab": {
          "base_uri": "https://localhost:8080/",
          "height": 126
        }
      },
      "source": [
        "best_results, best_results.values()"
      ],
      "execution_count": 0,
      "outputs": [
        {
          "output_type": "execute_result",
          "data": {
            "text/plain": [
              "({'1': 0.5987095931147902,\n",
              "  '2': 0.5897032775437594,\n",
              "  '3': 0.6185233524601752,\n",
              "  '4': 0.6024269450471265,\n",
              "  '5': 0.5525812919599614},\n",
              " dict_values([0.5987095931147902, 0.5897032775437594, 0.6185233524601752, 0.6024269450471265, 0.5525812919599614]))"
            ]
          },
          "metadata": {
            "tags": []
          },
          "execution_count": 72
        }
      ]
    },
    {
      "cell_type": "code",
      "metadata": {
        "id": "xnc05x_QQjZ2",
        "colab_type": "code",
        "outputId": "c254323d-dda4-4adc-f0cd-454282f083a1",
        "colab": {
          "base_uri": "https://localhost:8080/",
          "height": 654
        }
      },
      "source": [
        "best_params"
      ],
      "execution_count": 0,
      "outputs": [
        {
          "output_type": "execute_result",
          "data": {
            "text/plain": [
              "{'1': {'bootstrap_type': 'Bernoulli',\n",
              "  'depth': 4,\n",
              "  'grow_policy': 'Depthwise',\n",
              "  'l2_leaf_reg': 3.4911467509339033e-12,\n",
              "  'learning_rate': 5.440921160038629e-05,\n",
              "  'n_estimators': 200,\n",
              "  'random_state': 24568},\n",
              " '2': {'bootstrap_type': 'Bayesian',\n",
              "  'depth': 3,\n",
              "  'grow_policy': 'Lossguide',\n",
              "  'l2_leaf_reg': 6.13264726863743e-05,\n",
              "  'learning_rate': 0.006372283604301029,\n",
              "  'n_estimators': 200,\n",
              "  'random_state': 17106},\n",
              " '3': {'bootstrap_type': 'No',\n",
              "  'depth': 10,\n",
              "  'grow_policy': 'SymmetricTree',\n",
              "  'l2_leaf_reg': 1.488962118507991,\n",
              "  'learning_rate': 1.3594637436402167e-05,\n",
              "  'n_estimators': 200,\n",
              "  'random_state': 12964},\n",
              " '4': {'bootstrap_type': 'No',\n",
              "  'depth': 10,\n",
              "  'grow_policy': 'SymmetricTree',\n",
              "  'l2_leaf_reg': 1.0582890399371415e-19,\n",
              "  'learning_rate': 1.1087857335337046e-05,\n",
              "  'n_estimators': 200,\n",
              "  'random_state': 16718},\n",
              " '5': {'bootstrap_type': 'No',\n",
              "  'depth': 10,\n",
              "  'grow_policy': 'SymmetricTree',\n",
              "  'l2_leaf_reg': 1.488962118507991,\n",
              "  'learning_rate': 1.3594637436402167e-05,\n",
              "  'n_estimators': 200,\n",
              "  'random_state': 12964}}"
            ]
          },
          "metadata": {
            "tags": []
          },
          "execution_count": 67
        }
      ]
    },
    {
      "cell_type": "code",
      "metadata": {
        "id": "4qj5qqz7t2hx",
        "colab_type": "code",
        "outputId": "d8586418-79b9-4585-bc5e-011d55d535fa",
        "colab": {
          "base_uri": "https://localhost:8080/",
          "height": 326
        }
      },
      "source": [
        "!ls"
      ],
      "execution_count": 0,
      "outputs": [
        {
          "output_type": "stream",
          "text": [
            " 03_10.json\n",
            " 1.pkl\n",
            " baseline.csv\n",
            " catboosted2-sheet.csv\n",
            " catboosted3.csv\n",
            " catboost_info\n",
            " cat_feature_index.3171252c-3f2a4f75-fc386d9a-ac929ca2.tmp\n",
            " cat_feature_index.5349e5a1-47397a62-ff5be13b-1345dbfd.tmp\n",
            " cat_feature_index.bc4f2188-4df3af2e-324522db-9d7098bf.tmp\n",
            " cat_feature_index.e26b4a56-8f62d516-ef9fb57b-43efd6f7.tmp\n",
            "'digital_reputation_challenge_baseline (DR).ipynb'\n",
            " digital_reputation_challenge_sample_submit.csv\n",
            " digital_reputation_challenge_test.zip\n",
            " digital_reputation_challenge_train.zip\n",
            " test\n",
            " train\n",
            " Untitled.ipynb\n"
          ],
          "name": "stdout"
        }
      ]
    }
  ]
}