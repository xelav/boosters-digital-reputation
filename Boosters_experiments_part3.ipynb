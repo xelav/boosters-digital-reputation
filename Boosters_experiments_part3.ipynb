{
  "nbformat": 4,
  "nbformat_minor": 0,
  "metadata": {
    "colab": {
      "name": "Boosters-experiments-part3.ipynb",
      "provenance": [],
      "include_colab_link": true
    },
    "kernelspec": {
      "name": "python3",
      "display_name": "Python 3"
    },
    "accelerator": "GPU"
  },
  "cells": [
    {
      "cell_type": "markdown",
      "metadata": {
        "id": "view-in-github",
        "colab_type": "text"
      },
      "source": [
        "<a href=\"https://colab.research.google.com/github/xelav/boosters-digital-reputation/blob/master/Boosters_experiments_part3.ipynb\" target=\"_parent\"><img src=\"https://colab.research.google.com/assets/colab-badge.svg\" alt=\"Open In Colab\"/></a>"
      ]
    },
    {
      "cell_type": "code",
      "metadata": {
        "id": "v73wQGYaExHT",
        "colab_type": "code",
        "outputId": "1a9b1cb7-85f6-4ed5-b22e-39c42dbacd68",
        "colab": {
          "base_uri": "https://localhost:8080/",
          "height": 306
        }
      },
      "source": [
        "from google.colab import drive\n",
        "drive.mount('/content/drive', force_remount=False)\n",
        "\"\"\n",
        "root_dir = \"/content/drive/My Drive/boosters\"\n",
        "%cd \"{root_dir}\"\n",
        "!pip install catboost"
      ],
      "execution_count": 0,
      "outputs": [
        {
          "output_type": "stream",
          "text": [
            "Mounted at /content/drive\n",
            "/content/drive/My Drive/boosters\n",
            "Requirement already satisfied: catboost in /usr/local/lib/python3.6/dist-packages (0.17.4)\n",
            "Requirement already satisfied: numpy>=1.16.0 in /usr/local/lib/python3.6/dist-packages (from catboost) (1.16.5)\n",
            "Requirement already satisfied: plotly in /usr/local/lib/python3.6/dist-packages (from catboost) (4.1.1)\n",
            "Requirement already satisfied: matplotlib in /usr/local/lib/python3.6/dist-packages (from catboost) (3.0.3)\n",
            "Requirement already satisfied: graphviz in /usr/local/lib/python3.6/dist-packages (from catboost) (0.10.1)\n",
            "Requirement already satisfied: scipy in /usr/local/lib/python3.6/dist-packages (from catboost) (1.3.1)\n",
            "Requirement already satisfied: pandas>=0.24.0 in /usr/local/lib/python3.6/dist-packages (from catboost) (0.24.2)\n",
            "Requirement already satisfied: six in /usr/local/lib/python3.6/dist-packages (from catboost) (1.12.0)\n",
            "Requirement already satisfied: retrying>=1.3.3 in /usr/local/lib/python3.6/dist-packages (from plotly->catboost) (1.3.3)\n",
            "Requirement already satisfied: pyparsing!=2.0.4,!=2.1.2,!=2.1.6,>=2.0.1 in /usr/local/lib/python3.6/dist-packages (from matplotlib->catboost) (2.4.2)\n",
            "Requirement already satisfied: python-dateutil>=2.1 in /usr/local/lib/python3.6/dist-packages (from matplotlib->catboost) (2.5.3)\n",
            "Requirement already satisfied: cycler>=0.10 in /usr/local/lib/python3.6/dist-packages (from matplotlib->catboost) (0.10.0)\n",
            "Requirement already satisfied: kiwisolver>=1.0.1 in /usr/local/lib/python3.6/dist-packages (from matplotlib->catboost) (1.1.0)\n",
            "Requirement already satisfied: pytz>=2011k in /usr/local/lib/python3.6/dist-packages (from pandas>=0.24.0->catboost) (2018.9)\n",
            "Requirement already satisfied: setuptools in /usr/local/lib/python3.6/dist-packages (from kiwisolver>=1.0.1->matplotlib->catboost) (41.2.0)\n"
          ],
          "name": "stdout"
        }
      ]
    },
    {
      "cell_type": "markdown",
      "metadata": {
        "id": "g0lgTEcEp5MT",
        "colab_type": "text"
      },
      "source": [
        "# Prapare data"
      ]
    },
    {
      "cell_type": "code",
      "metadata": {
        "id": "l6-Lonl4F9pS",
        "colab_type": "code",
        "colab": {}
      },
      "source": [
        "import matplotlib.pyplot as plt\n",
        "import numpy as np\n",
        "import pandas as pd\n",
        "import seaborn as sns\n",
        "from IPython.display import display\n",
        "from scipy import sparse, stats\n",
        "from scipy.linalg import svd\n",
        "from sklearn import preprocessing\n",
        "from sklearn.decomposition import TruncatedSVD\n",
        "from sklearn.ensemble import RandomForestClassifier\n",
        "from sklearn.metrics import f1_score, roc_auc_score\n",
        "from sklearn.model_selection import (KFold, StratifiedKFold, cross_val_score,\n",
        "                                     cross_validate, train_test_split)\n",
        "from sklearn.ensemble import VotingClassifier\n",
        "\n",
        "from tqdm import tqdm\n",
        "from catboost import CatBoostClassifier\n",
        "\n",
        "import datetime\n",
        "import json\n",
        "import pickle\n",
        "import copy\n",
        "\n",
        "from sklearn.model_selection import train_test_split\n",
        "from catboost import Pool\n",
        "from catboost import cv as catboost_cv\n",
        "from scipy import sparse\n",
        "\n",
        "import xgboost as xgb\n",
        "from sklearn.discriminant_analysis import LinearDiscriminantAnalysis\n",
        "from sklearn.decomposition import PCA\n",
        "import lightgbm as lgb\n",
        "from sklearn.linear_model import LogisticRegression\n",
        "from sklearn.feature_selection import SelectFromModel"
      ],
      "execution_count": 0,
      "outputs": []
    },
    {
      "cell_type": "code",
      "metadata": {
        "id": "rwksDQp4G9-w",
        "colab_type": "code",
        "colab": {}
      },
      "source": [
        "TRAIN_PATH = 'train/'\n",
        "TEST_PATH = 'test/'\n",
        "\n",
        "X1 = pd.read_csv(TRAIN_PATH + 'X1.csv')\n",
        "X2 = pd.read_csv(TRAIN_PATH + 'X2.csv')\n",
        "X3 = pd.read_csv(TRAIN_PATH + 'X3.csv')\n",
        "\n",
        "Y = pd.read_csv(TRAIN_PATH + 'Y.csv')\n",
        "\n",
        "X1_test = pd.read_csv(TEST_PATH + 'X1.csv')\n",
        "X2_test = pd.read_csv(TEST_PATH + 'X2.csv')\n",
        "X3_test = pd.read_csv(TEST_PATH + 'X3.csv')"
      ],
      "execution_count": 0,
      "outputs": []
    },
    {
      "cell_type": "code",
      "metadata": {
        "id": "IVo7Ff6F_aoX",
        "colab_type": "code",
        "colab": {}
      },
      "source": [
        "def get_x2_summed(X2):\n",
        "    rows, row_pos = np.unique(X2.iloc[:, 0], return_inverse=True)\n",
        "    cols, col_pos = np.unique(X2.iloc[:, 1], return_inverse=True)\n",
        "    sparse_matrix = sparse.csr_matrix((len(rows), len(cols)))\n",
        "\n",
        "    sparse_matrix[row_pos, col_pos] = 1\n",
        "\n",
        "    return np.squeeze(np.asarray(sparse_matrix.sum(axis=1)))\n",
        "\n",
        "# X1['X2_summed'] = get_x2_summed(X2)\n",
        "# X1_test['X2_summed'] = get_x2_summed(X2_test)"
      ],
      "execution_count": 0,
      "outputs": []
    },
    {
      "cell_type": "code",
      "metadata": {
        "id": "kPe2hWGzHQCy",
        "colab_type": "code",
        "outputId": "095ade2e-a62b-4651-f9c9-9bf8bb0332d9",
        "colab": {
          "base_uri": "https://localhost:8080/",
          "height": 303
        }
      },
      "source": [
        "def transform_x2(X2, svd=None):\n",
        "    rows, row_pos = np.unique(X2.iloc[:, 0], return_inverse=True)\n",
        "    cols, col_pos = np.unique(X2.iloc[:, 1], return_inverse=True)\n",
        "    \n",
        "    sparse_matrix = sparse.csr_matrix((len(rows), len(cols)))\n",
        "\n",
        "    sparse_matrix[row_pos, col_pos] = 1\n",
        "\n",
        "    cols_ = sparse_matrix.sum(axis=0)\n",
        "    rows_ = sparse_matrix.sum(axis=1)\n",
        "\n",
        "    minimum_users_per_group = 5\n",
        "    selected_cols = cols_ >= minimum_users_per_group\n",
        "    trimmed_sparse_matrix = sparse_matrix[:, np.squeeze(np.asarray(selected_cols))]\n",
        "\n",
        "    sns.distplot(trimmed_sparse_matrix.sum(axis=0), bins=100)\n",
        "\n",
        "    if svd is None:\n",
        "        svd = TruncatedSVD(n_components=150)\n",
        "        svd.fit(trimmed_sparse_matrix)\n",
        "\n",
        "    components = pd.DataFrame(svd.transform(trimmed_sparse_matrix))\n",
        "    components['id'] = X2.iloc[:, 0].unique()\n",
        "    X2 = components\n",
        "    X2_summed = np.squeeze(np.asarray(sparse_matrix.sum(axis=1)))\n",
        "    return X2, X2_summed, svd\n",
        "\n",
        "X2_all = X2.append(X2_test)\n",
        "X2_all, X2_summed, svd = transform_x2(X2_all)\n",
        "\n",
        "X2_tranformed = X2_all[X2_all.id.isin(X1.id)]\n",
        "df = X1.merge(X2, on='id', how='inner').merge(X3, on='id').merge(Y, on='id')\n",
        "X = df.iloc[:, :-5]\n",
        "X = X.drop('id', axis=1)\n",
        "Y_cls = df.iloc[:, -5:]\n",
        "\n",
        "X2_tranformed_test = X2_all[X2_all.id.isin(X1_test.id)]\n",
        "df_test = X1_test.merge(X2_test, on='id', how='inner').merge(X3_test, on='id')\n",
        "X_submit = df_test"
      ],
      "execution_count": 0,
      "outputs": [
        {
          "output_type": "stream",
          "text": [
            "/usr/local/lib/python3.6/dist-packages/scipy/sparse/_index.py:127: SparseEfficiencyWarning: Changing the sparsity structure of a csr_matrix is expensive. lil_matrix is more efficient.\n",
            "  self._set_arrayXarray(i, j, x)\n"
          ],
          "name": "stderr"
        },
        {
          "output_type": "display_data",
          "data": {
            "image/png": "[encoded data removed]",
            "text/plain": [
              "<Figure size 432x288 with 1 Axes>"
            ]
          },
          "metadata": {
            "tags": []
          }
        }
      ]
    },
    {
      "cell_type": "code",
      "metadata": {
        "id": "v-_Uo9_fvk6a",
        "colab_type": "code",
        "colab": {}
      },
      "source": [
        "def validate(estimator, X_train, y_train, random_state=None, n_folds=5):\n",
        "\n",
        "    cv = KFold(n_splits=n_folds, shuffle=False, random_state=random_state)\n",
        "    cv_iter = list(cv.split(X_train, y_train))\n",
        "\n",
        "    scores=[]\n",
        "    for train, test in tqdm(cv_iter):\n",
        "        estimator.fit(X_train[train, :], y_train[train],\n",
        "                        # eval_set=(X_train[test, :], y_train[test])\n",
        "                        )\n",
        "        pred_statement = estimator.predict_proba(X_train[test, :])[:, 1]\n",
        "        metric = roc_auc_score(y_train[test], pred_statement)\n",
        "        print(metric)\n",
        "        scores.append(metric)\n",
        "    return np.array(scores)"
      ],
      "execution_count": 0,
      "outputs": []
    },
    {
      "cell_type": "code",
      "metadata": {
        "id": "MJFt-gOUZ3BK",
        "colab_type": "code",
        "colab": {}
      },
      "source": [
        "def make_predictions(estimator, exp_name, X_train, Y_train, X_test):\n",
        "    probas = []\n",
        "\n",
        "    for i in tqdm('12345'):\n",
        "\n",
        "        # X_train = X1.merge(Y, on='id', suffixes=('', '_y'),).iloc[:, :-5].drop('id', axis=1).values\n",
        "        y = Y_train[i].values\n",
        "\n",
        "        estimator.fit(X_train, y)\n",
        "        proba = estimator.predict_proba(X_test)[:, 1]\n",
        "\n",
        "        probas.append(proba)\n",
        "\n",
        "    tmp = pd.DataFrame(probas).T\n",
        "    baseline = pd.DataFrame(tmp.values, columns=['1', '2', '3', '4', '5'])\n",
        "    baseline['id'] = X1_test['id']\n",
        "    baseline[['id', '1', '2', '3', '4', '5']].to_csv(exp_name+'.csv', index=False)"
      ],
      "execution_count": 0,
      "outputs": []
    },
    {
      "cell_type": "markdown",
      "metadata": {
        "id": "wE9ltTgS6I4e",
        "colab_type": "text"
      },
      "source": [
        "## Feature importance experiments"
      ]
    },
    {
      "cell_type": "code",
      "metadata": {
        "colab_type": "code",
        "id": "MBJ-4DwyvqEd",
        "colab": {}
      },
      "source": [
        "xgb_params = {'objective': 'binary:logistic', \n",
        "        'eval_metric': 'auc',\n",
        "        'eta': 0.001,\n",
        "        'max_depth': 1, \n",
        "        'subsample': 0.6, \n",
        "        'colsample_bytree': 0.6,\n",
        "        'alpha':0.001,\n",
        "        'silent': True}\n",
        "\n",
        "t=0\n",
        "xgb_cls = xgb.XGBClassifier(n_jobs=8, **xgb_params)\n",
        "\n",
        "lgb_cls = lgb.LGBMClassifier(objective='cross_entropy', n_estimators=300, max_depth=5, learning_rate=0.001)\n",
        "\n",
        "cat_cls = CatBoostClassifier(verbose=False, task_type=\"GPU\", eval_metric=\"AUC\", n_estimators=300,\n",
        "                         loss_function='Logloss', use_best_model=False)\n",
        "\n",
        "log_clf = LogisticRegression(penalty='l1', C=5e-5, solver='liblinear',\n",
        "                         class_weight='balanced')\n",
        "\n",
        "eclf = VotingClassifier(estimators=[('cat', cat_cls), ('xgb', xgb_cls), ('lgb', lgb_cls), ('log', log_clf)], voting='soft')"
      ],
      "execution_count": 0,
      "outputs": []
    },
    {
      "cell_type": "code",
      "metadata": {
        "colab_type": "code",
        "id": "1RE4ELSTvqE4",
        "outputId": "747e12d8-342b-4b34-af54-c19999dee3a8",
        "colab": {
          "base_uri": "https://localhost:8080/",
          "height": 85
        }
      },
      "source": [
        "X3_train_summed = X3.drop('id', axis=1).multiply(1 / X3[X3 != 0].drop('id', axis=1).min(axis=1), axis=0).sum(axis=1)\n",
        "X3_test_summed = X3_test.drop('id', axis=1).multiply(1 / X3_test[X3_test != 0].drop('id', axis=1).min(axis=1), axis=0).sum(axis=1)\n",
        "\n",
        "X_train = X1\\\n",
        "    .assign(X2_summed=get_x2_summed(X2))\\\n",
        "    .assign(X3_summed_dernomalized=X3_train_summed)\\\n",
        "    .assign(X3_non_zero_count=(X3.drop('id',axis=1) != 0).sum(axis=1))\\\n",
        "    .assign(X3_mean=X3.drop('id', axis=1).mean(axis=1))\\\n",
        "    .merge(Y, on='id', suffixes=('', '_y'),)\\\n",
        "    .iloc[:, :-5]\n",
        "\n",
        "X_test = X1_test\\\n",
        "    .assign(X2_summed=get_x2_summed(X2_test))\\\n",
        "    .assign(X3_summed_dernomalized=X3_test_summed)\\\n",
        "    .assign(X3_non_zero_count=(X3_test.drop('id',axis=1) != 0).sum(axis=1))\\\n",
        "    .assign(X3_mean=X3_test.drop('id', axis=1).mean(axis=1))\\\n",
        "    .values\n",
        "\n",
        "\n",
        "# print(validate(eclf, X_train, y_train, random_state=None, n_folds=5).mean())"
      ],
      "execution_count": 0,
      "outputs": [
        {
          "output_type": "stream",
          "text": [
            "/usr/local/lib/python3.6/dist-packages/scipy/sparse/_index.py:127: SparseEfficiencyWarning: Changing the sparsity structure of a csr_matrix is expensive. lil_matrix is more efficient.\n",
            "  self._set_arrayXarray(i, j, x)\n",
            "/usr/local/lib/python3.6/dist-packages/scipy/sparse/_index.py:127: SparseEfficiencyWarning: Changing the sparsity structure of a csr_matrix is expensive. lil_matrix is more efficient.\n",
            "  self._set_arrayXarray(i, j, x)\n"
          ],
          "name": "stderr"
        }
      ]
    },
    {
      "cell_type": "markdown",
      "metadata": {
        "id": "kW8Bn1Dq1GMg",
        "colab_type": "text"
      },
      "source": [
        "## Feature importance"
      ]
    },
    {
      "cell_type": "code",
      "metadata": {
        "id": "IgCInalh1rfc",
        "colab_type": "code",
        "outputId": "25efa66f-89a4-42d4-8e61-4e7750348f80",
        "colab": {
          "base_uri": "https://localhost:8080/",
          "height": 721
        }
      },
      "source": [
        "xgb_cls = xgb.XGBClassifier(n_jobs=8, random_state=0, **xgb_params)\n",
        "\n",
        "xgb_cls.fit(X_train.values, Y['5'])\n",
        "\n",
        "plt.figure(figsize=(12,12))\n",
        "sns.barplot(x=xgb_cls.feature_importances_,y=X_train.columns)"
      ],
      "execution_count": 0,
      "outputs": [
        {
          "output_type": "execute_result",
          "data": {
            "text/plain": [
              "<matplotlib.axes._subplots.AxesSubplot at 0x7f76a835c860>"
            ]
          },
          "metadata": {
            "tags": []
          },
          "execution_count": 10
        },
        {
          "output_type": "display_data",
          "data": {
            "image/png": "[encoded data removed]",
            "text/plain": [
              "<Figure size 864x864 with 1 Axes>"
            ]
          },
          "metadata": {
            "tags": []
          }
        }
      ]
    },
    {
      "cell_type": "code",
      "metadata": {
        "id": "tKczCMAU9V9p",
        "colab_type": "code",
        "outputId": "288df220-c675-4542-ae40-59654487afea",
        "colab": {
          "base_uri": "https://localhost:8080/",
          "height": 721
        }
      },
      "source": [
        "lgb_cls = lgb.LGBMClassifier(objective='cross_entropy', n_estimators=300, max_depth=5, learning_rate=0.001)\n",
        "\n",
        "lgb_cls.fit(X_train.values, Y['5'])\n",
        "\n",
        "plt.figure(figsize=(12,12))\n",
        "sns.barplot(x=lgb_cls.feature_importances_, y=X_train.columns)"
      ],
      "execution_count": 0,
      "outputs": [
        {
          "output_type": "execute_result",
          "data": {
            "text/plain": [
              "<matplotlib.axes._subplots.AxesSubplot at 0x7f75b1433e80>"
            ]
          },
          "metadata": {
            "tags": []
          },
          "execution_count": 11
        },
        {
          "output_type": "display_data",
          "data": {
            "image/png": "[encoded data removed]",
            "text/plain": [
              "<Figure size 864x864 with 1 Axes>"
            ]
          },
          "metadata": {
            "tags": []
          }
        }
      ]
    },
    {
      "cell_type": "code",
      "metadata": {
        "id": "XQEXDypPAWTd",
        "colab_type": "code",
        "outputId": "b675ad15-8f64-402a-9fb9-3dfd26710b88",
        "colab": {
          "base_uri": "https://localhost:8080/",
          "height": 721
        }
      },
      "source": [
        "cat_cls = CatBoostClassifier(verbose=False, task_type=\"GPU\", eval_metric=\"AUC\",\n",
        "                         loss_function='Logloss', use_best_model=False, n_estimators=200)\n",
        "\n",
        "cat_cls.fit(X_train.values, Y['5'])\n",
        "\n",
        "plt.figure(figsize=(12,12))\n",
        "sns.barplot(x=cat_cls.feature_importances_, y=X_train.columns)"
      ],
      "execution_count": 0,
      "outputs": [
        {
          "output_type": "execute_result",
          "data": {
            "text/plain": [
              "<matplotlib.axes._subplots.AxesSubplot at 0x7f7685d5afd0>"
            ]
          },
          "metadata": {
            "tags": []
          },
          "execution_count": 12
        },
        {
          "output_type": "display_data",
          "data": {
            "image/png": "[encoded data removed]",
            "text/plain": [
              "<Figure size 864x864 with 1 Axes>"
            ]
          },
          "metadata": {
            "tags": []
          }
        }
      ]
    },
    {
      "cell_type": "code",
      "metadata": {
        "id": "U-wu9DCuBGGm",
        "colab_type": "code",
        "outputId": "641c6f46-010a-41ab-9a18-87ac7be4e8d8",
        "colab": {
          "base_uri": "https://localhost:8080/",
          "height": 85
        }
      },
      "source": [
        "cat_cls.feature_importances_ > cat_cls.feature_importances_.mean()"
      ],
      "execution_count": 0,
      "outputs": [
        {
          "output_type": "execute_result",
          "data": {
            "text/plain": [
              "array([ True, False, False, False,  True,  True,  True,  True,  True,\n",
              "        True, False, False, False, False, False, False, False, False,\n",
              "       False, False, False, False, False, False, False, False,  True,\n",
              "        True,  True, False])"
            ]
          },
          "metadata": {
            "tags": []
          },
          "execution_count": 14
        }
      ]
    },
    {
      "cell_type": "code",
      "metadata": {
        "id": "P86r4gZUCBkz",
        "colab_type": "code",
        "outputId": "a714f4d0-b0af-4eb1-ec64-45fb580ca7ac",
        "colab": {
          "base_uri": "https://localhost:8080/",
          "height": 1000
        }
      },
      "source": [
        "X2_tranformed['id']"
      ],
      "execution_count": 0,
      "outputs": [
        {
          "output_type": "execute_result",
          "data": {
            "text/plain": [
              "0          3\n",
              "1          5\n",
              "2          6\n",
              "3          8\n",
              "4         10\n",
              "5         11\n",
              "6         13\n",
              "7         15\n",
              "8         17\n",
              "9         18\n",
              "10        19\n",
              "11        20\n",
              "12        22\n",
              "13        24\n",
              "14        25\n",
              "15        27\n",
              "16        28\n",
              "17        29\n",
              "18        30\n",
              "19        34\n",
              "20        36\n",
              "21        42\n",
              "22        43\n",
              "23        45\n",
              "24        46\n",
              "25        49\n",
              "26        50\n",
              "27        51\n",
              "28        56\n",
              "29        57\n",
              "        ... \n",
              "3970    8005\n",
              "3971    8006\n",
              "3972    8007\n",
              "3973    8011\n",
              "3974    8014\n",
              "3975    8015\n",
              "3976    8017\n",
              "3977    8018\n",
              "3978    8020\n",
              "3979    8022\n",
              "3980    8029\n",
              "3981    8030\n",
              "3982    8031\n",
              "3983    8032\n",
              "3984    8033\n",
              "3985    8034\n",
              "3986    8035\n",
              "3987    8036\n",
              "3988    8037\n",
              "3989    8040\n",
              "3990    8042\n",
              "3991    8044\n",
              "3992    8045\n",
              "3993    8048\n",
              "3994    8049\n",
              "3995    8051\n",
              "3996    8052\n",
              "3997    8053\n",
              "3998    8055\n",
              "3999    8056\n",
              "Name: id, Length: 4000, dtype: int64"
            ]
          },
          "metadata": {
            "tags": []
          },
          "execution_count": 21
        }
      ]
    },
    {
      "cell_type": "code",
      "metadata": {
        "id": "bXCHwGee-dQs",
        "colab_type": "code",
        "outputId": "5379c378-9ccd-44ae-cbd9-3a366034e334",
        "colab": {
          "base_uri": "https://localhost:8080/",
          "height": 255
        }
      },
      "source": [
        "model = xgb_cls\n",
        "X_tmp = X3.drop('id', axis=1)\n",
        "\n",
        "y_train=Y['5']\n",
        "\n",
        "selection = SelectFromModel(model, threshold=None, prefit=False)\n",
        "select_X_train = selection.fit_transform(X_tmp.values, y_train)\n",
        "\n",
        "print('Mean:  ',validate(model, X_tmp.values, y_train, random_state=0).mean())\n",
        "print('Mean:  ',validate(model, select_X_train, y_train, random_state=0).mean())"
      ],
      "execution_count": 0,
      "outputs": [
        {
          "output_type": "stream",
          "text": [
            " 20%|██        | 1/5 [00:01<00:04,  1.02s/it]"
          ],
          "name": "stderr"
        },
        {
          "output_type": "stream",
          "text": [
            "0.5322074288277072\n"
          ],
          "name": "stdout"
        },
        {
          "output_type": "stream",
          "text": [
            "\r 40%|████      | 2/5 [00:02<00:03,  1.03s/it]"
          ],
          "name": "stderr"
        },
        {
          "output_type": "stream",
          "text": [
            "0.48407943979189166\n"
          ],
          "name": "stdout"
        },
        {
          "output_type": "stream",
          "text": [
            "\r 60%|██████    | 3/5 [00:03<00:02,  1.03s/it]"
          ],
          "name": "stderr"
        },
        {
          "output_type": "stream",
          "text": [
            "0.46665862290862287\n"
          ],
          "name": "stdout"
        },
        {
          "output_type": "stream",
          "text": [
            "\r 80%|████████  | 4/5 [00:04<00:01,  1.03s/it]"
          ],
          "name": "stderr"
        },
        {
          "output_type": "stream",
          "text": [
            "0.5031336208972268\n"
          ],
          "name": "stdout"
        },
        {
          "output_type": "stream",
          "text": [
            "100%|██████████| 5/5 [00:05<00:00,  1.04s/it]\n",
            "  0%|          | 0/5 [00:00<?, ?it/s]"
          ],
          "name": "stderr"
        },
        {
          "output_type": "stream",
          "text": [
            "0.47961788800359106\n",
            "Mean:   0.4931394000858079\n"
          ],
          "name": "stdout"
        },
        {
          "output_type": "stream",
          "text": [
            "\r 20%|██        | 1/5 [00:00<00:00,  4.13it/s]"
          ],
          "name": "stderr"
        },
        {
          "output_type": "stream",
          "text": [
            "0.5827459485511176\n"
          ],
          "name": "stdout"
        },
        {
          "output_type": "stream",
          "text": [
            "\r 40%|████      | 2/5 [00:00<00:00,  4.10it/s]"
          ],
          "name": "stderr"
        },
        {
          "output_type": "stream",
          "text": [
            "0.5229944780650815\n"
          ],
          "name": "stdout"
        },
        {
          "output_type": "stream",
          "text": [
            "\r 60%|██████    | 3/5 [00:00<00:00,  4.10it/s]"
          ],
          "name": "stderr"
        },
        {
          "output_type": "stream",
          "text": [
            "0.5117304804804805\n"
          ],
          "name": "stdout"
        },
        {
          "output_type": "stream",
          "text": [
            "\r 80%|████████  | 4/5 [00:00<00:00,  4.03it/s]"
          ],
          "name": "stderr"
        },
        {
          "output_type": "stream",
          "text": [
            "0.5520710791901431\n"
          ],
          "name": "stdout"
        },
        {
          "output_type": "stream",
          "text": [
            "\r100%|██████████| 5/5 [00:01<00:00,  4.01it/s]"
          ],
          "name": "stderr"
        },
        {
          "output_type": "stream",
          "text": [
            "0.5092897822915498\n",
            "Mean:   0.5357663537156745\n"
          ],
          "name": "stdout"
        },
        {
          "output_type": "stream",
          "text": [
            "\n"
          ],
          "name": "stderr"
        }
      ]
    },
    {
      "cell_type": "markdown",
      "metadata": {
        "id": "Aa22Mo8zCMgz",
        "colab_type": "text"
      },
      "source": [
        "## Merging"
      ]
    },
    {
      "cell_type": "code",
      "metadata": {
        "id": "Obm4qt9iCMOT",
        "colab_type": "code",
        "outputId": "8f8acaec-83bf-4c71-f286-ae236ddda529",
        "colab": {
          "base_uri": "https://localhost:8080/",
          "height": 1000
        }
      },
      "source": [
        "final_probes=[]\n",
        "\n",
        "xgb_params = {'objective': 'binary:logistic', \n",
        "        'eval_metric': 'auc',\n",
        "        'eta': 0.001,\n",
        "        'max_depth': 1, \n",
        "        'subsample': 0.6, \n",
        "        'colsample_bytree': 0.6,\n",
        "        'alpha':0.001,\n",
        "        'silent': True}\n",
        "\n",
        "for target in tqdm('12345'):\n",
        "\n",
        "    probas = []\n",
        "\n",
        "    for rnd in range(10):\n",
        "\n",
        "        model = xgb.XGBClassifier(n_jobs=8, random_state=rnd, **xgb_params)\n",
        "\n",
        "        y_train=Y[target]\n",
        "\n",
        "        selection = SelectFromModel(model, threshold=None, prefit=False)\n",
        "        selection.fit(X3.drop('id', axis=1).values, y_train)\n",
        "\n",
        "        select_X3_train = selection.transform(X3.drop('id', axis=1).values)\n",
        "        select_X3_train = pd.DataFrame(select_X3_train)\n",
        "        select_X3_train['id'] = X3['id'].values\n",
        "\n",
        "        select_X3_test = selection.transform(X3_test.drop('id', axis=1).values)\n",
        "        select_X3_test = pd.DataFrame(select_X3_test)\n",
        "        select_X3_test['id'] = X3_test['id'].values\n",
        "        # print(\"X3 selected!\")\n",
        "\n",
        "        selection = SelectFromModel(model, threshold=None, prefit=False)\n",
        "        selection.fit(X2_tranformed.drop('id', axis=1).values, y_train)\n",
        "        \n",
        "        select_X2_train = selection.transform(X2_tranformed.drop('id', axis=1).values)\n",
        "        select_X2_train = pd.DataFrame(select_X2_train)\n",
        "        select_X2_train['id'] = X2_tranformed['id'].values\n",
        "\n",
        "        select_X2_test = selection.transform(X2_tranformed_test.drop('id', axis=1).values)\n",
        "        select_X2_test = pd.DataFrame(select_X2_test)\n",
        "        select_X2_test['id'] = X2_tranformed_test['id'].values\n",
        "        # print(\"X2 selected!\")\n",
        "\n",
        "        X_train = X1\\\n",
        "            .assign(X2_summed=get_x2_summed(X2))\\\n",
        "            .assign(X3_summed_dernomalized=X3_train_summed)\\\n",
        "            .assign(X3_non_zero_count=(X3.drop('id',axis=1) != 0).sum(axis=1))\\\n",
        "            .assign(X3_mean=X3.drop('id', axis=1).mean(axis=1))\\\n",
        "            .merge(select_X3_train, on='id')\\\n",
        "            .merge(select_X2_train, on='id')\\\n",
        "            .merge(Y, on='id', suffixes=('', '_y'),)\\\n",
        "            .iloc[:, :-5]\n",
        "\n",
        "        X_test = X1_test\\\n",
        "            .assign(X2_summed=get_x2_summed(X2_test))\\\n",
        "            .assign(X3_summed_dernomalized=X3_test_summed)\\\n",
        "            .assign(X3_non_zero_count=(X3_test.drop('id',axis=1) != 0).sum(axis=1))\\\n",
        "            .assign(X3_mean=X3_test.drop('id', axis=1).mean(axis=1))\\\n",
        "            .merge(select_X3_test, on='id')\\\n",
        "            .merge(select_X2_test, on='id')\n",
        "\n",
        "        model.fit(X_train, y_train)\n",
        "        proba = model.predict_proba(X_test)[:, 1]\n",
        "\n",
        "        probas.append(proba)\n",
        "\n",
        "    final_probes.append(np.array(probas).mean(axis=0))"
      ],
      "execution_count": 0,
      "outputs": [
        {
          "output_type": "stream",
          "text": [
            "/usr/local/lib/python3.6/dist-packages/scipy/sparse/_index.py:127: SparseEfficiencyWarning: Changing the sparsity structure of a csr_matrix is expensive. lil_matrix is more efficient.\n",
            "  self._set_arrayXarray(i, j, x)\n"
          ],
          "name": "stderr"
        },
        {
          "output_type": "stream",
          "text": [
            "X3 selected!\n",
            "X2 selected!\n"
          ],
          "name": "stdout"
        },
        {
          "output_type": "stream",
          "text": [
            "/usr/local/lib/python3.6/dist-packages/scipy/sparse/_index.py:127: SparseEfficiencyWarning: Changing the sparsity structure of a csr_matrix is expensive. lil_matrix is more efficient.\n",
            "  self._set_arrayXarray(i, j, x)\n",
            "/usr/local/lib/python3.6/dist-packages/scipy/sparse/_index.py:127: SparseEfficiencyWarning: Changing the sparsity structure of a csr_matrix is expensive. lil_matrix is more efficient.\n",
            "  self._set_arrayXarray(i, j, x)\n"
          ],
          "name": "stderr"
        },
        {
          "output_type": "stream",
          "text": [
            "X3 selected!\n",
            "X2 selected!\n"
          ],
          "name": "stdout"
        },
        {
          "output_type": "stream",
          "text": [
            "/usr/local/lib/python3.6/dist-packages/scipy/sparse/_index.py:127: SparseEfficiencyWarning: Changing the sparsity structure of a csr_matrix is expensive. lil_matrix is more efficient.\n",
            "  self._set_arrayXarray(i, j, x)\n",
            "/usr/local/lib/python3.6/dist-packages/scipy/sparse/_index.py:127: SparseEfficiencyWarning: Changing the sparsity structure of a csr_matrix is expensive. lil_matrix is more efficient.\n",
            "  self._set_arrayXarray(i, j, x)\n"
          ],
          "name": "stderr"
        },
        {
          "output_type": "stream",
          "text": [
            "X3 selected!\n",
            "X2 selected!\n"
          ],
          "name": "stdout"
        },
        {
          "output_type": "stream",
          "text": [
            "/usr/local/lib/python3.6/dist-packages/scipy/sparse/_index.py:127: SparseEfficiencyWarning: Changing the sparsity structure of a csr_matrix is expensive. lil_matrix is more efficient.\n",
            "  self._set_arrayXarray(i, j, x)\n",
            "/usr/local/lib/python3.6/dist-packages/scipy/sparse/_index.py:127: SparseEfficiencyWarning: Changing the sparsity structure of a csr_matrix is expensive. lil_matrix is more efficient.\n",
            "  self._set_arrayXarray(i, j, x)\n"
          ],
          "name": "stderr"
        },
        {
          "output_type": "stream",
          "text": [
            "X3 selected!\n",
            "X2 selected!\n"
          ],
          "name": "stdout"
        },
        {
          "output_type": "stream",
          "text": [
            "/usr/local/lib/python3.6/dist-packages/scipy/sparse/_index.py:127: SparseEfficiencyWarning: Changing the sparsity structure of a csr_matrix is expensive. lil_matrix is more efficient.\n",
            "  self._set_arrayXarray(i, j, x)\n",
            "/usr/local/lib/python3.6/dist-packages/scipy/sparse/_index.py:127: SparseEfficiencyWarning: Changing the sparsity structure of a csr_matrix is expensive. lil_matrix is more efficient.\n",
            "  self._set_arrayXarray(i, j, x)\n"
          ],
          "name": "stderr"
        },
        {
          "output_type": "stream",
          "text": [
            "X3 selected!\n",
            "X2 selected!\n"
          ],
          "name": "stdout"
        },
        {
          "output_type": "stream",
          "text": [
            "/usr/local/lib/python3.6/dist-packages/scipy/sparse/_index.py:127: SparseEfficiencyWarning: Changing the sparsity structure of a csr_matrix is expensive. lil_matrix is more efficient.\n",
            "  self._set_arrayXarray(i, j, x)\n",
            "/usr/local/lib/python3.6/dist-packages/scipy/sparse/_index.py:127: SparseEfficiencyWarning: Changing the sparsity structure of a csr_matrix is expensive. lil_matrix is more efficient.\n",
            "  self._set_arrayXarray(i, j, x)\n",
            " 60%|██████    | 3/5 [01:50<01:13, 36.87s/it]"
          ],
          "name": "stderr"
        },
        {
          "output_type": "stream",
          "text": [
            "X3 selected!\n",
            "X2 selected!\n"
          ],
          "name": "stdout"
        },
        {
          "output_type": "stream",
          "text": [
            "/usr/local/lib/python3.6/dist-packages/scipy/sparse/_index.py:127: SparseEfficiencyWarning: Changing the sparsity structure of a csr_matrix is expensive. lil_matrix is more efficient.\n",
            "  self._set_arrayXarray(i, j, x)\n",
            "/usr/local/lib/python3.6/dist-packages/scipy/sparse/_index.py:127: SparseEfficiencyWarning: Changing the sparsity structure of a csr_matrix is expensive. lil_matrix is more efficient.\n",
            "  self._set_arrayXarray(i, j, x)\n"
          ],
          "name": "stderr"
        },
        {
          "output_type": "stream",
          "text": [
            "X3 selected!\n",
            "X2 selected!\n"
          ],
          "name": "stdout"
        },
        {
          "output_type": "stream",
          "text": [
            "/usr/local/lib/python3.6/dist-packages/scipy/sparse/_index.py:127: SparseEfficiencyWarning: Changing the sparsity structure of a csr_matrix is expensive. lil_matrix is more efficient.\n",
            "  self._set_arrayXarray(i, j, x)\n",
            "/usr/local/lib/python3.6/dist-packages/scipy/sparse/_index.py:127: SparseEfficiencyWarning: Changing the sparsity structure of a csr_matrix is expensive. lil_matrix is more efficient.\n",
            "  self._set_arrayXarray(i, j, x)\n"
          ],
          "name": "stderr"
        },
        {
          "output_type": "stream",
          "text": [
            "X3 selected!\n",
            "X2 selected!\n"
          ],
          "name": "stdout"
        },
        {
          "output_type": "stream",
          "text": [
            "/usr/local/lib/python3.6/dist-packages/scipy/sparse/_index.py:127: SparseEfficiencyWarning: Changing the sparsity structure of a csr_matrix is expensive. lil_matrix is more efficient.\n",
            "  self._set_arrayXarray(i, j, x)\n",
            "/usr/local/lib/python3.6/dist-packages/scipy/sparse/_index.py:127: SparseEfficiencyWarning: Changing the sparsity structure of a csr_matrix is expensive. lil_matrix is more efficient.\n",
            "  self._set_arrayXarray(i, j, x)\n"
          ],
          "name": "stderr"
        },
        {
          "output_type": "stream",
          "text": [
            "X3 selected!\n",
            "X2 selected!\n"
          ],
          "name": "stdout"
        },
        {
          "output_type": "stream",
          "text": [
            "/usr/local/lib/python3.6/dist-packages/scipy/sparse/_index.py:127: SparseEfficiencyWarning: Changing the sparsity structure of a csr_matrix is expensive. lil_matrix is more efficient.\n",
            "  self._set_arrayXarray(i, j, x)\n",
            "/usr/local/lib/python3.6/dist-packages/scipy/sparse/_index.py:127: SparseEfficiencyWarning: Changing the sparsity structure of a csr_matrix is expensive. lil_matrix is more efficient.\n",
            "  self._set_arrayXarray(i, j, x)\n"
          ],
          "name": "stderr"
        },
        {
          "output_type": "stream",
          "text": [
            "X3 selected!\n",
            "X2 selected!\n"
          ],
          "name": "stdout"
        },
        {
          "output_type": "stream",
          "text": [
            "/usr/local/lib/python3.6/dist-packages/scipy/sparse/_index.py:127: SparseEfficiencyWarning: Changing the sparsity structure of a csr_matrix is expensive. lil_matrix is more efficient.\n",
            "  self._set_arrayXarray(i, j, x)\n",
            "/usr/local/lib/python3.6/dist-packages/scipy/sparse/_index.py:127: SparseEfficiencyWarning: Changing the sparsity structure of a csr_matrix is expensive. lil_matrix is more efficient.\n",
            "  self._set_arrayXarray(i, j, x)\n"
          ],
          "name": "stderr"
        },
        {
          "output_type": "stream",
          "text": [
            "X3 selected!\n",
            "X2 selected!\n"
          ],
          "name": "stdout"
        },
        {
          "output_type": "stream",
          "text": [
            "/usr/local/lib/python3.6/dist-packages/scipy/sparse/_index.py:127: SparseEfficiencyWarning: Changing the sparsity structure of a csr_matrix is expensive. lil_matrix is more efficient.\n",
            "  self._set_arrayXarray(i, j, x)\n",
            "/usr/local/lib/python3.6/dist-packages/scipy/sparse/_index.py:127: SparseEfficiencyWarning: Changing the sparsity structure of a csr_matrix is expensive. lil_matrix is more efficient.\n",
            "  self._set_arrayXarray(i, j, x)\n"
          ],
          "name": "stderr"
        },
        {
          "output_type": "stream",
          "text": [
            "X3 selected!\n",
            "X2 selected!\n"
          ],
          "name": "stdout"
        },
        {
          "output_type": "stream",
          "text": [
            "/usr/local/lib/python3.6/dist-packages/scipy/sparse/_index.py:127: SparseEfficiencyWarning: Changing the sparsity structure of a csr_matrix is expensive. lil_matrix is more efficient.\n",
            "  self._set_arrayXarray(i, j, x)\n",
            "/usr/local/lib/python3.6/dist-packages/scipy/sparse/_index.py:127: SparseEfficiencyWarning: Changing the sparsity structure of a csr_matrix is expensive. lil_matrix is more efficient.\n",
            "  self._set_arrayXarray(i, j, x)\n"
          ],
          "name": "stderr"
        },
        {
          "output_type": "stream",
          "text": [
            "X3 selected!\n",
            "X2 selected!\n"
          ],
          "name": "stdout"
        },
        {
          "output_type": "stream",
          "text": [
            "/usr/local/lib/python3.6/dist-packages/scipy/sparse/_index.py:127: SparseEfficiencyWarning: Changing the sparsity structure of a csr_matrix is expensive. lil_matrix is more efficient.\n",
            "  self._set_arrayXarray(i, j, x)\n",
            "/usr/local/lib/python3.6/dist-packages/scipy/sparse/_index.py:127: SparseEfficiencyWarning: Changing the sparsity structure of a csr_matrix is expensive. lil_matrix is more efficient.\n",
            "  self._set_arrayXarray(i, j, x)\n"
          ],
          "name": "stderr"
        },
        {
          "output_type": "stream",
          "text": [
            "X3 selected!\n",
            "X2 selected!\n"
          ],
          "name": "stdout"
        },
        {
          "output_type": "stream",
          "text": [
            "/usr/local/lib/python3.6/dist-packages/scipy/sparse/_index.py:127: SparseEfficiencyWarning: Changing the sparsity structure of a csr_matrix is expensive. lil_matrix is more efficient.\n",
            "  self._set_arrayXarray(i, j, x)\n",
            "/usr/local/lib/python3.6/dist-packages/scipy/sparse/_index.py:127: SparseEfficiencyWarning: Changing the sparsity structure of a csr_matrix is expensive. lil_matrix is more efficient.\n",
            "  self._set_arrayXarray(i, j, x)\n"
          ],
          "name": "stderr"
        },
        {
          "output_type": "stream",
          "text": [
            "X3 selected!\n",
            "X2 selected!\n"
          ],
          "name": "stdout"
        },
        {
          "output_type": "stream",
          "text": [
            "/usr/local/lib/python3.6/dist-packages/scipy/sparse/_index.py:127: SparseEfficiencyWarning: Changing the sparsity structure of a csr_matrix is expensive. lil_matrix is more efficient.\n",
            "  self._set_arrayXarray(i, j, x)\n",
            "/usr/local/lib/python3.6/dist-packages/scipy/sparse/_index.py:127: SparseEfficiencyWarning: Changing the sparsity structure of a csr_matrix is expensive. lil_matrix is more efficient.\n",
            "  self._set_arrayXarray(i, j, x)\n",
            " 80%|████████  | 4/5 [02:28<00:36, 36.96s/it]"
          ],
          "name": "stderr"
        },
        {
          "output_type": "stream",
          "text": [
            "X3 selected!\n",
            "X2 selected!\n"
          ],
          "name": "stdout"
        },
        {
          "output_type": "stream",
          "text": [
            "/usr/local/lib/python3.6/dist-packages/scipy/sparse/_index.py:127: SparseEfficiencyWarning: Changing the sparsity structure of a csr_matrix is expensive. lil_matrix is more efficient.\n",
            "  self._set_arrayXarray(i, j, x)\n",
            "/usr/local/lib/python3.6/dist-packages/scipy/sparse/_index.py:127: SparseEfficiencyWarning: Changing the sparsity structure of a csr_matrix is expensive. lil_matrix is more efficient.\n",
            "  self._set_arrayXarray(i, j, x)\n"
          ],
          "name": "stderr"
        },
        {
          "output_type": "stream",
          "text": [
            "X3 selected!\n",
            "X2 selected!\n"
          ],
          "name": "stdout"
        },
        {
          "output_type": "stream",
          "text": [
            "/usr/local/lib/python3.6/dist-packages/scipy/sparse/_index.py:127: SparseEfficiencyWarning: Changing the sparsity structure of a csr_matrix is expensive. lil_matrix is more efficient.\n",
            "  self._set_arrayXarray(i, j, x)\n",
            "/usr/local/lib/python3.6/dist-packages/scipy/sparse/_index.py:127: SparseEfficiencyWarning: Changing the sparsity structure of a csr_matrix is expensive. lil_matrix is more efficient.\n",
            "  self._set_arrayXarray(i, j, x)\n"
          ],
          "name": "stderr"
        },
        {
          "output_type": "stream",
          "text": [
            "X3 selected!\n",
            "X2 selected!\n"
          ],
          "name": "stdout"
        },
        {
          "output_type": "stream",
          "text": [
            "/usr/local/lib/python3.6/dist-packages/scipy/sparse/_index.py:127: SparseEfficiencyWarning: Changing the sparsity structure of a csr_matrix is expensive. lil_matrix is more efficient.\n",
            "  self._set_arrayXarray(i, j, x)\n",
            "/usr/local/lib/python3.6/dist-packages/scipy/sparse/_index.py:127: SparseEfficiencyWarning: Changing the sparsity structure of a csr_matrix is expensive. lil_matrix is more efficient.\n",
            "  self._set_arrayXarray(i, j, x)\n"
          ],
          "name": "stderr"
        },
        {
          "output_type": "stream",
          "text": [
            "X3 selected!\n",
            "X2 selected!\n"
          ],
          "name": "stdout"
        },
        {
          "output_type": "stream",
          "text": [
            "/usr/local/lib/python3.6/dist-packages/scipy/sparse/_index.py:127: SparseEfficiencyWarning: Changing the sparsity structure of a csr_matrix is expensive. lil_matrix is more efficient.\n",
            "  self._set_arrayXarray(i, j, x)\n",
            "/usr/local/lib/python3.6/dist-packages/scipy/sparse/_index.py:127: SparseEfficiencyWarning: Changing the sparsity structure of a csr_matrix is expensive. lil_matrix is more efficient.\n",
            "  self._set_arrayXarray(i, j, x)\n"
          ],
          "name": "stderr"
        },
        {
          "output_type": "stream",
          "text": [
            "X3 selected!\n",
            "X2 selected!\n"
          ],
          "name": "stdout"
        },
        {
          "output_type": "stream",
          "text": [
            "/usr/local/lib/python3.6/dist-packages/scipy/sparse/_index.py:127: SparseEfficiencyWarning: Changing the sparsity structure of a csr_matrix is expensive. lil_matrix is more efficient.\n",
            "  self._set_arrayXarray(i, j, x)\n",
            "/usr/local/lib/python3.6/dist-packages/scipy/sparse/_index.py:127: SparseEfficiencyWarning: Changing the sparsity structure of a csr_matrix is expensive. lil_matrix is more efficient.\n",
            "  self._set_arrayXarray(i, j, x)\n"
          ],
          "name": "stderr"
        },
        {
          "output_type": "stream",
          "text": [
            "X3 selected!\n",
            "X2 selected!\n"
          ],
          "name": "stdout"
        },
        {
          "output_type": "stream",
          "text": [
            "/usr/local/lib/python3.6/dist-packages/scipy/sparse/_index.py:127: SparseEfficiencyWarning: Changing the sparsity structure of a csr_matrix is expensive. lil_matrix is more efficient.\n",
            "  self._set_arrayXarray(i, j, x)\n",
            "/usr/local/lib/python3.6/dist-packages/scipy/sparse/_index.py:127: SparseEfficiencyWarning: Changing the sparsity structure of a csr_matrix is expensive. lil_matrix is more efficient.\n",
            "  self._set_arrayXarray(i, j, x)\n"
          ],
          "name": "stderr"
        },
        {
          "output_type": "stream",
          "text": [
            "X3 selected!\n",
            "X2 selected!\n"
          ],
          "name": "stdout"
        },
        {
          "output_type": "stream",
          "text": [
            "/usr/local/lib/python3.6/dist-packages/scipy/sparse/_index.py:127: SparseEfficiencyWarning: Changing the sparsity structure of a csr_matrix is expensive. lil_matrix is more efficient.\n",
            "  self._set_arrayXarray(i, j, x)\n",
            "/usr/local/lib/python3.6/dist-packages/scipy/sparse/_index.py:127: SparseEfficiencyWarning: Changing the sparsity structure of a csr_matrix is expensive. lil_matrix is more efficient.\n",
            "  self._set_arrayXarray(i, j, x)\n"
          ],
          "name": "stderr"
        },
        {
          "output_type": "stream",
          "text": [
            "X3 selected!\n",
            "X2 selected!\n"
          ],
          "name": "stdout"
        },
        {
          "output_type": "stream",
          "text": [
            "/usr/local/lib/python3.6/dist-packages/scipy/sparse/_index.py:127: SparseEfficiencyWarning: Changing the sparsity structure of a csr_matrix is expensive. lil_matrix is more efficient.\n",
            "  self._set_arrayXarray(i, j, x)\n",
            "/usr/local/lib/python3.6/dist-packages/scipy/sparse/_index.py:127: SparseEfficiencyWarning: Changing the sparsity structure of a csr_matrix is expensive. lil_matrix is more efficient.\n",
            "  self._set_arrayXarray(i, j, x)\n"
          ],
          "name": "stderr"
        },
        {
          "output_type": "stream",
          "text": [
            "X3 selected!\n",
            "X2 selected!\n"
          ],
          "name": "stdout"
        },
        {
          "output_type": "stream",
          "text": [
            "/usr/local/lib/python3.6/dist-packages/scipy/sparse/_index.py:127: SparseEfficiencyWarning: Changing the sparsity structure of a csr_matrix is expensive. lil_matrix is more efficient.\n",
            "  self._set_arrayXarray(i, j, x)\n",
            "/usr/local/lib/python3.6/dist-packages/scipy/sparse/_index.py:127: SparseEfficiencyWarning: Changing the sparsity structure of a csr_matrix is expensive. lil_matrix is more efficient.\n",
            "  self._set_arrayXarray(i, j, x)\n"
          ],
          "name": "stderr"
        },
        {
          "output_type": "stream",
          "text": [
            "X3 selected!\n",
            "X2 selected!\n"
          ],
          "name": "stdout"
        },
        {
          "output_type": "stream",
          "text": [
            "/usr/local/lib/python3.6/dist-packages/scipy/sparse/_index.py:127: SparseEfficiencyWarning: Changing the sparsity structure of a csr_matrix is expensive. lil_matrix is more efficient.\n",
            "  self._set_arrayXarray(i, j, x)\n",
            "/usr/local/lib/python3.6/dist-packages/scipy/sparse/_index.py:127: SparseEfficiencyWarning: Changing the sparsity structure of a csr_matrix is expensive. lil_matrix is more efficient.\n",
            "  self._set_arrayXarray(i, j, x)\n",
            "100%|██████████| 5/5 [03:04<00:00, 36.95s/it]\n"
          ],
          "name": "stderr"
        }
      ]
    },
    {
      "cell_type": "code",
      "metadata": {
        "id": "HeafcL1BJryi",
        "colab_type": "code",
        "colab": {}
      },
      "source": [
        "tmp = pd.DataFrame(final_probes).T\n",
        "baseline = pd.DataFrame(tmp.values, columns=['1', '2', '3', '4', '5'])\n",
        "baseline['id'] = X1_test['id']\n",
        "baseline[['id', '1', '2', '3', '4', '5']].to_csv('feature_selection-xgb-mean_10'+'.csv', index=False)"
      ],
      "execution_count": 0,
      "outputs": []
    },
    {
      "cell_type": "markdown",
      "metadata": {
        "id": "fLMgUO0NLgHR",
        "colab_type": "text"
      },
      "source": [
        "0.57384 :("
      ]
    },
    {
      "cell_type": "markdown",
      "metadata": {
        "id": "PAqraG-fLnLn",
        "colab_type": "text"
      },
      "source": [
        "## Second attempt"
      ]
    },
    {
      "cell_type": "code",
      "metadata": {
        "id": "eqGM_IY3Lp-t",
        "colab_type": "code",
        "outputId": "e8fe831d-2912-4ba6-af4c-af28592f8ef7",
        "colab": {
          "base_uri": "https://localhost:8080/",
          "height": 85
        }
      },
      "source": [
        "X3_train_summed = X3.drop('id', axis=1).multiply(1 / X3[X3 != 0].drop('id', axis=1).min(axis=1), axis=0).sum(axis=1)\n",
        "X3_test_summed = X3_test.drop('id', axis=1).multiply(1 / X3_test[X3_test != 0].drop('id', axis=1).min(axis=1), axis=0).sum(axis=1)\n",
        "\n",
        "X_train = X1\\\n",
        "    .assign(X2_summed=get_x2_summed(X2))\\\n",
        "    .assign(X3_summed_dernomalized=X3_train_summed)\\\n",
        "    .assign(X3_non_zero_count=(X3.drop('id',axis=1) != 0).sum(axis=1))\\\n",
        "    .assign(X3_mean=X3.drop('id', axis=1).mean(axis=1))\\\n",
        "    .merge(X3, on='id')\\\n",
        "    .merge(X2_tranformed, on='id')\\\n",
        "    .merge(Y, on='id', suffixes=('', '_y'),)\\\n",
        "    .iloc[:, :-5]\n",
        "\n",
        "X_test = X1_test\\\n",
        "    .assign(X2_summed=get_x2_summed(X2_test))\\\n",
        "    .assign(X3_summed_dernomalized=X3_test_summed)\\\n",
        "    .assign(X3_non_zero_count=(X3_test.drop('id',axis=1) != 0).sum(axis=1))\\\n",
        "    .assign(X3_mean=X3_test.drop('id', axis=1).mean(axis=1))\\\n",
        "    .merge(X3_test, on='id')\\\n",
        "    .merge(X2_tranformed_test, on='id')"
      ],
      "execution_count": 0,
      "outputs": [
        {
          "output_type": "stream",
          "text": [
            "/usr/local/lib/python3.6/dist-packages/scipy/sparse/_index.py:127: SparseEfficiencyWarning: Changing the sparsity structure of a csr_matrix is expensive. lil_matrix is more efficient.\n",
            "  self._set_arrayXarray(i, j, x)\n",
            "/usr/local/lib/python3.6/dist-packages/scipy/sparse/_index.py:127: SparseEfficiencyWarning: Changing the sparsity structure of a csr_matrix is expensive. lil_matrix is more efficient.\n",
            "  self._set_arrayXarray(i, j, x)\n"
          ],
          "name": "stderr"
        }
      ]
    },
    {
      "cell_type": "code",
      "metadata": {
        "id": "7tdKqQDiNVk_",
        "colab_type": "code",
        "outputId": "d0ce08ca-dbf6-44e4-d153-40ac629d312a",
        "colab": {
          "base_uri": "https://localhost:8080/",
          "height": 34
        }
      },
      "source": [
        "probas = []\n",
        "\n",
        "for target in tqdm('12345'):\n",
        "\n",
        "    y_train = Y[target]\n",
        "\n",
        "    model = xgb.XGBClassifier(n_jobs=8, random_state=rnd, **xgb_params)\n",
        "    selection = SelectFromModel(model, threshold=0.01, prefit=False)\n",
        "    select_X_train = selection.fit_transform(X_train.values, y_train)\n",
        "    select_X_test = selection.transform(X_test.values)\n",
        "\n",
        "    model.fit(select_X_train, y_train)\n",
        "    proba = model.predict_proba(select_X_test)[:, 1]\n",
        "\n",
        "    probas.append(proba)\n",
        "\n",
        "tmp = pd.DataFrame(probas).T\n",
        "baseline = pd.DataFrame(tmp.values, columns=['1', '2', '3', '4', '5'])\n",
        "baseline['id'] = X1_test['id']\n",
        "baseline[['id', '1', '2', '3', '4', '5']].to_csv('feature_selection-xgb'+'.csv', index=False)"
      ],
      "execution_count": 0,
      "outputs": [
        {
          "output_type": "stream",
          "text": [
            "100%|██████████| 5/5 [00:11<00:00,  2.37s/it]\n"
          ],
          "name": "stderr"
        }
      ]
    },
    {
      "cell_type": "code",
      "metadata": {
        "id": "Fsb8GbA8PrD_",
        "colab_type": "code",
        "outputId": "abef05e5-6d99-45a8-8a1e-3ecc91e8ba2f",
        "colab": {
          "base_uri": "https://localhost:8080/",
          "height": 34
        }
      },
      "source": [
        "np.zeros(X_test.shape[0])"
      ],
      "execution_count": 0,
      "outputs": [
        {
          "output_type": "execute_result",
          "data": {
            "text/plain": [
              "(4058,)"
            ]
          },
          "metadata": {
            "tags": []
          },
          "execution_count": 97
        }
      ]
    },
    {
      "cell_type": "code",
      "metadata": {
        "id": "AW-Psi0NMYFv",
        "colab_type": "code",
        "outputId": "291b9752-5abf-447b-8bb2-e8049dad0093",
        "colab": {
          "base_uri": "https://localhost:8080/",
          "height": 986
        }
      },
      "source": [
        "probas = []\n",
        "\n",
        "for target in tqdm('12345'):\n",
        "\n",
        "    y_train = Y[target]\n",
        "\n",
        "    xgb_cls = xgb.XGBClassifier(n_jobs=8, **xgb_params)\n",
        "\n",
        "    lgb_cls = lgb.LGBMClassifier(objective='cross_entropy', n_estimators=300, max_depth=5, learning_rate=0.001)\n",
        "\n",
        "    cat_cls = CatBoostClassifier(verbose=False, task_type=\"GPU\", eval_metric=\"AUC\", n_estimators=300,\n",
        "                            loss_function='Logloss', use_best_model=False)\n",
        "\n",
        "    scores = np.zeros(X_test.shape[0])\n",
        "    for model in tqdm([cat_cls, lgb_cls, xgb_cls]):\n",
        "\n",
        "        selection = SelectFromModel(model, threshold=None, prefit=False)\n",
        "        select_X_train = selection.fit_transform(X_train.values, y_train)\n",
        "        select_X_test = selection.transform(X_test.values)\n",
        "\n",
        "        model.fit(select_X_train, y_train)\n",
        "        proba = model.predict_proba(select_X_test)[:, 1]\n",
        "        scores += proba\n",
        "    scores /= 3\n",
        "    probas.append(scores)\n",
        "\n",
        "tmp = pd.DataFrame(probas).T\n",
        "baseline = pd.DataFrame(tmp.values, columns=['1', '2', '3', '4', '5'])\n",
        "baseline['id'] = X1_test['id']\n",
        "baseline[['id', '1', '2', '3', '4', '5']].to_csv('feature_selection-xgb-cat-lgb'+'.csv', index=False)"
      ],
      "execution_count": 0,
      "outputs": [
        {
          "output_type": "stream",
          "text": [
            "\n",
            "  0%|          | 0/5 [00:00<?, ?it/s]\u001b[A\n",
            "\n",
            "  0%|          | 0/3 [00:00<?, ?it/s]\u001b[A\u001b[A\n",
            "\n",
            " 33%|███▎      | 1/3 [00:13<00:26, 13.18s/it]\u001b[A\u001b[A\n",
            "\n",
            " 67%|██████▋   | 2/3 [00:28<00:13, 13.77s/it]\u001b[A\u001b[A\n",
            "\n",
            "100%|██████████| 3/3 [00:30<00:00, 10.35s/it]\u001b[A\u001b[A\n",
            "\n",
            "\u001b[A\u001b[A\n",
            " 20%|██        | 1/5 [00:30<02:02, 30.71s/it]\u001b[A\n",
            "\n",
            "  0%|          | 0/3 [00:00<?, ?it/s]\u001b[A\u001b[A\n",
            "\n",
            " 33%|███▎      | 1/3 [00:11<00:23, 11.59s/it]\u001b[A\u001b[A\n",
            "\n",
            " 67%|██████▋   | 2/3 [00:26<00:12, 12.62s/it]\u001b[A\u001b[A\n",
            "\n",
            "100%|██████████| 3/3 [00:28<00:00,  9.53s/it]\u001b[A\u001b[A\n",
            "\n",
            "\u001b[A\u001b[A\n",
            " 40%|████      | 2/5 [00:59<01:30, 30.19s/it]\u001b[A\n",
            "\n",
            "  0%|          | 0/3 [00:00<?, ?it/s]\u001b[A\u001b[A\n",
            "\n",
            " 33%|███▎      | 1/3 [00:12<00:24, 12.01s/it]\u001b[A\u001b[A\n",
            "\n",
            " 67%|██████▋   | 2/3 [00:27<00:13, 13.11s/it]\u001b[A\u001b[A\n",
            "\n",
            "100%|██████████| 3/3 [00:30<00:00,  9.89s/it]\u001b[A\u001b[A\n",
            "\n",
            "\u001b[A\u001b[A\n",
            " 60%|██████    | 3/5 [01:29<01:00, 30.16s/it]\u001b[A\n",
            "\n",
            "  0%|          | 0/3 [00:00<?, ?it/s]\u001b[A\u001b[A\n",
            "\n",
            " 33%|███▎      | 1/3 [00:11<00:23, 11.60s/it]\u001b[A\u001b[A\n",
            "\n",
            " 67%|██████▋   | 2/3 [00:26<00:12, 12.45s/it]\u001b[A\u001b[A\n",
            "\n",
            "100%|██████████| 3/3 [00:28<00:00,  9.42s/it]\u001b[A\u001b[A\n",
            "\n",
            "\u001b[A\u001b[A\n",
            " 80%|████████  | 4/5 [01:58<00:29, 29.64s/it]\u001b[A\n",
            "\n",
            "  0%|          | 0/3 [00:00<?, ?it/s]\u001b[A\u001b[A\n",
            "\n",
            " 33%|███▎      | 1/3 [00:11<00:23, 11.74s/it]\u001b[A\u001b[A\n",
            "\n",
            " 67%|██████▋   | 2/3 [00:26<00:12, 12.52s/it]\u001b[A\u001b[A\n",
            "\n",
            "100%|██████████| 3/3 [00:28<00:00,  9.47s/it]\u001b[A\u001b[A\n",
            "\n",
            "\u001b[A\u001b[A\n",
            "100%|██████████| 5/5 [02:26<00:00, 29.29s/it]\u001b[A\n",
            "\u001b[A"
          ],
          "name": "stderr"
        }
      ]
    },
    {
      "cell_type": "code",
      "metadata": {
        "id": "ekIEv6uWO8n3",
        "colab_type": "code",
        "outputId": "010ff5fa-a7af-4c6d-9d5b-9cb263f4b246",
        "colab": {
          "base_uri": "https://localhost:8080/",
          "height": 163
        }
      },
      "source": [
        "eclf.feature_importances_"
      ],
      "execution_count": 0,
      "outputs": [
        {
          "output_type": "error",
          "ename": "AttributeError",
          "evalue": "ignored",
          "traceback": [
            "\u001b[0;31m---------------------------------------------------------------------------\u001b[0m",
            "\u001b[0;31mAttributeError\u001b[0m                            Traceback (most recent call last)",
            "\u001b[0;32m<ipython-input-95-19348135ce5b>\u001b[0m in \u001b[0;36m<module>\u001b[0;34m()\u001b[0m\n\u001b[0;32m----> 1\u001b[0;31m \u001b[0meclf\u001b[0m\u001b[0;34m.\u001b[0m\u001b[0mfeature_importances_\u001b[0m\u001b[0;34m\u001b[0m\u001b[0;34m\u001b[0m\u001b[0m\n\u001b[0m",
            "\u001b[0;31mAttributeError\u001b[0m: 'VotingClassifier' object has no attribute 'feature_importances_'"
          ]
        }
      ]
    }
  ]
}